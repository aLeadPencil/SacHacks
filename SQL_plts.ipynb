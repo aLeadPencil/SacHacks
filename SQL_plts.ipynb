{
 "cells": [
  {
   "cell_type": "code",
   "execution_count": null,
   "metadata": {},
   "outputs": [],
   "source": [
    "import pandas as pd\n",
    "import numpy as np\n",
    "import pandasql as ps\n",
    "from pandasql import sqldf\n",
    "import plotly.express as px"
   ]
  },
  {
   "cell_type": "markdown",
   "metadata": {},
   "source": [
    "# DATASET IS FOR THE WHOLE SEASON\n"
   ]
  },
  {
   "cell_type": "code",
   "execution_count": 54,
   "metadata": {},
   "outputs": [
    {
     "data": {
      "text/html": [
       "<div>\n",
       "<style scoped>\n",
       "    .dataframe tbody tr th:only-of-type {\n",
       "        vertical-align: middle;\n",
       "    }\n",
       "\n",
       "    .dataframe tbody tr th {\n",
       "        vertical-align: top;\n",
       "    }\n",
       "\n",
       "    .dataframe thead th {\n",
       "        text-align: right;\n",
       "    }\n",
       "</style>\n",
       "<table border=\"1\" class=\"dataframe\">\n",
       "  <thead>\n",
       "    <tr style=\"text-align: right;\">\n",
       "      <th></th>\n",
       "      <th>Team_ID</th>\n",
       "      <th>Nickname</th>\n",
       "      <th>Games_Played</th>\n",
       "      <th>Sum_Player_MIN</th>\n",
       "      <th>Team_MIN</th>\n",
       "      <th>Points</th>\n",
       "      <th>Field_Goals</th>\n",
       "      <th>Field_Goals_Attempted</th>\n",
       "      <th>FG%</th>\n",
       "      <th>Three_Pointers</th>\n",
       "      <th>...</th>\n",
       "      <th>Opp_FG%</th>\n",
       "      <th>Opp_3PM</th>\n",
       "      <th>Opp_3PA</th>\n",
       "      <th>Opp_3P%</th>\n",
       "      <th>Opp_OREB</th>\n",
       "      <th>Opp_DREB</th>\n",
       "      <th>Opp_AST</th>\n",
       "      <th>Opp_STL</th>\n",
       "      <th>Opp_TOV</th>\n",
       "      <th>Opp_BLK</th>\n",
       "    </tr>\n",
       "  </thead>\n",
       "  <tbody>\n",
       "    <tr>\n",
       "      <th>0</th>\n",
       "      <td>228</td>\n",
       "      <td>Blazer5 Gaming</td>\n",
       "      <td>16</td>\n",
       "      <td>1950</td>\n",
       "      <td>390</td>\n",
       "      <td>1062</td>\n",
       "      <td>429</td>\n",
       "      <td>729</td>\n",
       "      <td>0.588</td>\n",
       "      <td>135</td>\n",
       "      <td>...</td>\n",
       "      <td>0.532</td>\n",
       "      <td>124</td>\n",
       "      <td>288</td>\n",
       "      <td>0.431</td>\n",
       "      <td>100</td>\n",
       "      <td>168</td>\n",
       "      <td>271</td>\n",
       "      <td>127</td>\n",
       "      <td>213</td>\n",
       "      <td>46</td>\n",
       "    </tr>\n",
       "    <tr>\n",
       "      <th>1</th>\n",
       "      <td>200</td>\n",
       "      <td>76ers GC</td>\n",
       "      <td>16</td>\n",
       "      <td>1920</td>\n",
       "      <td>384</td>\n",
       "      <td>1058</td>\n",
       "      <td>421</td>\n",
       "      <td>726</td>\n",
       "      <td>0.580</td>\n",
       "      <td>165</td>\n",
       "      <td>...</td>\n",
       "      <td>0.554</td>\n",
       "      <td>105</td>\n",
       "      <td>250</td>\n",
       "      <td>0.420</td>\n",
       "      <td>126</td>\n",
       "      <td>170</td>\n",
       "      <td>235</td>\n",
       "      <td>124</td>\n",
       "      <td>177</td>\n",
       "      <td>33</td>\n",
       "    </tr>\n",
       "    <tr>\n",
       "      <th>2</th>\n",
       "      <td>205</td>\n",
       "      <td>Celtics Crossover Gaming</td>\n",
       "      <td>16</td>\n",
       "      <td>1935</td>\n",
       "      <td>387</td>\n",
       "      <td>1071</td>\n",
       "      <td>419</td>\n",
       "      <td>717</td>\n",
       "      <td>0.584</td>\n",
       "      <td>164</td>\n",
       "      <td>...</td>\n",
       "      <td>0.564</td>\n",
       "      <td>129</td>\n",
       "      <td>304</td>\n",
       "      <td>0.424</td>\n",
       "      <td>116</td>\n",
       "      <td>179</td>\n",
       "      <td>255</td>\n",
       "      <td>134</td>\n",
       "      <td>205</td>\n",
       "      <td>35</td>\n",
       "    </tr>\n",
       "    <tr>\n",
       "      <th>3</th>\n",
       "      <td>208</td>\n",
       "      <td>Grizz Gaming</td>\n",
       "      <td>16</td>\n",
       "      <td>1920</td>\n",
       "      <td>384</td>\n",
       "      <td>997</td>\n",
       "      <td>406</td>\n",
       "      <td>715</td>\n",
       "      <td>0.568</td>\n",
       "      <td>120</td>\n",
       "      <td>...</td>\n",
       "      <td>0.546</td>\n",
       "      <td>131</td>\n",
       "      <td>270</td>\n",
       "      <td>0.485</td>\n",
       "      <td>84</td>\n",
       "      <td>184</td>\n",
       "      <td>234</td>\n",
       "      <td>109</td>\n",
       "      <td>178</td>\n",
       "      <td>27</td>\n",
       "    </tr>\n",
       "    <tr>\n",
       "      <th>4</th>\n",
       "      <td>227</td>\n",
       "      <td>T-Wolves Gaming</td>\n",
       "      <td>16</td>\n",
       "      <td>1920</td>\n",
       "      <td>384</td>\n",
       "      <td>1024</td>\n",
       "      <td>421</td>\n",
       "      <td>693</td>\n",
       "      <td>0.608</td>\n",
       "      <td>122</td>\n",
       "      <td>...</td>\n",
       "      <td>0.535</td>\n",
       "      <td>127</td>\n",
       "      <td>282</td>\n",
       "      <td>0.450</td>\n",
       "      <td>115</td>\n",
       "      <td>166</td>\n",
       "      <td>233</td>\n",
       "      <td>126</td>\n",
       "      <td>186</td>\n",
       "      <td>25</td>\n",
       "    </tr>\n",
       "  </tbody>\n",
       "</table>\n",
       "<p>5 rows × 32 columns</p>\n",
       "</div>"
      ],
      "text/plain": [
       "   Team_ID                  Nickname  Games_Played  Sum_Player_MIN  Team_MIN  \\\n",
       "0      228            Blazer5 Gaming            16            1950       390   \n",
       "1      200                  76ers GC            16            1920       384   \n",
       "2      205  Celtics Crossover Gaming            16            1935       387   \n",
       "3      208              Grizz Gaming            16            1920       384   \n",
       "4      227           T-Wolves Gaming            16            1920       384   \n",
       "\n",
       "   Points  Field_Goals  Field_Goals_Attempted    FG%  Three_Pointers   ...     \\\n",
       "0    1062          429                    729  0.588             135   ...      \n",
       "1    1058          421                    726  0.580             165   ...      \n",
       "2    1071          419                    717  0.584             164   ...      \n",
       "3     997          406                    715  0.568             120   ...      \n",
       "4    1024          421                    693  0.608             122   ...      \n",
       "\n",
       "   Opp_FG%  Opp_3PM  Opp_3PA  Opp_3P%  Opp_OREB  Opp_DREB  Opp_AST  Opp_STL  \\\n",
       "0    0.532      124      288    0.431       100       168      271      127   \n",
       "1    0.554      105      250    0.420       126       170      235      124   \n",
       "2    0.564      129      304    0.424       116       179      255      134   \n",
       "3    0.546      131      270    0.485        84       184      234      109   \n",
       "4    0.535      127      282    0.450       115       166      233      126   \n",
       "\n",
       "   Opp_TOV  Opp_BLK  \n",
       "0      213       46  \n",
       "1      177       33  \n",
       "2      205       35  \n",
       "3      178       27  \n",
       "4      186       25  \n",
       "\n",
       "[5 rows x 32 columns]"
      ]
     },
     "execution_count": 54,
     "metadata": {},
     "output_type": "execute_result"
    }
   ],
   "source": [
    "teams = pd.read_excel(\"2KL Team Stats.xlsx\")\n",
    "players = pd.read_excel(\"2K Player Stats.xlsx\")\n",
    "teams.head()"
   ]
  },
  {
   "cell_type": "code",
   "execution_count": 61,
   "metadata": {},
   "outputs": [
    {
     "data": {
      "text/html": [
       "<div>\n",
       "<style scoped>\n",
       "    .dataframe tbody tr th:only-of-type {\n",
       "        vertical-align: middle;\n",
       "    }\n",
       "\n",
       "    .dataframe tbody tr th {\n",
       "        vertical-align: top;\n",
       "    }\n",
       "\n",
       "    .dataframe thead th {\n",
       "        text-align: right;\n",
       "    }\n",
       "</style>\n",
       "<table border=\"1\" class=\"dataframe\">\n",
       "  <thead>\n",
       "    <tr style=\"text-align: right;\">\n",
       "      <th></th>\n",
       "      <th>Nickname</th>\n",
       "      <th>Points</th>\n",
       "      <th>Offensive_Rebounds</th>\n",
       "      <th>Defensive_Rebounds</th>\n",
       "      <th>Assists</th>\n",
       "      <th>Steals</th>\n",
       "      <th>Turnovers</th>\n",
       "    </tr>\n",
       "  </thead>\n",
       "  <tbody>\n",
       "    <tr>\n",
       "      <th>0</th>\n",
       "      <td>Blazer5 Gaming</td>\n",
       "      <td>1062</td>\n",
       "      <td>117</td>\n",
       "      <td>192</td>\n",
       "      <td>265</td>\n",
       "      <td>165</td>\n",
       "      <td>164</td>\n",
       "    </tr>\n",
       "    <tr>\n",
       "      <th>1</th>\n",
       "      <td>76ers GC</td>\n",
       "      <td>1058</td>\n",
       "      <td>125</td>\n",
       "      <td>166</td>\n",
       "      <td>289</td>\n",
       "      <td>152</td>\n",
       "      <td>149</td>\n",
       "    </tr>\n",
       "    <tr>\n",
       "      <th>2</th>\n",
       "      <td>Celtics Crossover Gaming</td>\n",
       "      <td>1071</td>\n",
       "      <td>107</td>\n",
       "      <td>171</td>\n",
       "      <td>277</td>\n",
       "      <td>172</td>\n",
       "      <td>164</td>\n",
       "    </tr>\n",
       "    <tr>\n",
       "      <th>3</th>\n",
       "      <td>Grizz Gaming</td>\n",
       "      <td>997</td>\n",
       "      <td>118</td>\n",
       "      <td>193</td>\n",
       "      <td>250</td>\n",
       "      <td>132</td>\n",
       "      <td>149</td>\n",
       "    </tr>\n",
       "    <tr>\n",
       "      <th>4</th>\n",
       "      <td>T-Wolves Gaming</td>\n",
       "      <td>1024</td>\n",
       "      <td>94</td>\n",
       "      <td>197</td>\n",
       "      <td>291</td>\n",
       "      <td>145</td>\n",
       "      <td>166</td>\n",
       "    </tr>\n",
       "  </tbody>\n",
       "</table>\n",
       "</div>"
      ],
      "text/plain": [
       "                   Nickname  Points  Offensive_Rebounds  Defensive_Rebounds  \\\n",
       "0            Blazer5 Gaming    1062                 117                 192   \n",
       "1                  76ers GC    1058                 125                 166   \n",
       "2  Celtics Crossover Gaming    1071                 107                 171   \n",
       "3              Grizz Gaming     997                 118                 193   \n",
       "4           T-Wolves Gaming    1024                  94                 197   \n",
       "\n",
       "   Assists  Steals  Turnovers  \n",
       "0      265     165        164  \n",
       "1      289     152        149  \n",
       "2      277     172        164  \n",
       "3      250     132        149  \n",
       "4      291     145        166  "
      ]
     },
     "execution_count": 61,
     "metadata": {},
     "output_type": "execute_result"
    }
   ],
   "source": [
    "pysqldf = lambda q: sqldf(q,globals())\n",
    "q1 = '''\n",
    "     SELECT Nickname,Points,Offensive_Rebounds,Defensive_Rebounds,Assists,Steals,Turnovers\n",
    "     FROM teams\n",
    "    '''\n",
    "main_cats = pysqldf(q1)\n",
    "main_cats.head()"
   ]
  },
  {
   "cell_type": "code",
   "execution_count": 62,
   "metadata": {},
   "outputs": [],
   "source": [
    "pts = pysqldf('''\n",
    "        SELECT Nickname,Points FROM main_cats ORDER BY Points Desc\n",
    "        ''')\n"
   ]
  },
  {
   "cell_type": "code",
   "execution_count": 63,
   "metadata": {},
   "outputs": [],
   "source": [
    "def barplt_teams(data,feat):\n",
    "    fig = px.bar(data, x='Nickname', y=str(feat))\n",
    "    fig.show()\n",
    "def barplt_players(data,feat):\n",
    "    fig = px.bar(data, x='Player', y=str(feat))\n",
    "    fig.show()\n"
   ]
  },
  {
   "cell_type": "code",
   "execution_count": 67,
   "metadata": {},
   "outputs": [
    {
     "data": {
      "text/html": [
       "<div>\n",
       "<style scoped>\n",
       "    .dataframe tbody tr th:only-of-type {\n",
       "        vertical-align: middle;\n",
       "    }\n",
       "\n",
       "    .dataframe tbody tr th {\n",
       "        vertical-align: top;\n",
       "    }\n",
       "\n",
       "    .dataframe thead th {\n",
       "        text-align: right;\n",
       "    }\n",
       "</style>\n",
       "<table border=\"1\" class=\"dataframe\">\n",
       "  <thead>\n",
       "    <tr style=\"text-align: right;\">\n",
       "      <th></th>\n",
       "      <th>Player</th>\n",
       "      <th>Team</th>\n",
       "      <th>CareerHighPTS</th>\n",
       "    </tr>\n",
       "  </thead>\n",
       "  <tbody>\n",
       "    <tr>\n",
       "      <th>0</th>\n",
       "      <td>AuthenticAfrican</td>\n",
       "      <td>Grizz Gaming</td>\n",
       "      <td>84</td>\n",
       "    </tr>\n",
       "    <tr>\n",
       "      <th>1</th>\n",
       "      <td>Hotshot</td>\n",
       "      <td>Heat Check Gaming</td>\n",
       "      <td>54</td>\n",
       "    </tr>\n",
       "    <tr>\n",
       "      <th>2</th>\n",
       "      <td>ZDS</td>\n",
       "      <td>76ers GC</td>\n",
       "      <td>52</td>\n",
       "    </tr>\n",
       "    <tr>\n",
       "      <th>3</th>\n",
       "      <td>ReeseDaGod</td>\n",
       "      <td>Wizards District Gaming</td>\n",
       "      <td>49</td>\n",
       "    </tr>\n",
       "    <tr>\n",
       "      <th>4</th>\n",
       "      <td>Bp</td>\n",
       "      <td>Kings Guard Gaming</td>\n",
       "      <td>46</td>\n",
       "    </tr>\n",
       "  </tbody>\n",
       "</table>\n",
       "</div>"
      ],
      "text/plain": [
       "             Player                     Team  CareerHighPTS\n",
       "0  AuthenticAfrican             Grizz Gaming             84\n",
       "1           Hotshot        Heat Check Gaming             54\n",
       "2               ZDS                 76ers GC             52\n",
       "3        ReeseDaGod  Wizards District Gaming             49\n",
       "4                Bp       Kings Guard Gaming             46"
      ]
     },
     "execution_count": 67,
     "metadata": {},
     "output_type": "execute_result"
    }
   ],
   "source": [
    "most_careerpts = pysqldf('''\n",
    "SELECT Player,Team,CareerHighPTS FROM players ORDER BY CareerHighPTS DESC''')\n",
    "most_careerpts.head(n=5) # n could be the number the user wants to observe\n"
   ]
  },
  {
   "cell_type": "code",
   "execution_count": 72,
   "metadata": {
    "collapsed": true
   },
   "outputs": [
    {
     "data": {
      "application/vnd.plotly.v1+json": {
       "config": {
        "plotlyServerURL": "https://plot.ly"
       },
       "data": [
        {
         "alignmentgroup": "True",
         "hoverlabel": {
          "namelength": 0
         },
         "hovertemplate": "Player=%{x}<br>CareerHighPTS=%{y}",
         "legendgroup": "",
         "marker": {
          "color": "#636efa"
         },
         "name": "",
         "offsetgroup": "",
         "orientation": "v",
         "showlegend": false,
         "textposition": "auto",
         "type": "bar",
         "x": [
          "Steez",
          "Newdini33",
          "ZDS",
          "Radiant",
          "oCASSIUS",
          "BreadwinnerLA",
          "OneWildWalnut",
          "Mama Im Dat Man",
          "LavishPhenom",
          "Jomar12 PR",
          "King Peroxide",
          "Daveed 3x",
          "Arooks",
          "BigMeek",
          "chaddynick",
          "RSG",
          "SlayIsland",
          "Plondo",
          "oLarry",
          "LYKaPRO",
          "Savage",
          "Godddof2k",
          "Strainer",
          "oFAB",
          "Mel East",
          "ProFusion",
          "NO xAUTOGRAPHSx",
          "Bulleyy",
          "Suavy",
          "UniversaIPhenom",
          "AuthenticAfrican",
          "DDouble",
          "Jayrod",
          "Vandi",
          "Dat Boy Shotz",
          "XxSTL2LAxX",
          "Arsonal",
          "Jay a FooL",
          "Rando",
          "Hotshot",
          "MaJes7ic",
          "l 24k Dropoff l",
          "ChaChingSingh",
          "Yeah I Compete",
          "Deedz",
          "KevDontMiss",
          "Gliz",
          "Ria",
          "Yusuf_Scarbz",
          "worthingcolt",
          "BalILikeSeem",
          "Bp",
          "Roman",
          "Zakyy610",
          "G O O F Y 7 5 7",
          "Idrisdagoat6",
          "iamadamthe1st",
          "HazzaUK",
          "YEYNotGaming",
          "OriginalMalik",
          "Kontrul",
          "Detoxys",
          "Mootyy",
          "Safiya4ya",
          "Vert",
          "Kev",
          "KingCamRoyalty",
          "TuckerLocksUp",
          "UCMANNY",
          "Reizey",
          "DT",
          "Dimez",
          "GRANT MONSTER",
          "Rux",
          "PeteBeBallin",
          "Mo",
          "Sherm",
          "NateKahl",
          "Shockey",
          "Wavy.zay",
          "Lav",
          "iiTzChas",
          "Shuttles",
          "Swizurk",
          "WoLF 74",
          "Ramo",
          "Lord Beezus",
          "Man_in_a_car",
          "Matty",
          "iiNsaniTTy",
          "Joseph",
          "splashking",
          "May",
          "Jaacko",
          "Kenny Got Work",
          "Doza",
          "KingQuai614",
          "TsJosh",
          "OOC Slim",
          "NachoTraynor",
          "FEAST",
          "TURNUPDEFENSE",
          "BearDaBeast",
          "JoJo",
          "Hood",
          "Sick x 973",
          "All Hail Trey",
          "ToXsiK",
          "DevGoss",
          "Lotty",
          "JMoneyRep817",
          "MrStylez",
          "MOAM",
          "KelMav",
          "Bsmoove",
          "Type",
          "Jin",
          "CB13",
          "Chiquita",
          "Gradient",
          "ReeseDaGod",
          "Dayfri",
          "Demon JT",
          "Gilly",
          "USERPICK",
          "PaulB"
         ],
         "xaxis": "x",
         "y": [
          34,
          31,
          52,
          34,
          36,
          21,
          31,
          32,
          21,
          20,
          39,
          14,
          41,
          27,
          21,
          9,
          13,
          36,
          24,
          23,
          22,
          30,
          42,
          36,
          31,
          35,
          15,
          15,
          8,
          24,
          84,
          20,
          15,
          28,
          33,
          30,
          38,
          24,
          27,
          54,
          25,
          22,
          20,
          41,
          25,
          18,
          26,
          41,
          31,
          39,
          25,
          46,
          9,
          16,
          40,
          27,
          31,
          20,
          13,
          24,
          25,
          22,
          28,
          17,
          31,
          41,
          23,
          33,
          28,
          30,
          29,
          42,
          17,
          20,
          27,
          37,
          15,
          19,
          18,
          30,
          30,
          12,
          15,
          32,
          26,
          27,
          17,
          20,
          31,
          29,
          28,
          30,
          23,
          21,
          34,
          28,
          29,
          26,
          22,
          17,
          33,
          22,
          30,
          18,
          37,
          35,
          26,
          13,
          32,
          31,
          32,
          18,
          30,
          28,
          33,
          22,
          23,
          25,
          9,
          21,
          49,
          31,
          26,
          22,
          25,
          11
         ],
         "yaxis": "y"
        }
       ],
       "layout": {
        "barmode": "relative",
        "legend": {
         "tracegroupgap": 0
        },
        "margin": {
         "t": 60
        },
        "template": {
         "data": {
          "bar": [
           {
            "error_x": {
             "color": "#2a3f5f"
            },
            "error_y": {
             "color": "#2a3f5f"
            },
            "marker": {
             "line": {
              "color": "#E5ECF6",
              "width": 0.5
             }
            },
            "type": "bar"
           }
          ],
          "barpolar": [
           {
            "marker": {
             "line": {
              "color": "#E5ECF6",
              "width": 0.5
             }
            },
            "type": "barpolar"
           }
          ],
          "carpet": [
           {
            "aaxis": {
             "endlinecolor": "#2a3f5f",
             "gridcolor": "white",
             "linecolor": "white",
             "minorgridcolor": "white",
             "startlinecolor": "#2a3f5f"
            },
            "baxis": {
             "endlinecolor": "#2a3f5f",
             "gridcolor": "white",
             "linecolor": "white",
             "minorgridcolor": "white",
             "startlinecolor": "#2a3f5f"
            },
            "type": "carpet"
           }
          ],
          "choropleth": [
           {
            "colorbar": {
             "outlinewidth": 0,
             "ticks": ""
            },
            "type": "choropleth"
           }
          ],
          "contour": [
           {
            "colorbar": {
             "outlinewidth": 0,
             "ticks": ""
            },
            "colorscale": [
             [
              0,
              "#0d0887"
             ],
             [
              0.1111111111111111,
              "#46039f"
             ],
             [
              0.2222222222222222,
              "#7201a8"
             ],
             [
              0.3333333333333333,
              "#9c179e"
             ],
             [
              0.4444444444444444,
              "#bd3786"
             ],
             [
              0.5555555555555556,
              "#d8576b"
             ],
             [
              0.6666666666666666,
              "#ed7953"
             ],
             [
              0.7777777777777778,
              "#fb9f3a"
             ],
             [
              0.8888888888888888,
              "#fdca26"
             ],
             [
              1,
              "#f0f921"
             ]
            ],
            "type": "contour"
           }
          ],
          "contourcarpet": [
           {
            "colorbar": {
             "outlinewidth": 0,
             "ticks": ""
            },
            "type": "contourcarpet"
           }
          ],
          "heatmap": [
           {
            "colorbar": {
             "outlinewidth": 0,
             "ticks": ""
            },
            "colorscale": [
             [
              0,
              "#0d0887"
             ],
             [
              0.1111111111111111,
              "#46039f"
             ],
             [
              0.2222222222222222,
              "#7201a8"
             ],
             [
              0.3333333333333333,
              "#9c179e"
             ],
             [
              0.4444444444444444,
              "#bd3786"
             ],
             [
              0.5555555555555556,
              "#d8576b"
             ],
             [
              0.6666666666666666,
              "#ed7953"
             ],
             [
              0.7777777777777778,
              "#fb9f3a"
             ],
             [
              0.8888888888888888,
              "#fdca26"
             ],
             [
              1,
              "#f0f921"
             ]
            ],
            "type": "heatmap"
           }
          ],
          "heatmapgl": [
           {
            "colorbar": {
             "outlinewidth": 0,
             "ticks": ""
            },
            "colorscale": [
             [
              0,
              "#0d0887"
             ],
             [
              0.1111111111111111,
              "#46039f"
             ],
             [
              0.2222222222222222,
              "#7201a8"
             ],
             [
              0.3333333333333333,
              "#9c179e"
             ],
             [
              0.4444444444444444,
              "#bd3786"
             ],
             [
              0.5555555555555556,
              "#d8576b"
             ],
             [
              0.6666666666666666,
              "#ed7953"
             ],
             [
              0.7777777777777778,
              "#fb9f3a"
             ],
             [
              0.8888888888888888,
              "#fdca26"
             ],
             [
              1,
              "#f0f921"
             ]
            ],
            "type": "heatmapgl"
           }
          ],
          "histogram": [
           {
            "marker": {
             "colorbar": {
              "outlinewidth": 0,
              "ticks": ""
             }
            },
            "type": "histogram"
           }
          ],
          "histogram2d": [
           {
            "colorbar": {
             "outlinewidth": 0,
             "ticks": ""
            },
            "colorscale": [
             [
              0,
              "#0d0887"
             ],
             [
              0.1111111111111111,
              "#46039f"
             ],
             [
              0.2222222222222222,
              "#7201a8"
             ],
             [
              0.3333333333333333,
              "#9c179e"
             ],
             [
              0.4444444444444444,
              "#bd3786"
             ],
             [
              0.5555555555555556,
              "#d8576b"
             ],
             [
              0.6666666666666666,
              "#ed7953"
             ],
             [
              0.7777777777777778,
              "#fb9f3a"
             ],
             [
              0.8888888888888888,
              "#fdca26"
             ],
             [
              1,
              "#f0f921"
             ]
            ],
            "type": "histogram2d"
           }
          ],
          "histogram2dcontour": [
           {
            "colorbar": {
             "outlinewidth": 0,
             "ticks": ""
            },
            "colorscale": [
             [
              0,
              "#0d0887"
             ],
             [
              0.1111111111111111,
              "#46039f"
             ],
             [
              0.2222222222222222,
              "#7201a8"
             ],
             [
              0.3333333333333333,
              "#9c179e"
             ],
             [
              0.4444444444444444,
              "#bd3786"
             ],
             [
              0.5555555555555556,
              "#d8576b"
             ],
             [
              0.6666666666666666,
              "#ed7953"
             ],
             [
              0.7777777777777778,
              "#fb9f3a"
             ],
             [
              0.8888888888888888,
              "#fdca26"
             ],
             [
              1,
              "#f0f921"
             ]
            ],
            "type": "histogram2dcontour"
           }
          ],
          "mesh3d": [
           {
            "colorbar": {
             "outlinewidth": 0,
             "ticks": ""
            },
            "type": "mesh3d"
           }
          ],
          "parcoords": [
           {
            "line": {
             "colorbar": {
              "outlinewidth": 0,
              "ticks": ""
             }
            },
            "type": "parcoords"
           }
          ],
          "pie": [
           {
            "automargin": true,
            "type": "pie"
           }
          ],
          "scatter": [
           {
            "marker": {
             "colorbar": {
              "outlinewidth": 0,
              "ticks": ""
             }
            },
            "type": "scatter"
           }
          ],
          "scatter3d": [
           {
            "line": {
             "colorbar": {
              "outlinewidth": 0,
              "ticks": ""
             }
            },
            "marker": {
             "colorbar": {
              "outlinewidth": 0,
              "ticks": ""
             }
            },
            "type": "scatter3d"
           }
          ],
          "scattercarpet": [
           {
            "marker": {
             "colorbar": {
              "outlinewidth": 0,
              "ticks": ""
             }
            },
            "type": "scattercarpet"
           }
          ],
          "scattergeo": [
           {
            "marker": {
             "colorbar": {
              "outlinewidth": 0,
              "ticks": ""
             }
            },
            "type": "scattergeo"
           }
          ],
          "scattergl": [
           {
            "marker": {
             "colorbar": {
              "outlinewidth": 0,
              "ticks": ""
             }
            },
            "type": "scattergl"
           }
          ],
          "scattermapbox": [
           {
            "marker": {
             "colorbar": {
              "outlinewidth": 0,
              "ticks": ""
             }
            },
            "type": "scattermapbox"
           }
          ],
          "scatterpolar": [
           {
            "marker": {
             "colorbar": {
              "outlinewidth": 0,
              "ticks": ""
             }
            },
            "type": "scatterpolar"
           }
          ],
          "scatterpolargl": [
           {
            "marker": {
             "colorbar": {
              "outlinewidth": 0,
              "ticks": ""
             }
            },
            "type": "scatterpolargl"
           }
          ],
          "scatterternary": [
           {
            "marker": {
             "colorbar": {
              "outlinewidth": 0,
              "ticks": ""
             }
            },
            "type": "scatterternary"
           }
          ],
          "surface": [
           {
            "colorbar": {
             "outlinewidth": 0,
             "ticks": ""
            },
            "colorscale": [
             [
              0,
              "#0d0887"
             ],
             [
              0.1111111111111111,
              "#46039f"
             ],
             [
              0.2222222222222222,
              "#7201a8"
             ],
             [
              0.3333333333333333,
              "#9c179e"
             ],
             [
              0.4444444444444444,
              "#bd3786"
             ],
             [
              0.5555555555555556,
              "#d8576b"
             ],
             [
              0.6666666666666666,
              "#ed7953"
             ],
             [
              0.7777777777777778,
              "#fb9f3a"
             ],
             [
              0.8888888888888888,
              "#fdca26"
             ],
             [
              1,
              "#f0f921"
             ]
            ],
            "type": "surface"
           }
          ],
          "table": [
           {
            "cells": {
             "fill": {
              "color": "#EBF0F8"
             },
             "line": {
              "color": "white"
             }
            },
            "header": {
             "fill": {
              "color": "#C8D4E3"
             },
             "line": {
              "color": "white"
             }
            },
            "type": "table"
           }
          ]
         },
         "layout": {
          "annotationdefaults": {
           "arrowcolor": "#2a3f5f",
           "arrowhead": 0,
           "arrowwidth": 1
          },
          "coloraxis": {
           "colorbar": {
            "outlinewidth": 0,
            "ticks": ""
           }
          },
          "colorscale": {
           "diverging": [
            [
             0,
             "#8e0152"
            ],
            [
             0.1,
             "#c51b7d"
            ],
            [
             0.2,
             "#de77ae"
            ],
            [
             0.3,
             "#f1b6da"
            ],
            [
             0.4,
             "#fde0ef"
            ],
            [
             0.5,
             "#f7f7f7"
            ],
            [
             0.6,
             "#e6f5d0"
            ],
            [
             0.7,
             "#b8e186"
            ],
            [
             0.8,
             "#7fbc41"
            ],
            [
             0.9,
             "#4d9221"
            ],
            [
             1,
             "#276419"
            ]
           ],
           "sequential": [
            [
             0,
             "#0d0887"
            ],
            [
             0.1111111111111111,
             "#46039f"
            ],
            [
             0.2222222222222222,
             "#7201a8"
            ],
            [
             0.3333333333333333,
             "#9c179e"
            ],
            [
             0.4444444444444444,
             "#bd3786"
            ],
            [
             0.5555555555555556,
             "#d8576b"
            ],
            [
             0.6666666666666666,
             "#ed7953"
            ],
            [
             0.7777777777777778,
             "#fb9f3a"
            ],
            [
             0.8888888888888888,
             "#fdca26"
            ],
            [
             1,
             "#f0f921"
            ]
           ],
           "sequentialminus": [
            [
             0,
             "#0d0887"
            ],
            [
             0.1111111111111111,
             "#46039f"
            ],
            [
             0.2222222222222222,
             "#7201a8"
            ],
            [
             0.3333333333333333,
             "#9c179e"
            ],
            [
             0.4444444444444444,
             "#bd3786"
            ],
            [
             0.5555555555555556,
             "#d8576b"
            ],
            [
             0.6666666666666666,
             "#ed7953"
            ],
            [
             0.7777777777777778,
             "#fb9f3a"
            ],
            [
             0.8888888888888888,
             "#fdca26"
            ],
            [
             1,
             "#f0f921"
            ]
           ]
          },
          "colorway": [
           "#636efa",
           "#EF553B",
           "#00cc96",
           "#ab63fa",
           "#FFA15A",
           "#19d3f3",
           "#FF6692",
           "#B6E880",
           "#FF97FF",
           "#FECB52"
          ],
          "font": {
           "color": "#2a3f5f"
          },
          "geo": {
           "bgcolor": "white",
           "lakecolor": "white",
           "landcolor": "#E5ECF6",
           "showlakes": true,
           "showland": true,
           "subunitcolor": "white"
          },
          "hoverlabel": {
           "align": "left"
          },
          "hovermode": "closest",
          "mapbox": {
           "style": "light"
          },
          "paper_bgcolor": "white",
          "plot_bgcolor": "#E5ECF6",
          "polar": {
           "angularaxis": {
            "gridcolor": "white",
            "linecolor": "white",
            "ticks": ""
           },
           "bgcolor": "#E5ECF6",
           "radialaxis": {
            "gridcolor": "white",
            "linecolor": "white",
            "ticks": ""
           }
          },
          "scene": {
           "xaxis": {
            "backgroundcolor": "#E5ECF6",
            "gridcolor": "white",
            "gridwidth": 2,
            "linecolor": "white",
            "showbackground": true,
            "ticks": "",
            "zerolinecolor": "white"
           },
           "yaxis": {
            "backgroundcolor": "#E5ECF6",
            "gridcolor": "white",
            "gridwidth": 2,
            "linecolor": "white",
            "showbackground": true,
            "ticks": "",
            "zerolinecolor": "white"
           },
           "zaxis": {
            "backgroundcolor": "#E5ECF6",
            "gridcolor": "white",
            "gridwidth": 2,
            "linecolor": "white",
            "showbackground": true,
            "ticks": "",
            "zerolinecolor": "white"
           }
          },
          "shapedefaults": {
           "line": {
            "color": "#2a3f5f"
           }
          },
          "ternary": {
           "aaxis": {
            "gridcolor": "white",
            "linecolor": "white",
            "ticks": ""
           },
           "baxis": {
            "gridcolor": "white",
            "linecolor": "white",
            "ticks": ""
           },
           "bgcolor": "#E5ECF6",
           "caxis": {
            "gridcolor": "white",
            "linecolor": "white",
            "ticks": ""
           }
          },
          "title": {
           "x": 0.05
          },
          "xaxis": {
           "automargin": true,
           "gridcolor": "white",
           "linecolor": "white",
           "ticks": "",
           "title": {
            "standoff": 15
           },
           "zerolinecolor": "white",
           "zerolinewidth": 2
          },
          "yaxis": {
           "automargin": true,
           "gridcolor": "white",
           "linecolor": "white",
           "ticks": "",
           "title": {
            "standoff": 15
           },
           "zerolinecolor": "white",
           "zerolinewidth": 2
          }
         }
        },
        "xaxis": {
         "anchor": "y",
         "domain": [
          0,
          1
         ],
         "title": {
          "text": "Player"
         }
        },
        "yaxis": {
         "anchor": "x",
         "domain": [
          0,
          1
         ],
         "title": {
          "text": "CareerHighPTS"
         }
        }
       }
      },
      "text/html": [
       "<div>\n",
       "        \n",
       "        \n",
       "            <div id=\"dde948bd-fede-49a1-84f0-d19a82f751b0\" class=\"plotly-graph-div\" style=\"height:525px; width:100%;\"></div>\n",
       "            <script type=\"text/javascript\">\n",
       "                require([\"plotly\"], function(Plotly) {\n",
       "                    window.PLOTLYENV=window.PLOTLYENV || {};\n",
       "                    \n",
       "                if (document.getElementById(\"dde948bd-fede-49a1-84f0-d19a82f751b0\")) {\n",
       "                    Plotly.newPlot(\n",
       "                        'dde948bd-fede-49a1-84f0-d19a82f751b0',\n",
       "                        [{\"alignmentgroup\": \"True\", \"hoverlabel\": {\"namelength\": 0}, \"hovertemplate\": \"Player=%{x}<br>CareerHighPTS=%{y}\", \"legendgroup\": \"\", \"marker\": {\"color\": \"#636efa\"}, \"name\": \"\", \"offsetgroup\": \"\", \"orientation\": \"v\", \"showlegend\": false, \"textposition\": \"auto\", \"type\": \"bar\", \"x\": [\"Steez\", \"Newdini33\", \"ZDS\", \"Radiant\", \"oCASSIUS\", \"BreadwinnerLA\", \"OneWildWalnut\", \"Mama Im Dat Man\", \"LavishPhenom\", \"Jomar12 PR\", \"King Peroxide\", \"Daveed 3x\", \"Arooks\", \"BigMeek\", \"chaddynick\", \"RSG\", \"SlayIsland\", \"Plondo\", \"oLarry\", \"LYKaPRO\", \"Savage\", \"Godddof2k\", \"Strainer\", \"oFAB\", \"Mel East\", \"ProFusion\", \"NO xAUTOGRAPHSx\", \"Bulleyy\", \"Suavy\", \"UniversaIPhenom\", \"AuthenticAfrican\", \"DDouble\", \"Jayrod\", \"Vandi\", \"Dat Boy Shotz\", \"XxSTL2LAxX\", \"Arsonal\", \"Jay a FooL\", \"Rando\", \"Hotshot\", \"MaJes7ic\", \"l 24k Dropoff l\", \"ChaChingSingh\", \"Yeah I Compete\", \"Deedz\", \"KevDontMiss\", \"Gliz\", \"Ria\", \"Yusuf_Scarbz\", \"worthingcolt\", \"BalILikeSeem\", \"Bp\", \"Roman\", \"Zakyy610\", \"G O O F Y 7 5 7\", \"Idrisdagoat6\", \"iamadamthe1st\", \"HazzaUK\", \"YEYNotGaming\", \"OriginalMalik\", \"Kontrul\", \"Detoxys\", \"Mootyy\", \"Safiya4ya\", \"Vert\", \"Kev\", \"KingCamRoyalty\", \"TuckerLocksUp\", \"UCMANNY\", \"Reizey\", \"DT\", \"Dimez\", \"GRANT MONSTER\", \"Rux\", \"PeteBeBallin\", \"Mo\", \"Sherm\", \"NateKahl\", \"Shockey\", \"Wavy.zay\", \"Lav\", \"iiTzChas\", \"Shuttles\", \"Swizurk\", \"WoLF 74\", \"Ramo\", \"Lord Beezus\", \"Man_in_a_car\", \"Matty\", \"iiNsaniTTy\", \"Joseph\", \"splashking\", \"May\", \"Jaacko\", \"Kenny Got Work\", \"Doza\", \"KingQuai614\", \"TsJosh\", \"OOC Slim\", \"NachoTraynor\", \"FEAST\", \"TURNUPDEFENSE\", \"BearDaBeast\", \"JoJo\", \"Hood\", \"Sick x 973\", \"All Hail Trey\", \"ToXsiK\", \"DevGoss\", \"Lotty\", \"JMoneyRep817\", \"MrStylez\", \"MOAM\", \"KelMav\", \"Bsmoove\", \"Type\", \"Jin\", \"CB13\", \"Chiquita\", \"Gradient\", \"ReeseDaGod\", \"Dayfri\", \"Demon JT\", \"Gilly\", \"USERPICK\", \"PaulB\"], \"xaxis\": \"x\", \"y\": [34, 31, 52, 34, 36, 21, 31, 32, 21, 20, 39, 14, 41, 27, 21, 9, 13, 36, 24, 23, 22, 30, 42, 36, 31, 35, 15, 15, 8, 24, 84, 20, 15, 28, 33, 30, 38, 24, 27, 54, 25, 22, 20, 41, 25, 18, 26, 41, 31, 39, 25, 46, 9, 16, 40, 27, 31, 20, 13, 24, 25, 22, 28, 17, 31, 41, 23, 33, 28, 30, 29, 42, 17, 20, 27, 37, 15, 19, 18, 30, 30, 12, 15, 32, 26, 27, 17, 20, 31, 29, 28, 30, 23, 21, 34, 28, 29, 26, 22, 17, 33, 22, 30, 18, 37, 35, 26, 13, 32, 31, 32, 18, 30, 28, 33, 22, 23, 25, 9, 21, 49, 31, 26, 22, 25, 11], \"yaxis\": \"y\"}],\n",
       "                        {\"barmode\": \"relative\", \"legend\": {\"tracegroupgap\": 0}, \"margin\": {\"t\": 60}, \"template\": {\"data\": {\"bar\": [{\"error_x\": {\"color\": \"#2a3f5f\"}, \"error_y\": {\"color\": \"#2a3f5f\"}, \"marker\": {\"line\": {\"color\": \"#E5ECF6\", \"width\": 0.5}}, \"type\": \"bar\"}], \"barpolar\": [{\"marker\": {\"line\": {\"color\": \"#E5ECF6\", \"width\": 0.5}}, \"type\": \"barpolar\"}], \"carpet\": [{\"aaxis\": {\"endlinecolor\": \"#2a3f5f\", \"gridcolor\": \"white\", \"linecolor\": \"white\", \"minorgridcolor\": \"white\", \"startlinecolor\": \"#2a3f5f\"}, \"baxis\": {\"endlinecolor\": \"#2a3f5f\", \"gridcolor\": \"white\", \"linecolor\": \"white\", \"minorgridcolor\": \"white\", \"startlinecolor\": \"#2a3f5f\"}, \"type\": \"carpet\"}], \"choropleth\": [{\"colorbar\": {\"outlinewidth\": 0, \"ticks\": \"\"}, \"type\": \"choropleth\"}], \"contour\": [{\"colorbar\": {\"outlinewidth\": 0, \"ticks\": \"\"}, \"colorscale\": [[0.0, \"#0d0887\"], [0.1111111111111111, \"#46039f\"], [0.2222222222222222, \"#7201a8\"], [0.3333333333333333, \"#9c179e\"], [0.4444444444444444, \"#bd3786\"], [0.5555555555555556, \"#d8576b\"], [0.6666666666666666, \"#ed7953\"], [0.7777777777777778, \"#fb9f3a\"], [0.8888888888888888, \"#fdca26\"], [1.0, \"#f0f921\"]], \"type\": \"contour\"}], \"contourcarpet\": [{\"colorbar\": {\"outlinewidth\": 0, \"ticks\": \"\"}, \"type\": \"contourcarpet\"}], \"heatmap\": [{\"colorbar\": {\"outlinewidth\": 0, \"ticks\": \"\"}, \"colorscale\": [[0.0, \"#0d0887\"], [0.1111111111111111, \"#46039f\"], [0.2222222222222222, \"#7201a8\"], [0.3333333333333333, \"#9c179e\"], [0.4444444444444444, \"#bd3786\"], [0.5555555555555556, \"#d8576b\"], [0.6666666666666666, \"#ed7953\"], [0.7777777777777778, \"#fb9f3a\"], [0.8888888888888888, \"#fdca26\"], [1.0, \"#f0f921\"]], \"type\": \"heatmap\"}], \"heatmapgl\": [{\"colorbar\": {\"outlinewidth\": 0, \"ticks\": \"\"}, \"colorscale\": [[0.0, \"#0d0887\"], [0.1111111111111111, \"#46039f\"], [0.2222222222222222, \"#7201a8\"], [0.3333333333333333, \"#9c179e\"], [0.4444444444444444, \"#bd3786\"], [0.5555555555555556, \"#d8576b\"], [0.6666666666666666, \"#ed7953\"], [0.7777777777777778, \"#fb9f3a\"], [0.8888888888888888, \"#fdca26\"], [1.0, \"#f0f921\"]], \"type\": \"heatmapgl\"}], \"histogram\": [{\"marker\": {\"colorbar\": {\"outlinewidth\": 0, \"ticks\": \"\"}}, \"type\": \"histogram\"}], \"histogram2d\": [{\"colorbar\": {\"outlinewidth\": 0, \"ticks\": \"\"}, \"colorscale\": [[0.0, \"#0d0887\"], [0.1111111111111111, \"#46039f\"], [0.2222222222222222, \"#7201a8\"], [0.3333333333333333, \"#9c179e\"], [0.4444444444444444, \"#bd3786\"], [0.5555555555555556, \"#d8576b\"], [0.6666666666666666, \"#ed7953\"], [0.7777777777777778, \"#fb9f3a\"], [0.8888888888888888, \"#fdca26\"], [1.0, \"#f0f921\"]], \"type\": \"histogram2d\"}], \"histogram2dcontour\": [{\"colorbar\": {\"outlinewidth\": 0, \"ticks\": \"\"}, \"colorscale\": [[0.0, \"#0d0887\"], [0.1111111111111111, \"#46039f\"], [0.2222222222222222, \"#7201a8\"], [0.3333333333333333, \"#9c179e\"], [0.4444444444444444, \"#bd3786\"], [0.5555555555555556, \"#d8576b\"], [0.6666666666666666, \"#ed7953\"], [0.7777777777777778, \"#fb9f3a\"], [0.8888888888888888, \"#fdca26\"], [1.0, \"#f0f921\"]], \"type\": \"histogram2dcontour\"}], \"mesh3d\": [{\"colorbar\": {\"outlinewidth\": 0, \"ticks\": \"\"}, \"type\": \"mesh3d\"}], \"parcoords\": [{\"line\": {\"colorbar\": {\"outlinewidth\": 0, \"ticks\": \"\"}}, \"type\": \"parcoords\"}], \"pie\": [{\"automargin\": true, \"type\": \"pie\"}], \"scatter\": [{\"marker\": {\"colorbar\": {\"outlinewidth\": 0, \"ticks\": \"\"}}, \"type\": \"scatter\"}], \"scatter3d\": [{\"line\": {\"colorbar\": {\"outlinewidth\": 0, \"ticks\": \"\"}}, \"marker\": {\"colorbar\": {\"outlinewidth\": 0, \"ticks\": \"\"}}, \"type\": \"scatter3d\"}], \"scattercarpet\": [{\"marker\": {\"colorbar\": {\"outlinewidth\": 0, \"ticks\": \"\"}}, \"type\": \"scattercarpet\"}], \"scattergeo\": [{\"marker\": {\"colorbar\": {\"outlinewidth\": 0, \"ticks\": \"\"}}, \"type\": \"scattergeo\"}], \"scattergl\": [{\"marker\": {\"colorbar\": {\"outlinewidth\": 0, \"ticks\": \"\"}}, \"type\": \"scattergl\"}], \"scattermapbox\": [{\"marker\": {\"colorbar\": {\"outlinewidth\": 0, \"ticks\": \"\"}}, \"type\": \"scattermapbox\"}], \"scatterpolar\": [{\"marker\": {\"colorbar\": {\"outlinewidth\": 0, \"ticks\": \"\"}}, \"type\": \"scatterpolar\"}], \"scatterpolargl\": [{\"marker\": {\"colorbar\": {\"outlinewidth\": 0, \"ticks\": \"\"}}, \"type\": \"scatterpolargl\"}], \"scatterternary\": [{\"marker\": {\"colorbar\": {\"outlinewidth\": 0, \"ticks\": \"\"}}, \"type\": \"scatterternary\"}], \"surface\": [{\"colorbar\": {\"outlinewidth\": 0, \"ticks\": \"\"}, \"colorscale\": [[0.0, \"#0d0887\"], [0.1111111111111111, \"#46039f\"], [0.2222222222222222, \"#7201a8\"], [0.3333333333333333, \"#9c179e\"], [0.4444444444444444, \"#bd3786\"], [0.5555555555555556, \"#d8576b\"], [0.6666666666666666, \"#ed7953\"], [0.7777777777777778, \"#fb9f3a\"], [0.8888888888888888, \"#fdca26\"], [1.0, \"#f0f921\"]], \"type\": \"surface\"}], \"table\": [{\"cells\": {\"fill\": {\"color\": \"#EBF0F8\"}, \"line\": {\"color\": \"white\"}}, \"header\": {\"fill\": {\"color\": \"#C8D4E3\"}, \"line\": {\"color\": \"white\"}}, \"type\": \"table\"}]}, \"layout\": {\"annotationdefaults\": {\"arrowcolor\": \"#2a3f5f\", \"arrowhead\": 0, \"arrowwidth\": 1}, \"coloraxis\": {\"colorbar\": {\"outlinewidth\": 0, \"ticks\": \"\"}}, \"colorscale\": {\"diverging\": [[0, \"#8e0152\"], [0.1, \"#c51b7d\"], [0.2, \"#de77ae\"], [0.3, \"#f1b6da\"], [0.4, \"#fde0ef\"], [0.5, \"#f7f7f7\"], [0.6, \"#e6f5d0\"], [0.7, \"#b8e186\"], [0.8, \"#7fbc41\"], [0.9, \"#4d9221\"], [1, \"#276419\"]], \"sequential\": [[0.0, \"#0d0887\"], [0.1111111111111111, \"#46039f\"], [0.2222222222222222, \"#7201a8\"], [0.3333333333333333, \"#9c179e\"], [0.4444444444444444, \"#bd3786\"], [0.5555555555555556, \"#d8576b\"], [0.6666666666666666, \"#ed7953\"], [0.7777777777777778, \"#fb9f3a\"], [0.8888888888888888, \"#fdca26\"], [1.0, \"#f0f921\"]], \"sequentialminus\": [[0.0, \"#0d0887\"], [0.1111111111111111, \"#46039f\"], [0.2222222222222222, \"#7201a8\"], [0.3333333333333333, \"#9c179e\"], [0.4444444444444444, \"#bd3786\"], [0.5555555555555556, \"#d8576b\"], [0.6666666666666666, \"#ed7953\"], [0.7777777777777778, \"#fb9f3a\"], [0.8888888888888888, \"#fdca26\"], [1.0, \"#f0f921\"]]}, \"colorway\": [\"#636efa\", \"#EF553B\", \"#00cc96\", \"#ab63fa\", \"#FFA15A\", \"#19d3f3\", \"#FF6692\", \"#B6E880\", \"#FF97FF\", \"#FECB52\"], \"font\": {\"color\": \"#2a3f5f\"}, \"geo\": {\"bgcolor\": \"white\", \"lakecolor\": \"white\", \"landcolor\": \"#E5ECF6\", \"showlakes\": true, \"showland\": true, \"subunitcolor\": \"white\"}, \"hoverlabel\": {\"align\": \"left\"}, \"hovermode\": \"closest\", \"mapbox\": {\"style\": \"light\"}, \"paper_bgcolor\": \"white\", \"plot_bgcolor\": \"#E5ECF6\", \"polar\": {\"angularaxis\": {\"gridcolor\": \"white\", \"linecolor\": \"white\", \"ticks\": \"\"}, \"bgcolor\": \"#E5ECF6\", \"radialaxis\": {\"gridcolor\": \"white\", \"linecolor\": \"white\", \"ticks\": \"\"}}, \"scene\": {\"xaxis\": {\"backgroundcolor\": \"#E5ECF6\", \"gridcolor\": \"white\", \"gridwidth\": 2, \"linecolor\": \"white\", \"showbackground\": true, \"ticks\": \"\", \"zerolinecolor\": \"white\"}, \"yaxis\": {\"backgroundcolor\": \"#E5ECF6\", \"gridcolor\": \"white\", \"gridwidth\": 2, \"linecolor\": \"white\", \"showbackground\": true, \"ticks\": \"\", \"zerolinecolor\": \"white\"}, \"zaxis\": {\"backgroundcolor\": \"#E5ECF6\", \"gridcolor\": \"white\", \"gridwidth\": 2, \"linecolor\": \"white\", \"showbackground\": true, \"ticks\": \"\", \"zerolinecolor\": \"white\"}}, \"shapedefaults\": {\"line\": {\"color\": \"#2a3f5f\"}}, \"ternary\": {\"aaxis\": {\"gridcolor\": \"white\", \"linecolor\": \"white\", \"ticks\": \"\"}, \"baxis\": {\"gridcolor\": \"white\", \"linecolor\": \"white\", \"ticks\": \"\"}, \"bgcolor\": \"#E5ECF6\", \"caxis\": {\"gridcolor\": \"white\", \"linecolor\": \"white\", \"ticks\": \"\"}}, \"title\": {\"x\": 0.05}, \"xaxis\": {\"automargin\": true, \"gridcolor\": \"white\", \"linecolor\": \"white\", \"ticks\": \"\", \"title\": {\"standoff\": 15}, \"zerolinecolor\": \"white\", \"zerolinewidth\": 2}, \"yaxis\": {\"automargin\": true, \"gridcolor\": \"white\", \"linecolor\": \"white\", \"ticks\": \"\", \"title\": {\"standoff\": 15}, \"zerolinecolor\": \"white\", \"zerolinewidth\": 2}}}, \"xaxis\": {\"anchor\": \"y\", \"domain\": [0.0, 1.0], \"title\": {\"text\": \"Player\"}}, \"yaxis\": {\"anchor\": \"x\", \"domain\": [0.0, 1.0], \"title\": {\"text\": \"CareerHighPTS\"}}},\n",
       "                        {\"responsive\": true}\n",
       "                    ).then(function(){\n",
       "                            \n",
       "var gd = document.getElementById('dde948bd-fede-49a1-84f0-d19a82f751b0');\n",
       "var x = new MutationObserver(function (mutations, observer) {{\n",
       "        var display = window.getComputedStyle(gd).display;\n",
       "        if (!display || display === 'none') {{\n",
       "            console.log([gd, 'removed!']);\n",
       "            Plotly.purge(gd);\n",
       "            observer.disconnect();\n",
       "        }}\n",
       "}});\n",
       "\n",
       "// Listen for the removal of the full notebook cells\n",
       "var notebookContainer = gd.closest('#notebook-container');\n",
       "if (notebookContainer) {{\n",
       "    x.observe(notebookContainer, {childList: true});\n",
       "}}\n",
       "\n",
       "// Listen for the clearing of the current output cell\n",
       "var outputEl = gd.closest('.output');\n",
       "if (outputEl) {{\n",
       "    x.observe(outputEl, {childList: true});\n",
       "}}\n",
       "\n",
       "                        })\n",
       "                };\n",
       "                });\n",
       "            </script>\n",
       "        </div>"
      ]
     },
     "metadata": {},
     "output_type": "display_data"
    }
   ],
   "source": [
    "barplt_players(players,\"CareerHighPTS\")\n"
   ]
  },
  {
   "cell_type": "code",
   "execution_count": 71,
   "metadata": {},
   "outputs": [
    {
     "data": {
      "text/plain": [
       "Index(['Person_id', 'Player', 'Team', 'Season_Type', 'GP', 'Min', 'FGM', 'FGA',\n",
       "       'FG%', 'FG3M', 'FG3A', 'FG3%', 'FTM', 'FTA', 'FT%', 'OREB', 'DREB',\n",
       "       'REB', 'AST', 'PF', 'STL', 'TOV', 'BLK', 'PTS', 'CareerHighPTS', 'eFG%',\n",
       "       'TS%'],\n",
       "      dtype='object')"
      ]
     },
     "execution_count": 71,
     "metadata": {},
     "output_type": "execute_result"
    }
   ],
   "source": [
    "players.columns"
   ]
  },
  {
   "cell_type": "code",
   "execution_count": 73,
   "metadata": {},
   "outputs": [
    {
     "data": {
      "application/vnd.plotly.v1+json": {
       "config": {
        "plotlyServerURL": "https://plot.ly"
       },
       "data": [
        {
         "alignmentgroup": "True",
         "hoverlabel": {
          "namelength": 0
         },
         "hovertemplate": "Player=%{x}<br>STL=%{y}",
         "legendgroup": "",
         "marker": {
          "color": "#636efa"
         },
         "name": "",
         "offsetgroup": "",
         "orientation": "v",
         "showlegend": false,
         "textposition": "auto",
         "type": "bar",
         "x": [
          "Steez",
          "Newdini33",
          "ZDS",
          "Radiant",
          "oCASSIUS",
          "BreadwinnerLA",
          "OneWildWalnut",
          "Mama Im Dat Man",
          "LavishPhenom",
          "Jomar12 PR",
          "King Peroxide",
          "Daveed 3x",
          "Arooks",
          "BigMeek",
          "chaddynick",
          "RSG",
          "SlayIsland",
          "Plondo",
          "oLarry",
          "LYKaPRO",
          "Savage",
          "Godddof2k",
          "Strainer",
          "oFAB",
          "Mel East",
          "ProFusion",
          "NO xAUTOGRAPHSx",
          "Bulleyy",
          "Suavy",
          "UniversaIPhenom",
          "AuthenticAfrican",
          "DDouble",
          "Jayrod",
          "Vandi",
          "Dat Boy Shotz",
          "XxSTL2LAxX",
          "Arsonal",
          "Jay a FooL",
          "Rando",
          "Hotshot",
          "MaJes7ic",
          "l 24k Dropoff l",
          "ChaChingSingh",
          "Yeah I Compete",
          "Deedz",
          "KevDontMiss",
          "Gliz",
          "Ria",
          "Yusuf_Scarbz",
          "worthingcolt",
          "BalILikeSeem",
          "Bp",
          "Roman",
          "Zakyy610",
          "G O O F Y 7 5 7",
          "Idrisdagoat6",
          "iamadamthe1st",
          "HazzaUK",
          "YEYNotGaming",
          "OriginalMalik",
          "Kontrul",
          "Detoxys",
          "Mootyy",
          "Safiya4ya",
          "Vert",
          "Kev",
          "KingCamRoyalty",
          "TuckerLocksUp",
          "UCMANNY",
          "Reizey",
          "DT",
          "Dimez",
          "GRANT MONSTER",
          "Rux",
          "PeteBeBallin",
          "Mo",
          "Sherm",
          "NateKahl",
          "Shockey",
          "Wavy.zay",
          "Lav",
          "iiTzChas",
          "Shuttles",
          "Swizurk",
          "WoLF 74",
          "Ramo",
          "Lord Beezus",
          "Man_in_a_car",
          "Matty",
          "iiNsaniTTy",
          "Joseph",
          "splashking",
          "May",
          "Jaacko",
          "Kenny Got Work",
          "Doza",
          "KingQuai614",
          "TsJosh",
          "OOC Slim",
          "NachoTraynor",
          "FEAST",
          "TURNUPDEFENSE",
          "BearDaBeast",
          "JoJo",
          "Hood",
          "Sick x 973",
          "All Hail Trey",
          "ToXsiK",
          "DevGoss",
          "Lotty",
          "JMoneyRep817",
          "MrStylez",
          "MOAM",
          "KelMav",
          "Bsmoove",
          "Type",
          "Jin",
          "CB13",
          "Chiquita",
          "Gradient",
          "ReeseDaGod",
          "Dayfri",
          "Demon JT",
          "Gilly",
          "USERPICK",
          "PaulB"
         ],
         "xaxis": "x",
         "y": [
          29,
          33,
          22,
          21,
          2,
          45,
          35,
          23,
          41,
          14,
          14,
          38,
          30,
          11,
          23,
          6,
          21,
          36,
          35,
          8,
          14,
          57,
          14,
          38,
          41,
          34,
          30,
          24,
          5,
          10,
          39,
          36,
          20,
          15,
          26,
          10,
          33,
          21,
          15,
          36,
          28,
          27,
          11,
          4,
          36,
          6,
          23,
          35,
          28,
          22,
          17,
          23,
          0,
          29,
          24,
          23,
          18,
          32,
          8,
          30,
          17,
          16,
          29,
          12,
          25,
          33,
          21,
          4,
          24,
          9,
          43,
          22,
          2,
          20,
          38,
          20,
          31,
          41,
          22,
          17,
          15,
          1,
          39,
          15,
          30,
          33,
          24,
          9,
          8,
          23,
          26,
          20,
          18,
          8,
          27,
          11,
          47,
          27,
          12,
          1,
          41,
          37,
          17,
          27,
          24,
          37,
          20,
          26,
          29,
          37,
          24,
          19,
          24,
          8,
          26,
          34,
          19,
          17,
          4,
          44,
          25,
          26,
          15,
          16,
          40,
          9
         ],
         "yaxis": "y"
        }
       ],
       "layout": {
        "barmode": "relative",
        "legend": {
         "tracegroupgap": 0
        },
        "margin": {
         "t": 60
        },
        "template": {
         "data": {
          "bar": [
           {
            "error_x": {
             "color": "#2a3f5f"
            },
            "error_y": {
             "color": "#2a3f5f"
            },
            "marker": {
             "line": {
              "color": "#E5ECF6",
              "width": 0.5
             }
            },
            "type": "bar"
           }
          ],
          "barpolar": [
           {
            "marker": {
             "line": {
              "color": "#E5ECF6",
              "width": 0.5
             }
            },
            "type": "barpolar"
           }
          ],
          "carpet": [
           {
            "aaxis": {
             "endlinecolor": "#2a3f5f",
             "gridcolor": "white",
             "linecolor": "white",
             "minorgridcolor": "white",
             "startlinecolor": "#2a3f5f"
            },
            "baxis": {
             "endlinecolor": "#2a3f5f",
             "gridcolor": "white",
             "linecolor": "white",
             "minorgridcolor": "white",
             "startlinecolor": "#2a3f5f"
            },
            "type": "carpet"
           }
          ],
          "choropleth": [
           {
            "colorbar": {
             "outlinewidth": 0,
             "ticks": ""
            },
            "type": "choropleth"
           }
          ],
          "contour": [
           {
            "colorbar": {
             "outlinewidth": 0,
             "ticks": ""
            },
            "colorscale": [
             [
              0,
              "#0d0887"
             ],
             [
              0.1111111111111111,
              "#46039f"
             ],
             [
              0.2222222222222222,
              "#7201a8"
             ],
             [
              0.3333333333333333,
              "#9c179e"
             ],
             [
              0.4444444444444444,
              "#bd3786"
             ],
             [
              0.5555555555555556,
              "#d8576b"
             ],
             [
              0.6666666666666666,
              "#ed7953"
             ],
             [
              0.7777777777777778,
              "#fb9f3a"
             ],
             [
              0.8888888888888888,
              "#fdca26"
             ],
             [
              1,
              "#f0f921"
             ]
            ],
            "type": "contour"
           }
          ],
          "contourcarpet": [
           {
            "colorbar": {
             "outlinewidth": 0,
             "ticks": ""
            },
            "type": "contourcarpet"
           }
          ],
          "heatmap": [
           {
            "colorbar": {
             "outlinewidth": 0,
             "ticks": ""
            },
            "colorscale": [
             [
              0,
              "#0d0887"
             ],
             [
              0.1111111111111111,
              "#46039f"
             ],
             [
              0.2222222222222222,
              "#7201a8"
             ],
             [
              0.3333333333333333,
              "#9c179e"
             ],
             [
              0.4444444444444444,
              "#bd3786"
             ],
             [
              0.5555555555555556,
              "#d8576b"
             ],
             [
              0.6666666666666666,
              "#ed7953"
             ],
             [
              0.7777777777777778,
              "#fb9f3a"
             ],
             [
              0.8888888888888888,
              "#fdca26"
             ],
             [
              1,
              "#f0f921"
             ]
            ],
            "type": "heatmap"
           }
          ],
          "heatmapgl": [
           {
            "colorbar": {
             "outlinewidth": 0,
             "ticks": ""
            },
            "colorscale": [
             [
              0,
              "#0d0887"
             ],
             [
              0.1111111111111111,
              "#46039f"
             ],
             [
              0.2222222222222222,
              "#7201a8"
             ],
             [
              0.3333333333333333,
              "#9c179e"
             ],
             [
              0.4444444444444444,
              "#bd3786"
             ],
             [
              0.5555555555555556,
              "#d8576b"
             ],
             [
              0.6666666666666666,
              "#ed7953"
             ],
             [
              0.7777777777777778,
              "#fb9f3a"
             ],
             [
              0.8888888888888888,
              "#fdca26"
             ],
             [
              1,
              "#f0f921"
             ]
            ],
            "type": "heatmapgl"
           }
          ],
          "histogram": [
           {
            "marker": {
             "colorbar": {
              "outlinewidth": 0,
              "ticks": ""
             }
            },
            "type": "histogram"
           }
          ],
          "histogram2d": [
           {
            "colorbar": {
             "outlinewidth": 0,
             "ticks": ""
            },
            "colorscale": [
             [
              0,
              "#0d0887"
             ],
             [
              0.1111111111111111,
              "#46039f"
             ],
             [
              0.2222222222222222,
              "#7201a8"
             ],
             [
              0.3333333333333333,
              "#9c179e"
             ],
             [
              0.4444444444444444,
              "#bd3786"
             ],
             [
              0.5555555555555556,
              "#d8576b"
             ],
             [
              0.6666666666666666,
              "#ed7953"
             ],
             [
              0.7777777777777778,
              "#fb9f3a"
             ],
             [
              0.8888888888888888,
              "#fdca26"
             ],
             [
              1,
              "#f0f921"
             ]
            ],
            "type": "histogram2d"
           }
          ],
          "histogram2dcontour": [
           {
            "colorbar": {
             "outlinewidth": 0,
             "ticks": ""
            },
            "colorscale": [
             [
              0,
              "#0d0887"
             ],
             [
              0.1111111111111111,
              "#46039f"
             ],
             [
              0.2222222222222222,
              "#7201a8"
             ],
             [
              0.3333333333333333,
              "#9c179e"
             ],
             [
              0.4444444444444444,
              "#bd3786"
             ],
             [
              0.5555555555555556,
              "#d8576b"
             ],
             [
              0.6666666666666666,
              "#ed7953"
             ],
             [
              0.7777777777777778,
              "#fb9f3a"
             ],
             [
              0.8888888888888888,
              "#fdca26"
             ],
             [
              1,
              "#f0f921"
             ]
            ],
            "type": "histogram2dcontour"
           }
          ],
          "mesh3d": [
           {
            "colorbar": {
             "outlinewidth": 0,
             "ticks": ""
            },
            "type": "mesh3d"
           }
          ],
          "parcoords": [
           {
            "line": {
             "colorbar": {
              "outlinewidth": 0,
              "ticks": ""
             }
            },
            "type": "parcoords"
           }
          ],
          "pie": [
           {
            "automargin": true,
            "type": "pie"
           }
          ],
          "scatter": [
           {
            "marker": {
             "colorbar": {
              "outlinewidth": 0,
              "ticks": ""
             }
            },
            "type": "scatter"
           }
          ],
          "scatter3d": [
           {
            "line": {
             "colorbar": {
              "outlinewidth": 0,
              "ticks": ""
             }
            },
            "marker": {
             "colorbar": {
              "outlinewidth": 0,
              "ticks": ""
             }
            },
            "type": "scatter3d"
           }
          ],
          "scattercarpet": [
           {
            "marker": {
             "colorbar": {
              "outlinewidth": 0,
              "ticks": ""
             }
            },
            "type": "scattercarpet"
           }
          ],
          "scattergeo": [
           {
            "marker": {
             "colorbar": {
              "outlinewidth": 0,
              "ticks": ""
             }
            },
            "type": "scattergeo"
           }
          ],
          "scattergl": [
           {
            "marker": {
             "colorbar": {
              "outlinewidth": 0,
              "ticks": ""
             }
            },
            "type": "scattergl"
           }
          ],
          "scattermapbox": [
           {
            "marker": {
             "colorbar": {
              "outlinewidth": 0,
              "ticks": ""
             }
            },
            "type": "scattermapbox"
           }
          ],
          "scatterpolar": [
           {
            "marker": {
             "colorbar": {
              "outlinewidth": 0,
              "ticks": ""
             }
            },
            "type": "scatterpolar"
           }
          ],
          "scatterpolargl": [
           {
            "marker": {
             "colorbar": {
              "outlinewidth": 0,
              "ticks": ""
             }
            },
            "type": "scatterpolargl"
           }
          ],
          "scatterternary": [
           {
            "marker": {
             "colorbar": {
              "outlinewidth": 0,
              "ticks": ""
             }
            },
            "type": "scatterternary"
           }
          ],
          "surface": [
           {
            "colorbar": {
             "outlinewidth": 0,
             "ticks": ""
            },
            "colorscale": [
             [
              0,
              "#0d0887"
             ],
             [
              0.1111111111111111,
              "#46039f"
             ],
             [
              0.2222222222222222,
              "#7201a8"
             ],
             [
              0.3333333333333333,
              "#9c179e"
             ],
             [
              0.4444444444444444,
              "#bd3786"
             ],
             [
              0.5555555555555556,
              "#d8576b"
             ],
             [
              0.6666666666666666,
              "#ed7953"
             ],
             [
              0.7777777777777778,
              "#fb9f3a"
             ],
             [
              0.8888888888888888,
              "#fdca26"
             ],
             [
              1,
              "#f0f921"
             ]
            ],
            "type": "surface"
           }
          ],
          "table": [
           {
            "cells": {
             "fill": {
              "color": "#EBF0F8"
             },
             "line": {
              "color": "white"
             }
            },
            "header": {
             "fill": {
              "color": "#C8D4E3"
             },
             "line": {
              "color": "white"
             }
            },
            "type": "table"
           }
          ]
         },
         "layout": {
          "annotationdefaults": {
           "arrowcolor": "#2a3f5f",
           "arrowhead": 0,
           "arrowwidth": 1
          },
          "coloraxis": {
           "colorbar": {
            "outlinewidth": 0,
            "ticks": ""
           }
          },
          "colorscale": {
           "diverging": [
            [
             0,
             "#8e0152"
            ],
            [
             0.1,
             "#c51b7d"
            ],
            [
             0.2,
             "#de77ae"
            ],
            [
             0.3,
             "#f1b6da"
            ],
            [
             0.4,
             "#fde0ef"
            ],
            [
             0.5,
             "#f7f7f7"
            ],
            [
             0.6,
             "#e6f5d0"
            ],
            [
             0.7,
             "#b8e186"
            ],
            [
             0.8,
             "#7fbc41"
            ],
            [
             0.9,
             "#4d9221"
            ],
            [
             1,
             "#276419"
            ]
           ],
           "sequential": [
            [
             0,
             "#0d0887"
            ],
            [
             0.1111111111111111,
             "#46039f"
            ],
            [
             0.2222222222222222,
             "#7201a8"
            ],
            [
             0.3333333333333333,
             "#9c179e"
            ],
            [
             0.4444444444444444,
             "#bd3786"
            ],
            [
             0.5555555555555556,
             "#d8576b"
            ],
            [
             0.6666666666666666,
             "#ed7953"
            ],
            [
             0.7777777777777778,
             "#fb9f3a"
            ],
            [
             0.8888888888888888,
             "#fdca26"
            ],
            [
             1,
             "#f0f921"
            ]
           ],
           "sequentialminus": [
            [
             0,
             "#0d0887"
            ],
            [
             0.1111111111111111,
             "#46039f"
            ],
            [
             0.2222222222222222,
             "#7201a8"
            ],
            [
             0.3333333333333333,
             "#9c179e"
            ],
            [
             0.4444444444444444,
             "#bd3786"
            ],
            [
             0.5555555555555556,
             "#d8576b"
            ],
            [
             0.6666666666666666,
             "#ed7953"
            ],
            [
             0.7777777777777778,
             "#fb9f3a"
            ],
            [
             0.8888888888888888,
             "#fdca26"
            ],
            [
             1,
             "#f0f921"
            ]
           ]
          },
          "colorway": [
           "#636efa",
           "#EF553B",
           "#00cc96",
           "#ab63fa",
           "#FFA15A",
           "#19d3f3",
           "#FF6692",
           "#B6E880",
           "#FF97FF",
           "#FECB52"
          ],
          "font": {
           "color": "#2a3f5f"
          },
          "geo": {
           "bgcolor": "white",
           "lakecolor": "white",
           "landcolor": "#E5ECF6",
           "showlakes": true,
           "showland": true,
           "subunitcolor": "white"
          },
          "hoverlabel": {
           "align": "left"
          },
          "hovermode": "closest",
          "mapbox": {
           "style": "light"
          },
          "paper_bgcolor": "white",
          "plot_bgcolor": "#E5ECF6",
          "polar": {
           "angularaxis": {
            "gridcolor": "white",
            "linecolor": "white",
            "ticks": ""
           },
           "bgcolor": "#E5ECF6",
           "radialaxis": {
            "gridcolor": "white",
            "linecolor": "white",
            "ticks": ""
           }
          },
          "scene": {
           "xaxis": {
            "backgroundcolor": "#E5ECF6",
            "gridcolor": "white",
            "gridwidth": 2,
            "linecolor": "white",
            "showbackground": true,
            "ticks": "",
            "zerolinecolor": "white"
           },
           "yaxis": {
            "backgroundcolor": "#E5ECF6",
            "gridcolor": "white",
            "gridwidth": 2,
            "linecolor": "white",
            "showbackground": true,
            "ticks": "",
            "zerolinecolor": "white"
           },
           "zaxis": {
            "backgroundcolor": "#E5ECF6",
            "gridcolor": "white",
            "gridwidth": 2,
            "linecolor": "white",
            "showbackground": true,
            "ticks": "",
            "zerolinecolor": "white"
           }
          },
          "shapedefaults": {
           "line": {
            "color": "#2a3f5f"
           }
          },
          "ternary": {
           "aaxis": {
            "gridcolor": "white",
            "linecolor": "white",
            "ticks": ""
           },
           "baxis": {
            "gridcolor": "white",
            "linecolor": "white",
            "ticks": ""
           },
           "bgcolor": "#E5ECF6",
           "caxis": {
            "gridcolor": "white",
            "linecolor": "white",
            "ticks": ""
           }
          },
          "title": {
           "x": 0.05
          },
          "xaxis": {
           "automargin": true,
           "gridcolor": "white",
           "linecolor": "white",
           "ticks": "",
           "title": {
            "standoff": 15
           },
           "zerolinecolor": "white",
           "zerolinewidth": 2
          },
          "yaxis": {
           "automargin": true,
           "gridcolor": "white",
           "linecolor": "white",
           "ticks": "",
           "title": {
            "standoff": 15
           },
           "zerolinecolor": "white",
           "zerolinewidth": 2
          }
         }
        },
        "xaxis": {
         "anchor": "y",
         "domain": [
          0,
          1
         ],
         "title": {
          "text": "Player"
         }
        },
        "yaxis": {
         "anchor": "x",
         "domain": [
          0,
          1
         ],
         "title": {
          "text": "STL"
         }
        }
       }
      },
      "text/html": [
       "<div>\n",
       "        \n",
       "        \n",
       "            <div id=\"e37dc721-c287-4dda-a656-157b0f1bb3bb\" class=\"plotly-graph-div\" style=\"height:525px; width:100%;\"></div>\n",
       "            <script type=\"text/javascript\">\n",
       "                require([\"plotly\"], function(Plotly) {\n",
       "                    window.PLOTLYENV=window.PLOTLYENV || {};\n",
       "                    \n",
       "                if (document.getElementById(\"e37dc721-c287-4dda-a656-157b0f1bb3bb\")) {\n",
       "                    Plotly.newPlot(\n",
       "                        'e37dc721-c287-4dda-a656-157b0f1bb3bb',\n",
       "                        [{\"alignmentgroup\": \"True\", \"hoverlabel\": {\"namelength\": 0}, \"hovertemplate\": \"Player=%{x}<br>STL=%{y}\", \"legendgroup\": \"\", \"marker\": {\"color\": \"#636efa\"}, \"name\": \"\", \"offsetgroup\": \"\", \"orientation\": \"v\", \"showlegend\": false, \"textposition\": \"auto\", \"type\": \"bar\", \"x\": [\"Steez\", \"Newdini33\", \"ZDS\", \"Radiant\", \"oCASSIUS\", \"BreadwinnerLA\", \"OneWildWalnut\", \"Mama Im Dat Man\", \"LavishPhenom\", \"Jomar12 PR\", \"King Peroxide\", \"Daveed 3x\", \"Arooks\", \"BigMeek\", \"chaddynick\", \"RSG\", \"SlayIsland\", \"Plondo\", \"oLarry\", \"LYKaPRO\", \"Savage\", \"Godddof2k\", \"Strainer\", \"oFAB\", \"Mel East\", \"ProFusion\", \"NO xAUTOGRAPHSx\", \"Bulleyy\", \"Suavy\", \"UniversaIPhenom\", \"AuthenticAfrican\", \"DDouble\", \"Jayrod\", \"Vandi\", \"Dat Boy Shotz\", \"XxSTL2LAxX\", \"Arsonal\", \"Jay a FooL\", \"Rando\", \"Hotshot\", \"MaJes7ic\", \"l 24k Dropoff l\", \"ChaChingSingh\", \"Yeah I Compete\", \"Deedz\", \"KevDontMiss\", \"Gliz\", \"Ria\", \"Yusuf_Scarbz\", \"worthingcolt\", \"BalILikeSeem\", \"Bp\", \"Roman\", \"Zakyy610\", \"G O O F Y 7 5 7\", \"Idrisdagoat6\", \"iamadamthe1st\", \"HazzaUK\", \"YEYNotGaming\", \"OriginalMalik\", \"Kontrul\", \"Detoxys\", \"Mootyy\", \"Safiya4ya\", \"Vert\", \"Kev\", \"KingCamRoyalty\", \"TuckerLocksUp\", \"UCMANNY\", \"Reizey\", \"DT\", \"Dimez\", \"GRANT MONSTER\", \"Rux\", \"PeteBeBallin\", \"Mo\", \"Sherm\", \"NateKahl\", \"Shockey\", \"Wavy.zay\", \"Lav\", \"iiTzChas\", \"Shuttles\", \"Swizurk\", \"WoLF 74\", \"Ramo\", \"Lord Beezus\", \"Man_in_a_car\", \"Matty\", \"iiNsaniTTy\", \"Joseph\", \"splashking\", \"May\", \"Jaacko\", \"Kenny Got Work\", \"Doza\", \"KingQuai614\", \"TsJosh\", \"OOC Slim\", \"NachoTraynor\", \"FEAST\", \"TURNUPDEFENSE\", \"BearDaBeast\", \"JoJo\", \"Hood\", \"Sick x 973\", \"All Hail Trey\", \"ToXsiK\", \"DevGoss\", \"Lotty\", \"JMoneyRep817\", \"MrStylez\", \"MOAM\", \"KelMav\", \"Bsmoove\", \"Type\", \"Jin\", \"CB13\", \"Chiquita\", \"Gradient\", \"ReeseDaGod\", \"Dayfri\", \"Demon JT\", \"Gilly\", \"USERPICK\", \"PaulB\"], \"xaxis\": \"x\", \"y\": [29, 33, 22, 21, 2, 45, 35, 23, 41, 14, 14, 38, 30, 11, 23, 6, 21, 36, 35, 8, 14, 57, 14, 38, 41, 34, 30, 24, 5, 10, 39, 36, 20, 15, 26, 10, 33, 21, 15, 36, 28, 27, 11, 4, 36, 6, 23, 35, 28, 22, 17, 23, 0, 29, 24, 23, 18, 32, 8, 30, 17, 16, 29, 12, 25, 33, 21, 4, 24, 9, 43, 22, 2, 20, 38, 20, 31, 41, 22, 17, 15, 1, 39, 15, 30, 33, 24, 9, 8, 23, 26, 20, 18, 8, 27, 11, 47, 27, 12, 1, 41, 37, 17, 27, 24, 37, 20, 26, 29, 37, 24, 19, 24, 8, 26, 34, 19, 17, 4, 44, 25, 26, 15, 16, 40, 9], \"yaxis\": \"y\"}],\n",
       "                        {\"barmode\": \"relative\", \"legend\": {\"tracegroupgap\": 0}, \"margin\": {\"t\": 60}, \"template\": {\"data\": {\"bar\": [{\"error_x\": {\"color\": \"#2a3f5f\"}, \"error_y\": {\"color\": \"#2a3f5f\"}, \"marker\": {\"line\": {\"color\": \"#E5ECF6\", \"width\": 0.5}}, \"type\": \"bar\"}], \"barpolar\": [{\"marker\": {\"line\": {\"color\": \"#E5ECF6\", \"width\": 0.5}}, \"type\": \"barpolar\"}], \"carpet\": [{\"aaxis\": {\"endlinecolor\": \"#2a3f5f\", \"gridcolor\": \"white\", \"linecolor\": \"white\", \"minorgridcolor\": \"white\", \"startlinecolor\": \"#2a3f5f\"}, \"baxis\": {\"endlinecolor\": \"#2a3f5f\", \"gridcolor\": \"white\", \"linecolor\": \"white\", \"minorgridcolor\": \"white\", \"startlinecolor\": \"#2a3f5f\"}, \"type\": \"carpet\"}], \"choropleth\": [{\"colorbar\": {\"outlinewidth\": 0, \"ticks\": \"\"}, \"type\": \"choropleth\"}], \"contour\": [{\"colorbar\": {\"outlinewidth\": 0, \"ticks\": \"\"}, \"colorscale\": [[0.0, \"#0d0887\"], [0.1111111111111111, \"#46039f\"], [0.2222222222222222, \"#7201a8\"], [0.3333333333333333, \"#9c179e\"], [0.4444444444444444, \"#bd3786\"], [0.5555555555555556, \"#d8576b\"], [0.6666666666666666, \"#ed7953\"], [0.7777777777777778, \"#fb9f3a\"], [0.8888888888888888, \"#fdca26\"], [1.0, \"#f0f921\"]], \"type\": \"contour\"}], \"contourcarpet\": [{\"colorbar\": {\"outlinewidth\": 0, \"ticks\": \"\"}, \"type\": \"contourcarpet\"}], \"heatmap\": [{\"colorbar\": {\"outlinewidth\": 0, \"ticks\": \"\"}, \"colorscale\": [[0.0, \"#0d0887\"], [0.1111111111111111, \"#46039f\"], [0.2222222222222222, \"#7201a8\"], [0.3333333333333333, \"#9c179e\"], [0.4444444444444444, \"#bd3786\"], [0.5555555555555556, \"#d8576b\"], [0.6666666666666666, \"#ed7953\"], [0.7777777777777778, \"#fb9f3a\"], [0.8888888888888888, \"#fdca26\"], [1.0, \"#f0f921\"]], \"type\": \"heatmap\"}], \"heatmapgl\": [{\"colorbar\": {\"outlinewidth\": 0, \"ticks\": \"\"}, \"colorscale\": [[0.0, \"#0d0887\"], [0.1111111111111111, \"#46039f\"], [0.2222222222222222, \"#7201a8\"], [0.3333333333333333, \"#9c179e\"], [0.4444444444444444, \"#bd3786\"], [0.5555555555555556, \"#d8576b\"], [0.6666666666666666, \"#ed7953\"], [0.7777777777777778, \"#fb9f3a\"], [0.8888888888888888, \"#fdca26\"], [1.0, \"#f0f921\"]], \"type\": \"heatmapgl\"}], \"histogram\": [{\"marker\": {\"colorbar\": {\"outlinewidth\": 0, \"ticks\": \"\"}}, \"type\": \"histogram\"}], \"histogram2d\": [{\"colorbar\": {\"outlinewidth\": 0, \"ticks\": \"\"}, \"colorscale\": [[0.0, \"#0d0887\"], [0.1111111111111111, \"#46039f\"], [0.2222222222222222, \"#7201a8\"], [0.3333333333333333, \"#9c179e\"], [0.4444444444444444, \"#bd3786\"], [0.5555555555555556, \"#d8576b\"], [0.6666666666666666, \"#ed7953\"], [0.7777777777777778, \"#fb9f3a\"], [0.8888888888888888, \"#fdca26\"], [1.0, \"#f0f921\"]], \"type\": \"histogram2d\"}], \"histogram2dcontour\": [{\"colorbar\": {\"outlinewidth\": 0, \"ticks\": \"\"}, \"colorscale\": [[0.0, \"#0d0887\"], [0.1111111111111111, \"#46039f\"], [0.2222222222222222, \"#7201a8\"], [0.3333333333333333, \"#9c179e\"], [0.4444444444444444, \"#bd3786\"], [0.5555555555555556, \"#d8576b\"], [0.6666666666666666, \"#ed7953\"], [0.7777777777777778, \"#fb9f3a\"], [0.8888888888888888, \"#fdca26\"], [1.0, \"#f0f921\"]], \"type\": \"histogram2dcontour\"}], \"mesh3d\": [{\"colorbar\": {\"outlinewidth\": 0, \"ticks\": \"\"}, \"type\": \"mesh3d\"}], \"parcoords\": [{\"line\": {\"colorbar\": {\"outlinewidth\": 0, \"ticks\": \"\"}}, \"type\": \"parcoords\"}], \"pie\": [{\"automargin\": true, \"type\": \"pie\"}], \"scatter\": [{\"marker\": {\"colorbar\": {\"outlinewidth\": 0, \"ticks\": \"\"}}, \"type\": \"scatter\"}], \"scatter3d\": [{\"line\": {\"colorbar\": {\"outlinewidth\": 0, \"ticks\": \"\"}}, \"marker\": {\"colorbar\": {\"outlinewidth\": 0, \"ticks\": \"\"}}, \"type\": \"scatter3d\"}], \"scattercarpet\": [{\"marker\": {\"colorbar\": {\"outlinewidth\": 0, \"ticks\": \"\"}}, \"type\": \"scattercarpet\"}], \"scattergeo\": [{\"marker\": {\"colorbar\": {\"outlinewidth\": 0, \"ticks\": \"\"}}, \"type\": \"scattergeo\"}], \"scattergl\": [{\"marker\": {\"colorbar\": {\"outlinewidth\": 0, \"ticks\": \"\"}}, \"type\": \"scattergl\"}], \"scattermapbox\": [{\"marker\": {\"colorbar\": {\"outlinewidth\": 0, \"ticks\": \"\"}}, \"type\": \"scattermapbox\"}], \"scatterpolar\": [{\"marker\": {\"colorbar\": {\"outlinewidth\": 0, \"ticks\": \"\"}}, \"type\": \"scatterpolar\"}], \"scatterpolargl\": [{\"marker\": {\"colorbar\": {\"outlinewidth\": 0, \"ticks\": \"\"}}, \"type\": \"scatterpolargl\"}], \"scatterternary\": [{\"marker\": {\"colorbar\": {\"outlinewidth\": 0, \"ticks\": \"\"}}, \"type\": \"scatterternary\"}], \"surface\": [{\"colorbar\": {\"outlinewidth\": 0, \"ticks\": \"\"}, \"colorscale\": [[0.0, \"#0d0887\"], [0.1111111111111111, \"#46039f\"], [0.2222222222222222, \"#7201a8\"], [0.3333333333333333, \"#9c179e\"], [0.4444444444444444, \"#bd3786\"], [0.5555555555555556, \"#d8576b\"], [0.6666666666666666, \"#ed7953\"], [0.7777777777777778, \"#fb9f3a\"], [0.8888888888888888, \"#fdca26\"], [1.0, \"#f0f921\"]], \"type\": \"surface\"}], \"table\": [{\"cells\": {\"fill\": {\"color\": \"#EBF0F8\"}, \"line\": {\"color\": \"white\"}}, \"header\": {\"fill\": {\"color\": \"#C8D4E3\"}, \"line\": {\"color\": \"white\"}}, \"type\": \"table\"}]}, \"layout\": {\"annotationdefaults\": {\"arrowcolor\": \"#2a3f5f\", \"arrowhead\": 0, \"arrowwidth\": 1}, \"coloraxis\": {\"colorbar\": {\"outlinewidth\": 0, \"ticks\": \"\"}}, \"colorscale\": {\"diverging\": [[0, \"#8e0152\"], [0.1, \"#c51b7d\"], [0.2, \"#de77ae\"], [0.3, \"#f1b6da\"], [0.4, \"#fde0ef\"], [0.5, \"#f7f7f7\"], [0.6, \"#e6f5d0\"], [0.7, \"#b8e186\"], [0.8, \"#7fbc41\"], [0.9, \"#4d9221\"], [1, \"#276419\"]], \"sequential\": [[0.0, \"#0d0887\"], [0.1111111111111111, \"#46039f\"], [0.2222222222222222, \"#7201a8\"], [0.3333333333333333, \"#9c179e\"], [0.4444444444444444, \"#bd3786\"], [0.5555555555555556, \"#d8576b\"], [0.6666666666666666, \"#ed7953\"], [0.7777777777777778, \"#fb9f3a\"], [0.8888888888888888, \"#fdca26\"], [1.0, \"#f0f921\"]], \"sequentialminus\": [[0.0, \"#0d0887\"], [0.1111111111111111, \"#46039f\"], [0.2222222222222222, \"#7201a8\"], [0.3333333333333333, \"#9c179e\"], [0.4444444444444444, \"#bd3786\"], [0.5555555555555556, \"#d8576b\"], [0.6666666666666666, \"#ed7953\"], [0.7777777777777778, \"#fb9f3a\"], [0.8888888888888888, \"#fdca26\"], [1.0, \"#f0f921\"]]}, \"colorway\": [\"#636efa\", \"#EF553B\", \"#00cc96\", \"#ab63fa\", \"#FFA15A\", \"#19d3f3\", \"#FF6692\", \"#B6E880\", \"#FF97FF\", \"#FECB52\"], \"font\": {\"color\": \"#2a3f5f\"}, \"geo\": {\"bgcolor\": \"white\", \"lakecolor\": \"white\", \"landcolor\": \"#E5ECF6\", \"showlakes\": true, \"showland\": true, \"subunitcolor\": \"white\"}, \"hoverlabel\": {\"align\": \"left\"}, \"hovermode\": \"closest\", \"mapbox\": {\"style\": \"light\"}, \"paper_bgcolor\": \"white\", \"plot_bgcolor\": \"#E5ECF6\", \"polar\": {\"angularaxis\": {\"gridcolor\": \"white\", \"linecolor\": \"white\", \"ticks\": \"\"}, \"bgcolor\": \"#E5ECF6\", \"radialaxis\": {\"gridcolor\": \"white\", \"linecolor\": \"white\", \"ticks\": \"\"}}, \"scene\": {\"xaxis\": {\"backgroundcolor\": \"#E5ECF6\", \"gridcolor\": \"white\", \"gridwidth\": 2, \"linecolor\": \"white\", \"showbackground\": true, \"ticks\": \"\", \"zerolinecolor\": \"white\"}, \"yaxis\": {\"backgroundcolor\": \"#E5ECF6\", \"gridcolor\": \"white\", \"gridwidth\": 2, \"linecolor\": \"white\", \"showbackground\": true, \"ticks\": \"\", \"zerolinecolor\": \"white\"}, \"zaxis\": {\"backgroundcolor\": \"#E5ECF6\", \"gridcolor\": \"white\", \"gridwidth\": 2, \"linecolor\": \"white\", \"showbackground\": true, \"ticks\": \"\", \"zerolinecolor\": \"white\"}}, \"shapedefaults\": {\"line\": {\"color\": \"#2a3f5f\"}}, \"ternary\": {\"aaxis\": {\"gridcolor\": \"white\", \"linecolor\": \"white\", \"ticks\": \"\"}, \"baxis\": {\"gridcolor\": \"white\", \"linecolor\": \"white\", \"ticks\": \"\"}, \"bgcolor\": \"#E5ECF6\", \"caxis\": {\"gridcolor\": \"white\", \"linecolor\": \"white\", \"ticks\": \"\"}}, \"title\": {\"x\": 0.05}, \"xaxis\": {\"automargin\": true, \"gridcolor\": \"white\", \"linecolor\": \"white\", \"ticks\": \"\", \"title\": {\"standoff\": 15}, \"zerolinecolor\": \"white\", \"zerolinewidth\": 2}, \"yaxis\": {\"automargin\": true, \"gridcolor\": \"white\", \"linecolor\": \"white\", \"ticks\": \"\", \"title\": {\"standoff\": 15}, \"zerolinecolor\": \"white\", \"zerolinewidth\": 2}}}, \"xaxis\": {\"anchor\": \"y\", \"domain\": [0.0, 1.0], \"title\": {\"text\": \"Player\"}}, \"yaxis\": {\"anchor\": \"x\", \"domain\": [0.0, 1.0], \"title\": {\"text\": \"STL\"}}},\n",
       "                        {\"responsive\": true}\n",
       "                    ).then(function(){\n",
       "                            \n",
       "var gd = document.getElementById('e37dc721-c287-4dda-a656-157b0f1bb3bb');\n",
       "var x = new MutationObserver(function (mutations, observer) {{\n",
       "        var display = window.getComputedStyle(gd).display;\n",
       "        if (!display || display === 'none') {{\n",
       "            console.log([gd, 'removed!']);\n",
       "            Plotly.purge(gd);\n",
       "            observer.disconnect();\n",
       "        }}\n",
       "}});\n",
       "\n",
       "// Listen for the removal of the full notebook cells\n",
       "var notebookContainer = gd.closest('#notebook-container');\n",
       "if (notebookContainer) {{\n",
       "    x.observe(notebookContainer, {childList: true});\n",
       "}}\n",
       "\n",
       "// Listen for the clearing of the current output cell\n",
       "var outputEl = gd.closest('.output');\n",
       "if (outputEl) {{\n",
       "    x.observe(outputEl, {childList: true});\n",
       "}}\n",
       "\n",
       "                        })\n",
       "                };\n",
       "                });\n",
       "            </script>\n",
       "        </div>"
      ]
     },
     "metadata": {},
     "output_type": "display_data"
    }
   ],
   "source": [
    "barplt_players(players,\"STL\")"
   ]
  },
  {
   "cell_type": "code",
   "execution_count": 74,
   "metadata": {},
   "outputs": [
    {
     "data": {
      "text/html": [
       "<div>\n",
       "<style scoped>\n",
       "    .dataframe tbody tr th:only-of-type {\n",
       "        vertical-align: middle;\n",
       "    }\n",
       "\n",
       "    .dataframe tbody tr th {\n",
       "        vertical-align: top;\n",
       "    }\n",
       "\n",
       "    .dataframe thead th {\n",
       "        text-align: right;\n",
       "    }\n",
       "</style>\n",
       "<table border=\"1\" class=\"dataframe\">\n",
       "  <thead>\n",
       "    <tr style=\"text-align: right;\">\n",
       "      <th></th>\n",
       "      <th>Person_id</th>\n",
       "      <th>Player</th>\n",
       "      <th>Team</th>\n",
       "      <th>Season_Type</th>\n",
       "      <th>GP</th>\n",
       "      <th>Min</th>\n",
       "      <th>FGM</th>\n",
       "      <th>FGA</th>\n",
       "      <th>FG%</th>\n",
       "      <th>FG3M</th>\n",
       "      <th>...</th>\n",
       "      <th>REB</th>\n",
       "      <th>AST</th>\n",
       "      <th>PF</th>\n",
       "      <th>STL</th>\n",
       "      <th>TOV</th>\n",
       "      <th>BLK</th>\n",
       "      <th>PTS</th>\n",
       "      <th>CareerHighPTS</th>\n",
       "      <th>eFG%</th>\n",
       "      <th>TS%</th>\n",
       "    </tr>\n",
       "  </thead>\n",
       "  <tbody>\n",
       "    <tr>\n",
       "      <th>0</th>\n",
       "      <td>1600003</td>\n",
       "      <td>Steez</td>\n",
       "      <td>76ers GC</td>\n",
       "      <td>Regular</td>\n",
       "      <td>16</td>\n",
       "      <td>384</td>\n",
       "      <td>80</td>\n",
       "      <td>115</td>\n",
       "      <td>0.696</td>\n",
       "      <td>4</td>\n",
       "      <td>...</td>\n",
       "      <td>156</td>\n",
       "      <td>33</td>\n",
       "      <td>30</td>\n",
       "      <td>29</td>\n",
       "      <td>33</td>\n",
       "      <td>10</td>\n",
       "      <td>181</td>\n",
       "      <td>34</td>\n",
       "      <td>0.713</td>\n",
       "      <td>0.713</td>\n",
       "    </tr>\n",
       "    <tr>\n",
       "      <th>1</th>\n",
       "      <td>1600022</td>\n",
       "      <td>Newdini33</td>\n",
       "      <td>76ers GC</td>\n",
       "      <td>Regular</td>\n",
       "      <td>16</td>\n",
       "      <td>384</td>\n",
       "      <td>46</td>\n",
       "      <td>74</td>\n",
       "      <td>0.622</td>\n",
       "      <td>18</td>\n",
       "      <td>...</td>\n",
       "      <td>19</td>\n",
       "      <td>14</td>\n",
       "      <td>32</td>\n",
       "      <td>33</td>\n",
       "      <td>9</td>\n",
       "      <td>4</td>\n",
       "      <td>112</td>\n",
       "      <td>31</td>\n",
       "      <td>0.743</td>\n",
       "      <td>0.748</td>\n",
       "    </tr>\n",
       "    <tr>\n",
       "      <th>2</th>\n",
       "      <td>1600025</td>\n",
       "      <td>ZDS</td>\n",
       "      <td>76ers GC</td>\n",
       "      <td>Regular</td>\n",
       "      <td>16</td>\n",
       "      <td>384</td>\n",
       "      <td>107</td>\n",
       "      <td>199</td>\n",
       "      <td>0.538</td>\n",
       "      <td>60</td>\n",
       "      <td>...</td>\n",
       "      <td>10</td>\n",
       "      <td>32</td>\n",
       "      <td>17</td>\n",
       "      <td>22</td>\n",
       "      <td>19</td>\n",
       "      <td>1</td>\n",
       "      <td>280</td>\n",
       "      <td>52</td>\n",
       "      <td>0.688</td>\n",
       "      <td>0.690</td>\n",
       "    </tr>\n",
       "    <tr>\n",
       "      <th>3</th>\n",
       "      <td>1600097</td>\n",
       "      <td>Radiant</td>\n",
       "      <td>76ers GC</td>\n",
       "      <td>Regular</td>\n",
       "      <td>16</td>\n",
       "      <td>384</td>\n",
       "      <td>123</td>\n",
       "      <td>230</td>\n",
       "      <td>0.535</td>\n",
       "      <td>56</td>\n",
       "      <td>...</td>\n",
       "      <td>9</td>\n",
       "      <td>177</td>\n",
       "      <td>17</td>\n",
       "      <td>21</td>\n",
       "      <td>68</td>\n",
       "      <td>1</td>\n",
       "      <td>320</td>\n",
       "      <td>34</td>\n",
       "      <td>0.657</td>\n",
       "      <td>0.670</td>\n",
       "    </tr>\n",
       "    <tr>\n",
       "      <th>4</th>\n",
       "      <td>1600207</td>\n",
       "      <td>oCASSIUS</td>\n",
       "      <td>76ers GC</td>\n",
       "      <td>Regular</td>\n",
       "      <td>1</td>\n",
       "      <td>24</td>\n",
       "      <td>13</td>\n",
       "      <td>24</td>\n",
       "      <td>0.542</td>\n",
       "      <td>10</td>\n",
       "      <td>...</td>\n",
       "      <td>10</td>\n",
       "      <td>4</td>\n",
       "      <td>0</td>\n",
       "      <td>2</td>\n",
       "      <td>3</td>\n",
       "      <td>0</td>\n",
       "      <td>36</td>\n",
       "      <td>36</td>\n",
       "      <td>0.750</td>\n",
       "      <td>0.750</td>\n",
       "    </tr>\n",
       "    <tr>\n",
       "      <th>5</th>\n",
       "      <td>1600222</td>\n",
       "      <td>BreadwinnerLA</td>\n",
       "      <td>76ers GC</td>\n",
       "      <td>Regular</td>\n",
       "      <td>15</td>\n",
       "      <td>360</td>\n",
       "      <td>52</td>\n",
       "      <td>84</td>\n",
       "      <td>0.619</td>\n",
       "      <td>17</td>\n",
       "      <td>...</td>\n",
       "      <td>87</td>\n",
       "      <td>29</td>\n",
       "      <td>31</td>\n",
       "      <td>45</td>\n",
       "      <td>17</td>\n",
       "      <td>17</td>\n",
       "      <td>129</td>\n",
       "      <td>21</td>\n",
       "      <td>0.720</td>\n",
       "      <td>0.733</td>\n",
       "    </tr>\n",
       "    <tr>\n",
       "      <th>6</th>\n",
       "      <td>1600011</td>\n",
       "      <td>OneWildWalnut</td>\n",
       "      <td>Blazer5 Gaming</td>\n",
       "      <td>Regular</td>\n",
       "      <td>16</td>\n",
       "      <td>390</td>\n",
       "      <td>124</td>\n",
       "      <td>172</td>\n",
       "      <td>0.721</td>\n",
       "      <td>0</td>\n",
       "      <td>...</td>\n",
       "      <td>202</td>\n",
       "      <td>27</td>\n",
       "      <td>26</td>\n",
       "      <td>35</td>\n",
       "      <td>43</td>\n",
       "      <td>7</td>\n",
       "      <td>255</td>\n",
       "      <td>31</td>\n",
       "      <td>0.721</td>\n",
       "      <td>0.719</td>\n",
       "    </tr>\n",
       "    <tr>\n",
       "      <th>7</th>\n",
       "      <td>1600021</td>\n",
       "      <td>Mama Im Dat Man</td>\n",
       "      <td>Blazer5 Gaming</td>\n",
       "      <td>Regular</td>\n",
       "      <td>16</td>\n",
       "      <td>390</td>\n",
       "      <td>132</td>\n",
       "      <td>235</td>\n",
       "      <td>0.562</td>\n",
       "      <td>63</td>\n",
       "      <td>...</td>\n",
       "      <td>18</td>\n",
       "      <td>185</td>\n",
       "      <td>18</td>\n",
       "      <td>23</td>\n",
       "      <td>77</td>\n",
       "      <td>4</td>\n",
       "      <td>369</td>\n",
       "      <td>32</td>\n",
       "      <td>0.696</td>\n",
       "      <td>0.718</td>\n",
       "    </tr>\n",
       "    <tr>\n",
       "      <th>8</th>\n",
       "      <td>1600049</td>\n",
       "      <td>LavishPhenom</td>\n",
       "      <td>Blazer5 Gaming</td>\n",
       "      <td>Regular</td>\n",
       "      <td>16</td>\n",
       "      <td>390</td>\n",
       "      <td>53</td>\n",
       "      <td>92</td>\n",
       "      <td>0.576</td>\n",
       "      <td>15</td>\n",
       "      <td>...</td>\n",
       "      <td>9</td>\n",
       "      <td>11</td>\n",
       "      <td>46</td>\n",
       "      <td>41</td>\n",
       "      <td>8</td>\n",
       "      <td>4</td>\n",
       "      <td>131</td>\n",
       "      <td>21</td>\n",
       "      <td>0.658</td>\n",
       "      <td>0.679</td>\n",
       "    </tr>\n",
       "    <tr>\n",
       "      <th>9</th>\n",
       "      <td>1600095</td>\n",
       "      <td>Jomar12 PR</td>\n",
       "      <td>Blazer5 Gaming</td>\n",
       "      <td>Regular</td>\n",
       "      <td>7</td>\n",
       "      <td>168</td>\n",
       "      <td>32</td>\n",
       "      <td>56</td>\n",
       "      <td>0.571</td>\n",
       "      <td>15</td>\n",
       "      <td>...</td>\n",
       "      <td>18</td>\n",
       "      <td>13</td>\n",
       "      <td>18</td>\n",
       "      <td>14</td>\n",
       "      <td>4</td>\n",
       "      <td>5</td>\n",
       "      <td>81</td>\n",
       "      <td>20</td>\n",
       "      <td>0.705</td>\n",
       "      <td>0.707</td>\n",
       "    </tr>\n",
       "    <tr>\n",
       "      <th>10</th>\n",
       "      <td>1600100</td>\n",
       "      <td>King Peroxide</td>\n",
       "      <td>Blazer5 Gaming</td>\n",
       "      <td>Regular</td>\n",
       "      <td>11</td>\n",
       "      <td>270</td>\n",
       "      <td>55</td>\n",
       "      <td>113</td>\n",
       "      <td>0.487</td>\n",
       "      <td>28</td>\n",
       "      <td>...</td>\n",
       "      <td>11</td>\n",
       "      <td>16</td>\n",
       "      <td>31</td>\n",
       "      <td>14</td>\n",
       "      <td>18</td>\n",
       "      <td>0</td>\n",
       "      <td>143</td>\n",
       "      <td>39</td>\n",
       "      <td>0.611</td>\n",
       "      <td>0.616</td>\n",
       "    </tr>\n",
       "    <tr>\n",
       "      <th>11</th>\n",
       "      <td>1600247</td>\n",
       "      <td>Daveed 3x</td>\n",
       "      <td>Blazer5 Gaming</td>\n",
       "      <td>Regular</td>\n",
       "      <td>14</td>\n",
       "      <td>342</td>\n",
       "      <td>33</td>\n",
       "      <td>61</td>\n",
       "      <td>0.541</td>\n",
       "      <td>14</td>\n",
       "      <td>...</td>\n",
       "      <td>51</td>\n",
       "      <td>13</td>\n",
       "      <td>23</td>\n",
       "      <td>38</td>\n",
       "      <td>14</td>\n",
       "      <td>13</td>\n",
       "      <td>83</td>\n",
       "      <td>14</td>\n",
       "      <td>0.656</td>\n",
       "      <td>0.657</td>\n",
       "    </tr>\n",
       "    <tr>\n",
       "      <th>12</th>\n",
       "      <td>1600043</td>\n",
       "      <td>Arooks</td>\n",
       "      <td>Bucks Gaming</td>\n",
       "      <td>Regular</td>\n",
       "      <td>16</td>\n",
       "      <td>390</td>\n",
       "      <td>119</td>\n",
       "      <td>221</td>\n",
       "      <td>0.538</td>\n",
       "      <td>74</td>\n",
       "      <td>...</td>\n",
       "      <td>7</td>\n",
       "      <td>62</td>\n",
       "      <td>35</td>\n",
       "      <td>30</td>\n",
       "      <td>31</td>\n",
       "      <td>1</td>\n",
       "      <td>319</td>\n",
       "      <td>41</td>\n",
       "      <td>0.706</td>\n",
       "      <td>0.712</td>\n",
       "    </tr>\n",
       "    <tr>\n",
       "      <th>13</th>\n",
       "      <td>1600094</td>\n",
       "      <td>BigMeek</td>\n",
       "      <td>Bucks Gaming</td>\n",
       "      <td>Regular</td>\n",
       "      <td>9</td>\n",
       "      <td>222</td>\n",
       "      <td>66</td>\n",
       "      <td>112</td>\n",
       "      <td>0.589</td>\n",
       "      <td>31</td>\n",
       "      <td>...</td>\n",
       "      <td>26</td>\n",
       "      <td>14</td>\n",
       "      <td>4</td>\n",
       "      <td>11</td>\n",
       "      <td>15</td>\n",
       "      <td>3</td>\n",
       "      <td>169</td>\n",
       "      <td>27</td>\n",
       "      <td>0.728</td>\n",
       "      <td>0.737</td>\n",
       "    </tr>\n",
       "    <tr>\n",
       "      <th>14</th>\n",
       "      <td>1600212</td>\n",
       "      <td>chaddynick</td>\n",
       "      <td>Bucks Gaming</td>\n",
       "      <td>Regular</td>\n",
       "      <td>16</td>\n",
       "      <td>390</td>\n",
       "      <td>40</td>\n",
       "      <td>73</td>\n",
       "      <td>0.548</td>\n",
       "      <td>26</td>\n",
       "      <td>...</td>\n",
       "      <td>17</td>\n",
       "      <td>25</td>\n",
       "      <td>42</td>\n",
       "      <td>23</td>\n",
       "      <td>30</td>\n",
       "      <td>1</td>\n",
       "      <td>110</td>\n",
       "      <td>21</td>\n",
       "      <td>0.726</td>\n",
       "      <td>0.727</td>\n",
       "    </tr>\n",
       "    <tr>\n",
       "      <th>15</th>\n",
       "      <td>1600216</td>\n",
       "      <td>RSG</td>\n",
       "      <td>Bucks Gaming</td>\n",
       "      <td>Regular</td>\n",
       "      <td>7</td>\n",
       "      <td>168</td>\n",
       "      <td>12</td>\n",
       "      <td>14</td>\n",
       "      <td>0.857</td>\n",
       "      <td>1</td>\n",
       "      <td>...</td>\n",
       "      <td>66</td>\n",
       "      <td>19</td>\n",
       "      <td>11</td>\n",
       "      <td>6</td>\n",
       "      <td>10</td>\n",
       "      <td>2</td>\n",
       "      <td>28</td>\n",
       "      <td>9</td>\n",
       "      <td>0.893</td>\n",
       "      <td>0.888</td>\n",
       "    </tr>\n",
       "    <tr>\n",
       "      <th>16</th>\n",
       "      <td>1600223</td>\n",
       "      <td>SlayIsland</td>\n",
       "      <td>Bucks Gaming</td>\n",
       "      <td>Regular</td>\n",
       "      <td>16</td>\n",
       "      <td>390</td>\n",
       "      <td>39</td>\n",
       "      <td>72</td>\n",
       "      <td>0.542</td>\n",
       "      <td>11</td>\n",
       "      <td>...</td>\n",
       "      <td>26</td>\n",
       "      <td>44</td>\n",
       "      <td>28</td>\n",
       "      <td>21</td>\n",
       "      <td>42</td>\n",
       "      <td>0</td>\n",
       "      <td>103</td>\n",
       "      <td>13</td>\n",
       "      <td>0.618</td>\n",
       "      <td>0.659</td>\n",
       "    </tr>\n",
       "    <tr>\n",
       "      <th>17</th>\n",
       "      <td>1600224</td>\n",
       "      <td>Plondo</td>\n",
       "      <td>Bucks Gaming</td>\n",
       "      <td>Regular</td>\n",
       "      <td>16</td>\n",
       "      <td>390</td>\n",
       "      <td>130</td>\n",
       "      <td>221</td>\n",
       "      <td>0.588</td>\n",
       "      <td>9</td>\n",
       "      <td>...</td>\n",
       "      <td>145</td>\n",
       "      <td>70</td>\n",
       "      <td>46</td>\n",
       "      <td>36</td>\n",
       "      <td>42</td>\n",
       "      <td>24</td>\n",
       "      <td>293</td>\n",
       "      <td>36</td>\n",
       "      <td>0.609</td>\n",
       "      <td>0.620</td>\n",
       "    </tr>\n",
       "    <tr>\n",
       "      <th>18</th>\n",
       "      <td>1600002</td>\n",
       "      <td>oLarry</td>\n",
       "      <td>Cavs Legion GC</td>\n",
       "      <td>Regular</td>\n",
       "      <td>16</td>\n",
       "      <td>387</td>\n",
       "      <td>68</td>\n",
       "      <td>109</td>\n",
       "      <td>0.624</td>\n",
       "      <td>6</td>\n",
       "      <td>...</td>\n",
       "      <td>103</td>\n",
       "      <td>56</td>\n",
       "      <td>29</td>\n",
       "      <td>35</td>\n",
       "      <td>36</td>\n",
       "      <td>13</td>\n",
       "      <td>165</td>\n",
       "      <td>24</td>\n",
       "      <td>0.651</td>\n",
       "      <td>0.673</td>\n",
       "    </tr>\n",
       "    <tr>\n",
       "      <th>19</th>\n",
       "      <td>1600045</td>\n",
       "      <td>LYKaPRO</td>\n",
       "      <td>Cavs Legion GC</td>\n",
       "      <td>Regular</td>\n",
       "      <td>6</td>\n",
       "      <td>144</td>\n",
       "      <td>18</td>\n",
       "      <td>44</td>\n",
       "      <td>0.409</td>\n",
       "      <td>8</td>\n",
       "      <td>...</td>\n",
       "      <td>4</td>\n",
       "      <td>36</td>\n",
       "      <td>5</td>\n",
       "      <td>8</td>\n",
       "      <td>16</td>\n",
       "      <td>0</td>\n",
       "      <td>49</td>\n",
       "      <td>23</td>\n",
       "      <td>0.500</td>\n",
       "      <td>0.525</td>\n",
       "    </tr>\n",
       "    <tr>\n",
       "      <th>20</th>\n",
       "      <td>1600050</td>\n",
       "      <td>Savage</td>\n",
       "      <td>Cavs Legion GC</td>\n",
       "      <td>Regular</td>\n",
       "      <td>10</td>\n",
       "      <td>243</td>\n",
       "      <td>38</td>\n",
       "      <td>64</td>\n",
       "      <td>0.594</td>\n",
       "      <td>10</td>\n",
       "      <td>...</td>\n",
       "      <td>9</td>\n",
       "      <td>42</td>\n",
       "      <td>7</td>\n",
       "      <td>14</td>\n",
       "      <td>29</td>\n",
       "      <td>0</td>\n",
       "      <td>89</td>\n",
       "      <td>22</td>\n",
       "      <td>0.672</td>\n",
       "      <td>0.672</td>\n",
       "    </tr>\n",
       "    <tr>\n",
       "      <th>21</th>\n",
       "      <td>1600070</td>\n",
       "      <td>Godddof2k</td>\n",
       "      <td>Cavs Legion GC</td>\n",
       "      <td>Regular</td>\n",
       "      <td>16</td>\n",
       "      <td>387</td>\n",
       "      <td>48</td>\n",
       "      <td>79</td>\n",
       "      <td>0.608</td>\n",
       "      <td>11</td>\n",
       "      <td>...</td>\n",
       "      <td>26</td>\n",
       "      <td>27</td>\n",
       "      <td>53</td>\n",
       "      <td>57</td>\n",
       "      <td>12</td>\n",
       "      <td>4</td>\n",
       "      <td>116</td>\n",
       "      <td>30</td>\n",
       "      <td>0.677</td>\n",
       "      <td>0.699</td>\n",
       "    </tr>\n",
       "    <tr>\n",
       "      <th>22</th>\n",
       "      <td>1600230</td>\n",
       "      <td>Strainer</td>\n",
       "      <td>Cavs Legion GC</td>\n",
       "      <td>Regular</td>\n",
       "      <td>16</td>\n",
       "      <td>387</td>\n",
       "      <td>103</td>\n",
       "      <td>174</td>\n",
       "      <td>0.592</td>\n",
       "      <td>39</td>\n",
       "      <td>...</td>\n",
       "      <td>20</td>\n",
       "      <td>66</td>\n",
       "      <td>16</td>\n",
       "      <td>14</td>\n",
       "      <td>44</td>\n",
       "      <td>7</td>\n",
       "      <td>255</td>\n",
       "      <td>42</td>\n",
       "      <td>0.704</td>\n",
       "      <td>0.709</td>\n",
       "    </tr>\n",
       "    <tr>\n",
       "      <th>23</th>\n",
       "      <td>1600031</td>\n",
       "      <td>oFAB</td>\n",
       "      <td>Celtics Crossover Gaming</td>\n",
       "      <td>Regular</td>\n",
       "      <td>15</td>\n",
       "      <td>363</td>\n",
       "      <td>129</td>\n",
       "      <td>224</td>\n",
       "      <td>0.576</td>\n",
       "      <td>42</td>\n",
       "      <td>...</td>\n",
       "      <td>18</td>\n",
       "      <td>188</td>\n",
       "      <td>24</td>\n",
       "      <td>38</td>\n",
       "      <td>78</td>\n",
       "      <td>0</td>\n",
       "      <td>334</td>\n",
       "      <td>36</td>\n",
       "      <td>0.670</td>\n",
       "      <td>0.686</td>\n",
       "    </tr>\n",
       "    <tr>\n",
       "      <th>24</th>\n",
       "      <td>1600046</td>\n",
       "      <td>Mel East</td>\n",
       "      <td>Celtics Crossover Gaming</td>\n",
       "      <td>Regular</td>\n",
       "      <td>16</td>\n",
       "      <td>387</td>\n",
       "      <td>62</td>\n",
       "      <td>98</td>\n",
       "      <td>0.633</td>\n",
       "      <td>25</td>\n",
       "      <td>...</td>\n",
       "      <td>19</td>\n",
       "      <td>14</td>\n",
       "      <td>45</td>\n",
       "      <td>41</td>\n",
       "      <td>10</td>\n",
       "      <td>6</td>\n",
       "      <td>163</td>\n",
       "      <td>31</td>\n",
       "      <td>0.760</td>\n",
       "      <td>0.779</td>\n",
       "    </tr>\n",
       "    <tr>\n",
       "      <th>25</th>\n",
       "      <td>1600091</td>\n",
       "      <td>ProFusion</td>\n",
       "      <td>Celtics Crossover Gaming</td>\n",
       "      <td>Regular</td>\n",
       "      <td>16</td>\n",
       "      <td>387</td>\n",
       "      <td>102</td>\n",
       "      <td>172</td>\n",
       "      <td>0.593</td>\n",
       "      <td>53</td>\n",
       "      <td>...</td>\n",
       "      <td>20</td>\n",
       "      <td>16</td>\n",
       "      <td>38</td>\n",
       "      <td>34</td>\n",
       "      <td>17</td>\n",
       "      <td>3</td>\n",
       "      <td>266</td>\n",
       "      <td>35</td>\n",
       "      <td>0.747</td>\n",
       "      <td>0.750</td>\n",
       "    </tr>\n",
       "    <tr>\n",
       "      <th>26</th>\n",
       "      <td>1600219</td>\n",
       "      <td>NO xAUTOGRAPHSx</td>\n",
       "      <td>Celtics Crossover Gaming</td>\n",
       "      <td>Regular</td>\n",
       "      <td>16</td>\n",
       "      <td>387</td>\n",
       "      <td>68</td>\n",
       "      <td>99</td>\n",
       "      <td>0.687</td>\n",
       "      <td>7</td>\n",
       "      <td>...</td>\n",
       "      <td>187</td>\n",
       "      <td>45</td>\n",
       "      <td>18</td>\n",
       "      <td>30</td>\n",
       "      <td>30</td>\n",
       "      <td>19</td>\n",
       "      <td>151</td>\n",
       "      <td>15</td>\n",
       "      <td>0.722</td>\n",
       "      <td>0.727</td>\n",
       "    </tr>\n",
       "    <tr>\n",
       "      <th>27</th>\n",
       "      <td>1600232</td>\n",
       "      <td>Bulleyy</td>\n",
       "      <td>Celtics Crossover Gaming</td>\n",
       "      <td>Regular</td>\n",
       "      <td>15</td>\n",
       "      <td>363</td>\n",
       "      <td>53</td>\n",
       "      <td>115</td>\n",
       "      <td>0.461</td>\n",
       "      <td>34</td>\n",
       "      <td>...</td>\n",
       "      <td>29</td>\n",
       "      <td>13</td>\n",
       "      <td>29</td>\n",
       "      <td>24</td>\n",
       "      <td>26</td>\n",
       "      <td>9</td>\n",
       "      <td>144</td>\n",
       "      <td>15</td>\n",
       "      <td>0.609</td>\n",
       "      <td>0.612</td>\n",
       "    </tr>\n",
       "    <tr>\n",
       "      <th>28</th>\n",
       "      <td>1600237</td>\n",
       "      <td>Suavy</td>\n",
       "      <td>Celtics Crossover Gaming</td>\n",
       "      <td>Regular</td>\n",
       "      <td>2</td>\n",
       "      <td>48</td>\n",
       "      <td>5</td>\n",
       "      <td>9</td>\n",
       "      <td>0.556</td>\n",
       "      <td>3</td>\n",
       "      <td>...</td>\n",
       "      <td>5</td>\n",
       "      <td>1</td>\n",
       "      <td>5</td>\n",
       "      <td>5</td>\n",
       "      <td>3</td>\n",
       "      <td>2</td>\n",
       "      <td>13</td>\n",
       "      <td>8</td>\n",
       "      <td>0.722</td>\n",
       "      <td>0.722</td>\n",
       "    </tr>\n",
       "    <tr>\n",
       "      <th>29</th>\n",
       "      <td>1600029</td>\n",
       "      <td>UniversaIPhenom</td>\n",
       "      <td>Grizz Gaming</td>\n",
       "      <td>Regular</td>\n",
       "      <td>7</td>\n",
       "      <td>168</td>\n",
       "      <td>18</td>\n",
       "      <td>38</td>\n",
       "      <td>0.474</td>\n",
       "      <td>4</td>\n",
       "      <td>...</td>\n",
       "      <td>31</td>\n",
       "      <td>4</td>\n",
       "      <td>9</td>\n",
       "      <td>10</td>\n",
       "      <td>8</td>\n",
       "      <td>4</td>\n",
       "      <td>43</td>\n",
       "      <td>24</td>\n",
       "      <td>0.526</td>\n",
       "      <td>0.541</td>\n",
       "    </tr>\n",
       "    <tr>\n",
       "      <th>...</th>\n",
       "      <td>...</td>\n",
       "      <td>...</td>\n",
       "      <td>...</td>\n",
       "      <td>...</td>\n",
       "      <td>...</td>\n",
       "      <td>...</td>\n",
       "      <td>...</td>\n",
       "      <td>...</td>\n",
       "      <td>...</td>\n",
       "      <td>...</td>\n",
       "      <td>...</td>\n",
       "      <td>...</td>\n",
       "      <td>...</td>\n",
       "      <td>...</td>\n",
       "      <td>...</td>\n",
       "      <td>...</td>\n",
       "      <td>...</td>\n",
       "      <td>...</td>\n",
       "      <td>...</td>\n",
       "      <td>...</td>\n",
       "      <td>...</td>\n",
       "    </tr>\n",
       "    <tr>\n",
       "      <th>96</th>\n",
       "      <td>1600072</td>\n",
       "      <td>KingQuai614</td>\n",
       "      <td>Raptors Uprising GC</td>\n",
       "      <td>Regular</td>\n",
       "      <td>15</td>\n",
       "      <td>360</td>\n",
       "      <td>53</td>\n",
       "      <td>95</td>\n",
       "      <td>0.558</td>\n",
       "      <td>9</td>\n",
       "      <td>...</td>\n",
       "      <td>110</td>\n",
       "      <td>41</td>\n",
       "      <td>37</td>\n",
       "      <td>47</td>\n",
       "      <td>36</td>\n",
       "      <td>11</td>\n",
       "      <td>122</td>\n",
       "      <td>29</td>\n",
       "      <td>0.605</td>\n",
       "      <td>0.616</td>\n",
       "    </tr>\n",
       "    <tr>\n",
       "      <th>97</th>\n",
       "      <td>1600079</td>\n",
       "      <td>TsJosh</td>\n",
       "      <td>Raptors Uprising GC</td>\n",
       "      <td>Regular</td>\n",
       "      <td>15</td>\n",
       "      <td>360</td>\n",
       "      <td>46</td>\n",
       "      <td>75</td>\n",
       "      <td>0.613</td>\n",
       "      <td>13</td>\n",
       "      <td>...</td>\n",
       "      <td>13</td>\n",
       "      <td>13</td>\n",
       "      <td>38</td>\n",
       "      <td>27</td>\n",
       "      <td>6</td>\n",
       "      <td>3</td>\n",
       "      <td>108</td>\n",
       "      <td>26</td>\n",
       "      <td>0.700</td>\n",
       "      <td>0.703</td>\n",
       "    </tr>\n",
       "    <tr>\n",
       "      <th>98</th>\n",
       "      <td>1600204</td>\n",
       "      <td>OOC Slim</td>\n",
       "      <td>Raptors Uprising GC</td>\n",
       "      <td>Regular</td>\n",
       "      <td>7</td>\n",
       "      <td>168</td>\n",
       "      <td>31</td>\n",
       "      <td>59</td>\n",
       "      <td>0.525</td>\n",
       "      <td>11</td>\n",
       "      <td>...</td>\n",
       "      <td>16</td>\n",
       "      <td>10</td>\n",
       "      <td>11</td>\n",
       "      <td>12</td>\n",
       "      <td>7</td>\n",
       "      <td>1</td>\n",
       "      <td>78</td>\n",
       "      <td>22</td>\n",
       "      <td>0.619</td>\n",
       "      <td>0.637</td>\n",
       "    </tr>\n",
       "    <tr>\n",
       "      <th>99</th>\n",
       "      <td>1600032</td>\n",
       "      <td>NachoTraynor</td>\n",
       "      <td>T-Wolves Gaming</td>\n",
       "      <td>Regular</td>\n",
       "      <td>2</td>\n",
       "      <td>48</td>\n",
       "      <td>5</td>\n",
       "      <td>10</td>\n",
       "      <td>0.500</td>\n",
       "      <td>1</td>\n",
       "      <td>...</td>\n",
       "      <td>6</td>\n",
       "      <td>2</td>\n",
       "      <td>3</td>\n",
       "      <td>1</td>\n",
       "      <td>1</td>\n",
       "      <td>0</td>\n",
       "      <td>13</td>\n",
       "      <td>17</td>\n",
       "      <td>0.550</td>\n",
       "      <td>0.574</td>\n",
       "    </tr>\n",
       "    <tr>\n",
       "      <th>100</th>\n",
       "      <td>1600039</td>\n",
       "      <td>FEAST</td>\n",
       "      <td>T-Wolves Gaming</td>\n",
       "      <td>Regular</td>\n",
       "      <td>16</td>\n",
       "      <td>384</td>\n",
       "      <td>72</td>\n",
       "      <td>106</td>\n",
       "      <td>0.679</td>\n",
       "      <td>13</td>\n",
       "      <td>...</td>\n",
       "      <td>139</td>\n",
       "      <td>52</td>\n",
       "      <td>39</td>\n",
       "      <td>41</td>\n",
       "      <td>28</td>\n",
       "      <td>18</td>\n",
       "      <td>167</td>\n",
       "      <td>33</td>\n",
       "      <td>0.741</td>\n",
       "      <td>0.747</td>\n",
       "    </tr>\n",
       "    <tr>\n",
       "      <th>101</th>\n",
       "      <td>1600054</td>\n",
       "      <td>TURNUPDEFENSE</td>\n",
       "      <td>T-Wolves Gaming</td>\n",
       "      <td>Regular</td>\n",
       "      <td>16</td>\n",
       "      <td>384</td>\n",
       "      <td>62</td>\n",
       "      <td>101</td>\n",
       "      <td>0.614</td>\n",
       "      <td>18</td>\n",
       "      <td>...</td>\n",
       "      <td>20</td>\n",
       "      <td>25</td>\n",
       "      <td>37</td>\n",
       "      <td>37</td>\n",
       "      <td>11</td>\n",
       "      <td>3</td>\n",
       "      <td>152</td>\n",
       "      <td>22</td>\n",
       "      <td>0.703</td>\n",
       "      <td>0.712</td>\n",
       "    </tr>\n",
       "    <tr>\n",
       "      <th>102</th>\n",
       "      <td>1600221</td>\n",
       "      <td>BearDaBeast</td>\n",
       "      <td>T-Wolves Gaming</td>\n",
       "      <td>Regular</td>\n",
       "      <td>16</td>\n",
       "      <td>384</td>\n",
       "      <td>95</td>\n",
       "      <td>167</td>\n",
       "      <td>0.569</td>\n",
       "      <td>37</td>\n",
       "      <td>...</td>\n",
       "      <td>25</td>\n",
       "      <td>145</td>\n",
       "      <td>28</td>\n",
       "      <td>17</td>\n",
       "      <td>57</td>\n",
       "      <td>5</td>\n",
       "      <td>250</td>\n",
       "      <td>30</td>\n",
       "      <td>0.680</td>\n",
       "      <td>0.695</td>\n",
       "    </tr>\n",
       "    <tr>\n",
       "      <th>103</th>\n",
       "      <td>1600234</td>\n",
       "      <td>JoJo</td>\n",
       "      <td>T-Wolves Gaming</td>\n",
       "      <td>Regular</td>\n",
       "      <td>16</td>\n",
       "      <td>384</td>\n",
       "      <td>76</td>\n",
       "      <td>112</td>\n",
       "      <td>0.679</td>\n",
       "      <td>21</td>\n",
       "      <td>...</td>\n",
       "      <td>85</td>\n",
       "      <td>24</td>\n",
       "      <td>23</td>\n",
       "      <td>27</td>\n",
       "      <td>29</td>\n",
       "      <td>9</td>\n",
       "      <td>177</td>\n",
       "      <td>18</td>\n",
       "      <td>0.772</td>\n",
       "      <td>0.778</td>\n",
       "    </tr>\n",
       "    <tr>\n",
       "      <th>104</th>\n",
       "      <td>1600005</td>\n",
       "      <td>Hood</td>\n",
       "      <td>Total</td>\n",
       "      <td>Regular</td>\n",
       "      <td>15</td>\n",
       "      <td>360</td>\n",
       "      <td>88</td>\n",
       "      <td>181</td>\n",
       "      <td>0.486</td>\n",
       "      <td>29</td>\n",
       "      <td>...</td>\n",
       "      <td>25</td>\n",
       "      <td>64</td>\n",
       "      <td>20</td>\n",
       "      <td>24</td>\n",
       "      <td>62</td>\n",
       "      <td>6</td>\n",
       "      <td>218</td>\n",
       "      <td>37</td>\n",
       "      <td>0.566</td>\n",
       "      <td>0.581</td>\n",
       "    </tr>\n",
       "    <tr>\n",
       "      <th>105</th>\n",
       "      <td>1600040</td>\n",
       "      <td>Sick x 973</td>\n",
       "      <td>Total</td>\n",
       "      <td>Regular</td>\n",
       "      <td>17</td>\n",
       "      <td>408</td>\n",
       "      <td>114</td>\n",
       "      <td>183</td>\n",
       "      <td>0.623</td>\n",
       "      <td>30</td>\n",
       "      <td>...</td>\n",
       "      <td>120</td>\n",
       "      <td>42</td>\n",
       "      <td>59</td>\n",
       "      <td>37</td>\n",
       "      <td>38</td>\n",
       "      <td>13</td>\n",
       "      <td>271</td>\n",
       "      <td>35</td>\n",
       "      <td>0.705</td>\n",
       "      <td>0.715</td>\n",
       "    </tr>\n",
       "    <tr>\n",
       "      <th>106</th>\n",
       "      <td>1600073</td>\n",
       "      <td>All Hail Trey</td>\n",
       "      <td>Total</td>\n",
       "      <td>Regular</td>\n",
       "      <td>15</td>\n",
       "      <td>363</td>\n",
       "      <td>103</td>\n",
       "      <td>193</td>\n",
       "      <td>0.534</td>\n",
       "      <td>29</td>\n",
       "      <td>...</td>\n",
       "      <td>49</td>\n",
       "      <td>28</td>\n",
       "      <td>39</td>\n",
       "      <td>20</td>\n",
       "      <td>28</td>\n",
       "      <td>5</td>\n",
       "      <td>252</td>\n",
       "      <td>26</td>\n",
       "      <td>0.609</td>\n",
       "      <td>0.627</td>\n",
       "    </tr>\n",
       "    <tr>\n",
       "      <th>107</th>\n",
       "      <td>1600087</td>\n",
       "      <td>ToXsiK</td>\n",
       "      <td>Total</td>\n",
       "      <td>Regular</td>\n",
       "      <td>14</td>\n",
       "      <td>336</td>\n",
       "      <td>40</td>\n",
       "      <td>73</td>\n",
       "      <td>0.548</td>\n",
       "      <td>10</td>\n",
       "      <td>...</td>\n",
       "      <td>21</td>\n",
       "      <td>12</td>\n",
       "      <td>50</td>\n",
       "      <td>26</td>\n",
       "      <td>13</td>\n",
       "      <td>2</td>\n",
       "      <td>101</td>\n",
       "      <td>13</td>\n",
       "      <td>0.616</td>\n",
       "      <td>0.649</td>\n",
       "    </tr>\n",
       "    <tr>\n",
       "      <th>108</th>\n",
       "      <td>1600213</td>\n",
       "      <td>DevGoss</td>\n",
       "      <td>Total</td>\n",
       "      <td>Regular</td>\n",
       "      <td>16</td>\n",
       "      <td>384</td>\n",
       "      <td>97</td>\n",
       "      <td>186</td>\n",
       "      <td>0.522</td>\n",
       "      <td>37</td>\n",
       "      <td>...</td>\n",
       "      <td>9</td>\n",
       "      <td>64</td>\n",
       "      <td>16</td>\n",
       "      <td>29</td>\n",
       "      <td>48</td>\n",
       "      <td>4</td>\n",
       "      <td>240</td>\n",
       "      <td>32</td>\n",
       "      <td>0.621</td>\n",
       "      <td>0.630</td>\n",
       "    </tr>\n",
       "    <tr>\n",
       "      <th>109</th>\n",
       "      <td>1600227</td>\n",
       "      <td>Lotty</td>\n",
       "      <td>Total</td>\n",
       "      <td>Regular</td>\n",
       "      <td>17</td>\n",
       "      <td>411</td>\n",
       "      <td>90</td>\n",
       "      <td>130</td>\n",
       "      <td>0.692</td>\n",
       "      <td>27</td>\n",
       "      <td>...</td>\n",
       "      <td>17</td>\n",
       "      <td>26</td>\n",
       "      <td>50</td>\n",
       "      <td>37</td>\n",
       "      <td>12</td>\n",
       "      <td>5</td>\n",
       "      <td>214</td>\n",
       "      <td>31</td>\n",
       "      <td>0.796</td>\n",
       "      <td>0.799</td>\n",
       "    </tr>\n",
       "    <tr>\n",
       "      <th>110</th>\n",
       "      <td>1600228</td>\n",
       "      <td>JMoneyRep817</td>\n",
       "      <td>Total</td>\n",
       "      <td>Regular</td>\n",
       "      <td>15</td>\n",
       "      <td>360</td>\n",
       "      <td>111</td>\n",
       "      <td>200</td>\n",
       "      <td>0.555</td>\n",
       "      <td>36</td>\n",
       "      <td>...</td>\n",
       "      <td>13</td>\n",
       "      <td>63</td>\n",
       "      <td>28</td>\n",
       "      <td>24</td>\n",
       "      <td>44</td>\n",
       "      <td>1</td>\n",
       "      <td>273</td>\n",
       "      <td>32</td>\n",
       "      <td>0.645</td>\n",
       "      <td>0.657</td>\n",
       "    </tr>\n",
       "    <tr>\n",
       "      <th>111</th>\n",
       "      <td>1600248</td>\n",
       "      <td>MrStylez</td>\n",
       "      <td>Total</td>\n",
       "      <td>Regular</td>\n",
       "      <td>15</td>\n",
       "      <td>360</td>\n",
       "      <td>59</td>\n",
       "      <td>139</td>\n",
       "      <td>0.424</td>\n",
       "      <td>24</td>\n",
       "      <td>...</td>\n",
       "      <td>12</td>\n",
       "      <td>78</td>\n",
       "      <td>39</td>\n",
       "      <td>19</td>\n",
       "      <td>52</td>\n",
       "      <td>5</td>\n",
       "      <td>146</td>\n",
       "      <td>18</td>\n",
       "      <td>0.511</td>\n",
       "      <td>0.514</td>\n",
       "    </tr>\n",
       "    <tr>\n",
       "      <th>112</th>\n",
       "      <td>1600250</td>\n",
       "      <td>MOAM</td>\n",
       "      <td>Total</td>\n",
       "      <td>Regular</td>\n",
       "      <td>11</td>\n",
       "      <td>264</td>\n",
       "      <td>68</td>\n",
       "      <td>118</td>\n",
       "      <td>0.576</td>\n",
       "      <td>31</td>\n",
       "      <td>...</td>\n",
       "      <td>20</td>\n",
       "      <td>23</td>\n",
       "      <td>18</td>\n",
       "      <td>24</td>\n",
       "      <td>27</td>\n",
       "      <td>2</td>\n",
       "      <td>174</td>\n",
       "      <td>30</td>\n",
       "      <td>0.708</td>\n",
       "      <td>0.713</td>\n",
       "    </tr>\n",
       "    <tr>\n",
       "      <th>113</th>\n",
       "      <td>1600251</td>\n",
       "      <td>KelMav</td>\n",
       "      <td>Total</td>\n",
       "      <td>Regular</td>\n",
       "      <td>13</td>\n",
       "      <td>312</td>\n",
       "      <td>60</td>\n",
       "      <td>131</td>\n",
       "      <td>0.458</td>\n",
       "      <td>25</td>\n",
       "      <td>...</td>\n",
       "      <td>16</td>\n",
       "      <td>28</td>\n",
       "      <td>16</td>\n",
       "      <td>8</td>\n",
       "      <td>12</td>\n",
       "      <td>3</td>\n",
       "      <td>153</td>\n",
       "      <td>28</td>\n",
       "      <td>0.553</td>\n",
       "      <td>0.569</td>\n",
       "    </tr>\n",
       "    <tr>\n",
       "      <th>114</th>\n",
       "      <td>1600026</td>\n",
       "      <td>Bsmoove</td>\n",
       "      <td>Warriors Gaming Squad</td>\n",
       "      <td>Regular</td>\n",
       "      <td>16</td>\n",
       "      <td>384</td>\n",
       "      <td>113</td>\n",
       "      <td>206</td>\n",
       "      <td>0.549</td>\n",
       "      <td>54</td>\n",
       "      <td>...</td>\n",
       "      <td>10</td>\n",
       "      <td>52</td>\n",
       "      <td>20</td>\n",
       "      <td>26</td>\n",
       "      <td>53</td>\n",
       "      <td>0</td>\n",
       "      <td>289</td>\n",
       "      <td>33</td>\n",
       "      <td>0.680</td>\n",
       "      <td>0.683</td>\n",
       "    </tr>\n",
       "    <tr>\n",
       "      <th>115</th>\n",
       "      <td>1600033</td>\n",
       "      <td>Type</td>\n",
       "      <td>Warriors Gaming Squad</td>\n",
       "      <td>Regular</td>\n",
       "      <td>13</td>\n",
       "      <td>312</td>\n",
       "      <td>73</td>\n",
       "      <td>118</td>\n",
       "      <td>0.619</td>\n",
       "      <td>4</td>\n",
       "      <td>...</td>\n",
       "      <td>144</td>\n",
       "      <td>24</td>\n",
       "      <td>47</td>\n",
       "      <td>34</td>\n",
       "      <td>25</td>\n",
       "      <td>21</td>\n",
       "      <td>160</td>\n",
       "      <td>22</td>\n",
       "      <td>0.636</td>\n",
       "      <td>0.638</td>\n",
       "    </tr>\n",
       "    <tr>\n",
       "      <th>116</th>\n",
       "      <td>1600059</td>\n",
       "      <td>Jin</td>\n",
       "      <td>Warriors Gaming Squad</td>\n",
       "      <td>Regular</td>\n",
       "      <td>15</td>\n",
       "      <td>360</td>\n",
       "      <td>66</td>\n",
       "      <td>107</td>\n",
       "      <td>0.617</td>\n",
       "      <td>18</td>\n",
       "      <td>...</td>\n",
       "      <td>83</td>\n",
       "      <td>27</td>\n",
       "      <td>14</td>\n",
       "      <td>19</td>\n",
       "      <td>15</td>\n",
       "      <td>6</td>\n",
       "      <td>160</td>\n",
       "      <td>23</td>\n",
       "      <td>0.701</td>\n",
       "      <td>0.715</td>\n",
       "    </tr>\n",
       "    <tr>\n",
       "      <th>117</th>\n",
       "      <td>1600205</td>\n",
       "      <td>CB13</td>\n",
       "      <td>Warriors Gaming Squad</td>\n",
       "      <td>Regular</td>\n",
       "      <td>16</td>\n",
       "      <td>384</td>\n",
       "      <td>64</td>\n",
       "      <td>135</td>\n",
       "      <td>0.474</td>\n",
       "      <td>35</td>\n",
       "      <td>...</td>\n",
       "      <td>20</td>\n",
       "      <td>111</td>\n",
       "      <td>21</td>\n",
       "      <td>17</td>\n",
       "      <td>62</td>\n",
       "      <td>0</td>\n",
       "      <td>177</td>\n",
       "      <td>25</td>\n",
       "      <td>0.604</td>\n",
       "      <td>0.625</td>\n",
       "    </tr>\n",
       "    <tr>\n",
       "      <th>118</th>\n",
       "      <td>1600210</td>\n",
       "      <td>Chiquita</td>\n",
       "      <td>Warriors Gaming Squad</td>\n",
       "      <td>Regular</td>\n",
       "      <td>4</td>\n",
       "      <td>96</td>\n",
       "      <td>7</td>\n",
       "      <td>19</td>\n",
       "      <td>0.368</td>\n",
       "      <td>6</td>\n",
       "      <td>...</td>\n",
       "      <td>16</td>\n",
       "      <td>1</td>\n",
       "      <td>3</td>\n",
       "      <td>4</td>\n",
       "      <td>3</td>\n",
       "      <td>2</td>\n",
       "      <td>20</td>\n",
       "      <td>9</td>\n",
       "      <td>0.526</td>\n",
       "      <td>0.526</td>\n",
       "    </tr>\n",
       "    <tr>\n",
       "      <th>119</th>\n",
       "      <td>1600241</td>\n",
       "      <td>Gradient</td>\n",
       "      <td>Warriors Gaming Squad</td>\n",
       "      <td>Regular</td>\n",
       "      <td>16</td>\n",
       "      <td>384</td>\n",
       "      <td>59</td>\n",
       "      <td>106</td>\n",
       "      <td>0.557</td>\n",
       "      <td>11</td>\n",
       "      <td>...</td>\n",
       "      <td>29</td>\n",
       "      <td>16</td>\n",
       "      <td>53</td>\n",
       "      <td>44</td>\n",
       "      <td>20</td>\n",
       "      <td>3</td>\n",
       "      <td>135</td>\n",
       "      <td>21</td>\n",
       "      <td>0.608</td>\n",
       "      <td>0.616</td>\n",
       "    </tr>\n",
       "    <tr>\n",
       "      <th>120</th>\n",
       "      <td>1600009</td>\n",
       "      <td>ReeseDaGod</td>\n",
       "      <td>Wizards District Gaming</td>\n",
       "      <td>Regular</td>\n",
       "      <td>16</td>\n",
       "      <td>384</td>\n",
       "      <td>134</td>\n",
       "      <td>232</td>\n",
       "      <td>0.578</td>\n",
       "      <td>52</td>\n",
       "      <td>...</td>\n",
       "      <td>14</td>\n",
       "      <td>61</td>\n",
       "      <td>17</td>\n",
       "      <td>25</td>\n",
       "      <td>63</td>\n",
       "      <td>4</td>\n",
       "      <td>331</td>\n",
       "      <td>49</td>\n",
       "      <td>0.690</td>\n",
       "      <td>0.692</td>\n",
       "    </tr>\n",
       "    <tr>\n",
       "      <th>121</th>\n",
       "      <td>1600060</td>\n",
       "      <td>Dayfri</td>\n",
       "      <td>Wizards District Gaming</td>\n",
       "      <td>Regular</td>\n",
       "      <td>13</td>\n",
       "      <td>312</td>\n",
       "      <td>80</td>\n",
       "      <td>136</td>\n",
       "      <td>0.588</td>\n",
       "      <td>14</td>\n",
       "      <td>...</td>\n",
       "      <td>67</td>\n",
       "      <td>48</td>\n",
       "      <td>57</td>\n",
       "      <td>26</td>\n",
       "      <td>38</td>\n",
       "      <td>13</td>\n",
       "      <td>194</td>\n",
       "      <td>31</td>\n",
       "      <td>0.640</td>\n",
       "      <td>0.658</td>\n",
       "    </tr>\n",
       "    <tr>\n",
       "      <th>122</th>\n",
       "      <td>1600066</td>\n",
       "      <td>Demon JT</td>\n",
       "      <td>Wizards District Gaming</td>\n",
       "      <td>Regular</td>\n",
       "      <td>16</td>\n",
       "      <td>384</td>\n",
       "      <td>45</td>\n",
       "      <td>117</td>\n",
       "      <td>0.385</td>\n",
       "      <td>25</td>\n",
       "      <td>...</td>\n",
       "      <td>31</td>\n",
       "      <td>80</td>\n",
       "      <td>16</td>\n",
       "      <td>15</td>\n",
       "      <td>49</td>\n",
       "      <td>2</td>\n",
       "      <td>133</td>\n",
       "      <td>26</td>\n",
       "      <td>0.491</td>\n",
       "      <td>0.529</td>\n",
       "    </tr>\n",
       "    <tr>\n",
       "      <th>123</th>\n",
       "      <td>1600069</td>\n",
       "      <td>Gilly</td>\n",
       "      <td>Wizards District Gaming</td>\n",
       "      <td>Regular</td>\n",
       "      <td>15</td>\n",
       "      <td>360</td>\n",
       "      <td>87</td>\n",
       "      <td>121</td>\n",
       "      <td>0.719</td>\n",
       "      <td>4</td>\n",
       "      <td>...</td>\n",
       "      <td>162</td>\n",
       "      <td>37</td>\n",
       "      <td>12</td>\n",
       "      <td>16</td>\n",
       "      <td>21</td>\n",
       "      <td>16</td>\n",
       "      <td>200</td>\n",
       "      <td>22</td>\n",
       "      <td>0.736</td>\n",
       "      <td>0.758</td>\n",
       "    </tr>\n",
       "    <tr>\n",
       "      <th>124</th>\n",
       "      <td>1600201</td>\n",
       "      <td>USERPICK</td>\n",
       "      <td>Wizards District Gaming</td>\n",
       "      <td>Regular</td>\n",
       "      <td>16</td>\n",
       "      <td>384</td>\n",
       "      <td>52</td>\n",
       "      <td>78</td>\n",
       "      <td>0.667</td>\n",
       "      <td>21</td>\n",
       "      <td>...</td>\n",
       "      <td>17</td>\n",
       "      <td>16</td>\n",
       "      <td>59</td>\n",
       "      <td>40</td>\n",
       "      <td>6</td>\n",
       "      <td>1</td>\n",
       "      <td>125</td>\n",
       "      <td>25</td>\n",
       "      <td>0.801</td>\n",
       "      <td>0.801</td>\n",
       "    </tr>\n",
       "    <tr>\n",
       "      <th>125</th>\n",
       "      <td>1600206</td>\n",
       "      <td>PaulB</td>\n",
       "      <td>Wizards District Gaming</td>\n",
       "      <td>Regular</td>\n",
       "      <td>4</td>\n",
       "      <td>96</td>\n",
       "      <td>12</td>\n",
       "      <td>22</td>\n",
       "      <td>0.545</td>\n",
       "      <td>3</td>\n",
       "      <td>...</td>\n",
       "      <td>24</td>\n",
       "      <td>10</td>\n",
       "      <td>7</td>\n",
       "      <td>9</td>\n",
       "      <td>7</td>\n",
       "      <td>3</td>\n",
       "      <td>29</td>\n",
       "      <td>11</td>\n",
       "      <td>0.614</td>\n",
       "      <td>0.634</td>\n",
       "    </tr>\n",
       "  </tbody>\n",
       "</table>\n",
       "<p>126 rows × 27 columns</p>\n",
       "</div>"
      ],
      "text/plain": [
       "     Person_id           Player                      Team Season_Type  GP  \\\n",
       "0      1600003            Steez                  76ers GC     Regular  16   \n",
       "1      1600022        Newdini33                  76ers GC     Regular  16   \n",
       "2      1600025              ZDS                  76ers GC     Regular  16   \n",
       "3      1600097          Radiant                  76ers GC     Regular  16   \n",
       "4      1600207         oCASSIUS                  76ers GC     Regular   1   \n",
       "5      1600222    BreadwinnerLA                  76ers GC     Regular  15   \n",
       "6      1600011    OneWildWalnut            Blazer5 Gaming     Regular  16   \n",
       "7      1600021  Mama Im Dat Man            Blazer5 Gaming     Regular  16   \n",
       "8      1600049     LavishPhenom            Blazer5 Gaming     Regular  16   \n",
       "9      1600095       Jomar12 PR            Blazer5 Gaming     Regular   7   \n",
       "10     1600100    King Peroxide            Blazer5 Gaming     Regular  11   \n",
       "11     1600247        Daveed 3x            Blazer5 Gaming     Regular  14   \n",
       "12     1600043           Arooks              Bucks Gaming     Regular  16   \n",
       "13     1600094          BigMeek              Bucks Gaming     Regular   9   \n",
       "14     1600212       chaddynick              Bucks Gaming     Regular  16   \n",
       "15     1600216              RSG              Bucks Gaming     Regular   7   \n",
       "16     1600223       SlayIsland              Bucks Gaming     Regular  16   \n",
       "17     1600224           Plondo              Bucks Gaming     Regular  16   \n",
       "18     1600002           oLarry            Cavs Legion GC     Regular  16   \n",
       "19     1600045          LYKaPRO            Cavs Legion GC     Regular   6   \n",
       "20     1600050           Savage            Cavs Legion GC     Regular  10   \n",
       "21     1600070        Godddof2k            Cavs Legion GC     Regular  16   \n",
       "22     1600230         Strainer            Cavs Legion GC     Regular  16   \n",
       "23     1600031             oFAB  Celtics Crossover Gaming     Regular  15   \n",
       "24     1600046         Mel East  Celtics Crossover Gaming     Regular  16   \n",
       "25     1600091        ProFusion  Celtics Crossover Gaming     Regular  16   \n",
       "26     1600219  NO xAUTOGRAPHSx  Celtics Crossover Gaming     Regular  16   \n",
       "27     1600232          Bulleyy  Celtics Crossover Gaming     Regular  15   \n",
       "28     1600237            Suavy  Celtics Crossover Gaming     Regular   2   \n",
       "29     1600029  UniversaIPhenom              Grizz Gaming     Regular   7   \n",
       "..         ...              ...                       ...         ...  ..   \n",
       "96     1600072      KingQuai614       Raptors Uprising GC     Regular  15   \n",
       "97     1600079           TsJosh       Raptors Uprising GC     Regular  15   \n",
       "98     1600204         OOC Slim       Raptors Uprising GC     Regular   7   \n",
       "99     1600032     NachoTraynor           T-Wolves Gaming     Regular   2   \n",
       "100    1600039            FEAST           T-Wolves Gaming     Regular  16   \n",
       "101    1600054    TURNUPDEFENSE           T-Wolves Gaming     Regular  16   \n",
       "102    1600221      BearDaBeast           T-Wolves Gaming     Regular  16   \n",
       "103    1600234             JoJo           T-Wolves Gaming     Regular  16   \n",
       "104    1600005             Hood                     Total     Regular  15   \n",
       "105    1600040       Sick x 973                     Total     Regular  17   \n",
       "106    1600073    All Hail Trey                     Total     Regular  15   \n",
       "107    1600087           ToXsiK                     Total     Regular  14   \n",
       "108    1600213          DevGoss                     Total     Regular  16   \n",
       "109    1600227            Lotty                     Total     Regular  17   \n",
       "110    1600228     JMoneyRep817                     Total     Regular  15   \n",
       "111    1600248         MrStylez                     Total     Regular  15   \n",
       "112    1600250             MOAM                     Total     Regular  11   \n",
       "113    1600251           KelMav                     Total     Regular  13   \n",
       "114    1600026          Bsmoove     Warriors Gaming Squad     Regular  16   \n",
       "115    1600033             Type     Warriors Gaming Squad     Regular  13   \n",
       "116    1600059              Jin     Warriors Gaming Squad     Regular  15   \n",
       "117    1600205             CB13     Warriors Gaming Squad     Regular  16   \n",
       "118    1600210         Chiquita     Warriors Gaming Squad     Regular   4   \n",
       "119    1600241         Gradient     Warriors Gaming Squad     Regular  16   \n",
       "120    1600009       ReeseDaGod   Wizards District Gaming     Regular  16   \n",
       "121    1600060           Dayfri   Wizards District Gaming     Regular  13   \n",
       "122    1600066         Demon JT   Wizards District Gaming     Regular  16   \n",
       "123    1600069            Gilly   Wizards District Gaming     Regular  15   \n",
       "124    1600201         USERPICK   Wizards District Gaming     Regular  16   \n",
       "125    1600206            PaulB   Wizards District Gaming     Regular   4   \n",
       "\n",
       "     Min  FGM  FGA    FG%  FG3M  ...    REB  AST  PF  STL  TOV  BLK  PTS  \\\n",
       "0    384   80  115  0.696     4  ...    156   33  30   29   33   10  181   \n",
       "1    384   46   74  0.622    18  ...     19   14  32   33    9    4  112   \n",
       "2    384  107  199  0.538    60  ...     10   32  17   22   19    1  280   \n",
       "3    384  123  230  0.535    56  ...      9  177  17   21   68    1  320   \n",
       "4     24   13   24  0.542    10  ...     10    4   0    2    3    0   36   \n",
       "5    360   52   84  0.619    17  ...     87   29  31   45   17   17  129   \n",
       "6    390  124  172  0.721     0  ...    202   27  26   35   43    7  255   \n",
       "7    390  132  235  0.562    63  ...     18  185  18   23   77    4  369   \n",
       "8    390   53   92  0.576    15  ...      9   11  46   41    8    4  131   \n",
       "9    168   32   56  0.571    15  ...     18   13  18   14    4    5   81   \n",
       "10   270   55  113  0.487    28  ...     11   16  31   14   18    0  143   \n",
       "11   342   33   61  0.541    14  ...     51   13  23   38   14   13   83   \n",
       "12   390  119  221  0.538    74  ...      7   62  35   30   31    1  319   \n",
       "13   222   66  112  0.589    31  ...     26   14   4   11   15    3  169   \n",
       "14   390   40   73  0.548    26  ...     17   25  42   23   30    1  110   \n",
       "15   168   12   14  0.857     1  ...     66   19  11    6   10    2   28   \n",
       "16   390   39   72  0.542    11  ...     26   44  28   21   42    0  103   \n",
       "17   390  130  221  0.588     9  ...    145   70  46   36   42   24  293   \n",
       "18   387   68  109  0.624     6  ...    103   56  29   35   36   13  165   \n",
       "19   144   18   44  0.409     8  ...      4   36   5    8   16    0   49   \n",
       "20   243   38   64  0.594    10  ...      9   42   7   14   29    0   89   \n",
       "21   387   48   79  0.608    11  ...     26   27  53   57   12    4  116   \n",
       "22   387  103  174  0.592    39  ...     20   66  16   14   44    7  255   \n",
       "23   363  129  224  0.576    42  ...     18  188  24   38   78    0  334   \n",
       "24   387   62   98  0.633    25  ...     19   14  45   41   10    6  163   \n",
       "25   387  102  172  0.593    53  ...     20   16  38   34   17    3  266   \n",
       "26   387   68   99  0.687     7  ...    187   45  18   30   30   19  151   \n",
       "27   363   53  115  0.461    34  ...     29   13  29   24   26    9  144   \n",
       "28    48    5    9  0.556     3  ...      5    1   5    5    3    2   13   \n",
       "29   168   18   38  0.474     4  ...     31    4   9   10    8    4   43   \n",
       "..   ...  ...  ...    ...   ...  ...    ...  ...  ..  ...  ...  ...  ...   \n",
       "96   360   53   95  0.558     9  ...    110   41  37   47   36   11  122   \n",
       "97   360   46   75  0.613    13  ...     13   13  38   27    6    3  108   \n",
       "98   168   31   59  0.525    11  ...     16   10  11   12    7    1   78   \n",
       "99    48    5   10  0.500     1  ...      6    2   3    1    1    0   13   \n",
       "100  384   72  106  0.679    13  ...    139   52  39   41   28   18  167   \n",
       "101  384   62  101  0.614    18  ...     20   25  37   37   11    3  152   \n",
       "102  384   95  167  0.569    37  ...     25  145  28   17   57    5  250   \n",
       "103  384   76  112  0.679    21  ...     85   24  23   27   29    9  177   \n",
       "104  360   88  181  0.486    29  ...     25   64  20   24   62    6  218   \n",
       "105  408  114  183  0.623    30  ...    120   42  59   37   38   13  271   \n",
       "106  363  103  193  0.534    29  ...     49   28  39   20   28    5  252   \n",
       "107  336   40   73  0.548    10  ...     21   12  50   26   13    2  101   \n",
       "108  384   97  186  0.522    37  ...      9   64  16   29   48    4  240   \n",
       "109  411   90  130  0.692    27  ...     17   26  50   37   12    5  214   \n",
       "110  360  111  200  0.555    36  ...     13   63  28   24   44    1  273   \n",
       "111  360   59  139  0.424    24  ...     12   78  39   19   52    5  146   \n",
       "112  264   68  118  0.576    31  ...     20   23  18   24   27    2  174   \n",
       "113  312   60  131  0.458    25  ...     16   28  16    8   12    3  153   \n",
       "114  384  113  206  0.549    54  ...     10   52  20   26   53    0  289   \n",
       "115  312   73  118  0.619     4  ...    144   24  47   34   25   21  160   \n",
       "116  360   66  107  0.617    18  ...     83   27  14   19   15    6  160   \n",
       "117  384   64  135  0.474    35  ...     20  111  21   17   62    0  177   \n",
       "118   96    7   19  0.368     6  ...     16    1   3    4    3    2   20   \n",
       "119  384   59  106  0.557    11  ...     29   16  53   44   20    3  135   \n",
       "120  384  134  232  0.578    52  ...     14   61  17   25   63    4  331   \n",
       "121  312   80  136  0.588    14  ...     67   48  57   26   38   13  194   \n",
       "122  384   45  117  0.385    25  ...     31   80  16   15   49    2  133   \n",
       "123  360   87  121  0.719     4  ...    162   37  12   16   21   16  200   \n",
       "124  384   52   78  0.667    21  ...     17   16  59   40    6    1  125   \n",
       "125   96   12   22  0.545     3  ...     24   10   7    9    7    3   29   \n",
       "\n",
       "     CareerHighPTS   eFG%    TS%  \n",
       "0               34  0.713  0.713  \n",
       "1               31  0.743  0.748  \n",
       "2               52  0.688  0.690  \n",
       "3               34  0.657  0.670  \n",
       "4               36  0.750  0.750  \n",
       "5               21  0.720  0.733  \n",
       "6               31  0.721  0.719  \n",
       "7               32  0.696  0.718  \n",
       "8               21  0.658  0.679  \n",
       "9               20  0.705  0.707  \n",
       "10              39  0.611  0.616  \n",
       "11              14  0.656  0.657  \n",
       "12              41  0.706  0.712  \n",
       "13              27  0.728  0.737  \n",
       "14              21  0.726  0.727  \n",
       "15               9  0.893  0.888  \n",
       "16              13  0.618  0.659  \n",
       "17              36  0.609  0.620  \n",
       "18              24  0.651  0.673  \n",
       "19              23  0.500  0.525  \n",
       "20              22  0.672  0.672  \n",
       "21              30  0.677  0.699  \n",
       "22              42  0.704  0.709  \n",
       "23              36  0.670  0.686  \n",
       "24              31  0.760  0.779  \n",
       "25              35  0.747  0.750  \n",
       "26              15  0.722  0.727  \n",
       "27              15  0.609  0.612  \n",
       "28               8  0.722  0.722  \n",
       "29              24  0.526  0.541  \n",
       "..             ...    ...    ...  \n",
       "96              29  0.605  0.616  \n",
       "97              26  0.700  0.703  \n",
       "98              22  0.619  0.637  \n",
       "99              17  0.550  0.574  \n",
       "100             33  0.741  0.747  \n",
       "101             22  0.703  0.712  \n",
       "102             30  0.680  0.695  \n",
       "103             18  0.772  0.778  \n",
       "104             37  0.566  0.581  \n",
       "105             35  0.705  0.715  \n",
       "106             26  0.609  0.627  \n",
       "107             13  0.616  0.649  \n",
       "108             32  0.621  0.630  \n",
       "109             31  0.796  0.799  \n",
       "110             32  0.645  0.657  \n",
       "111             18  0.511  0.514  \n",
       "112             30  0.708  0.713  \n",
       "113             28  0.553  0.569  \n",
       "114             33  0.680  0.683  \n",
       "115             22  0.636  0.638  \n",
       "116             23  0.701  0.715  \n",
       "117             25  0.604  0.625  \n",
       "118              9  0.526  0.526  \n",
       "119             21  0.608  0.616  \n",
       "120             49  0.690  0.692  \n",
       "121             31  0.640  0.658  \n",
       "122             26  0.491  0.529  \n",
       "123             22  0.736  0.758  \n",
       "124             25  0.801  0.801  \n",
       "125             11  0.614  0.634  \n",
       "\n",
       "[126 rows x 27 columns]"
      ]
     },
     "execution_count": 74,
     "metadata": {},
     "output_type": "execute_result"
    }
   ],
   "source": [
    "players"
   ]
  },
  {
   "cell_type": "code",
   "execution_count": null,
   "metadata": {},
   "outputs": [],
   "source": []
  }
 ],
 "metadata": {
  "kernelspec": {
   "display_name": "Python 3",
   "language": "python",
   "name": "python3"
  },
  "language_info": {
   "codemirror_mode": {
    "name": "ipython",
    "version": 3
   },
   "file_extension": ".py",
   "mimetype": "text/x-python",
   "name": "python",
   "nbconvert_exporter": "python",
   "pygments_lexer": "ipython3",
   "version": "3.6.9"
  }
 },
 "nbformat": 4,
 "nbformat_minor": 2
}
