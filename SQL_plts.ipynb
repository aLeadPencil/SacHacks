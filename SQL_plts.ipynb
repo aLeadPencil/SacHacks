{
 "cells": [
  {
   "cell_type": "code",
   "execution_count": null,
   "metadata": {},
   "outputs": [],
   "source": [
    "import pandas as pd\n",
    "import numpy as np\n",
    "import pandasql as ps\n",
    "from pandasql import sqldf\n",
    "import plotly.express as px"
   ]
  },
  {
   "cell_type": "markdown",
   "metadata": {},
   "source": [
    "# DATASET IS FOR THE WHOLE SEASON\n"
   ]
  },
  {
   "cell_type": "code",
   "execution_count": 154,
   "metadata": {},
   "outputs": [
    {
     "data": {
      "text/html": [
       "<div>\n",
       "<style scoped>\n",
       "    .dataframe tbody tr th:only-of-type {\n",
       "        vertical-align: middle;\n",
       "    }\n",
       "\n",
       "    .dataframe tbody tr th {\n",
       "        vertical-align: top;\n",
       "    }\n",
       "\n",
       "    .dataframe thead th {\n",
       "        text-align: right;\n",
       "    }\n",
       "</style>\n",
       "<table border=\"1\" class=\"dataframe\">\n",
       "  <thead>\n",
       "    <tr style=\"text-align: right;\">\n",
       "      <th></th>\n",
       "      <th>Person_id</th>\n",
       "      <th>Player</th>\n",
       "      <th>Team</th>\n",
       "      <th>Season_Type</th>\n",
       "      <th>GP</th>\n",
       "      <th>Min</th>\n",
       "      <th>FGM</th>\n",
       "      <th>FGA</th>\n",
       "      <th>FG_pct</th>\n",
       "      <th>FG3M</th>\n",
       "      <th>...</th>\n",
       "      <th>REB</th>\n",
       "      <th>AST</th>\n",
       "      <th>PF</th>\n",
       "      <th>STL</th>\n",
       "      <th>TOV</th>\n",
       "      <th>BLK</th>\n",
       "      <th>PTS</th>\n",
       "      <th>CareerHighPTS</th>\n",
       "      <th>effi_pct</th>\n",
       "      <th>Tru_shoot_pct</th>\n",
       "    </tr>\n",
       "  </thead>\n",
       "  <tbody>\n",
       "    <tr>\n",
       "      <th>0</th>\n",
       "      <td>1600003</td>\n",
       "      <td>Steez</td>\n",
       "      <td>76ers GC</td>\n",
       "      <td>Regular</td>\n",
       "      <td>16</td>\n",
       "      <td>384</td>\n",
       "      <td>80</td>\n",
       "      <td>115</td>\n",
       "      <td>0.696</td>\n",
       "      <td>4</td>\n",
       "      <td>...</td>\n",
       "      <td>156</td>\n",
       "      <td>33</td>\n",
       "      <td>30</td>\n",
       "      <td>29</td>\n",
       "      <td>33</td>\n",
       "      <td>10</td>\n",
       "      <td>181</td>\n",
       "      <td>34</td>\n",
       "      <td>0.713</td>\n",
       "      <td>0.713</td>\n",
       "    </tr>\n",
       "    <tr>\n",
       "      <th>1</th>\n",
       "      <td>1600022</td>\n",
       "      <td>Newdini33</td>\n",
       "      <td>76ers GC</td>\n",
       "      <td>Regular</td>\n",
       "      <td>16</td>\n",
       "      <td>384</td>\n",
       "      <td>46</td>\n",
       "      <td>74</td>\n",
       "      <td>0.622</td>\n",
       "      <td>18</td>\n",
       "      <td>...</td>\n",
       "      <td>19</td>\n",
       "      <td>14</td>\n",
       "      <td>32</td>\n",
       "      <td>33</td>\n",
       "      <td>9</td>\n",
       "      <td>4</td>\n",
       "      <td>112</td>\n",
       "      <td>31</td>\n",
       "      <td>0.743</td>\n",
       "      <td>0.748</td>\n",
       "    </tr>\n",
       "    <tr>\n",
       "      <th>2</th>\n",
       "      <td>1600025</td>\n",
       "      <td>ZDS</td>\n",
       "      <td>76ers GC</td>\n",
       "      <td>Regular</td>\n",
       "      <td>16</td>\n",
       "      <td>384</td>\n",
       "      <td>107</td>\n",
       "      <td>199</td>\n",
       "      <td>0.538</td>\n",
       "      <td>60</td>\n",
       "      <td>...</td>\n",
       "      <td>10</td>\n",
       "      <td>32</td>\n",
       "      <td>17</td>\n",
       "      <td>22</td>\n",
       "      <td>19</td>\n",
       "      <td>1</td>\n",
       "      <td>280</td>\n",
       "      <td>52</td>\n",
       "      <td>0.688</td>\n",
       "      <td>0.690</td>\n",
       "    </tr>\n",
       "    <tr>\n",
       "      <th>3</th>\n",
       "      <td>1600097</td>\n",
       "      <td>Radiant</td>\n",
       "      <td>76ers GC</td>\n",
       "      <td>Regular</td>\n",
       "      <td>16</td>\n",
       "      <td>384</td>\n",
       "      <td>123</td>\n",
       "      <td>230</td>\n",
       "      <td>0.535</td>\n",
       "      <td>56</td>\n",
       "      <td>...</td>\n",
       "      <td>9</td>\n",
       "      <td>177</td>\n",
       "      <td>17</td>\n",
       "      <td>21</td>\n",
       "      <td>68</td>\n",
       "      <td>1</td>\n",
       "      <td>320</td>\n",
       "      <td>34</td>\n",
       "      <td>0.657</td>\n",
       "      <td>0.670</td>\n",
       "    </tr>\n",
       "    <tr>\n",
       "      <th>4</th>\n",
       "      <td>1600207</td>\n",
       "      <td>oCASSIUS</td>\n",
       "      <td>76ers GC</td>\n",
       "      <td>Regular</td>\n",
       "      <td>1</td>\n",
       "      <td>24</td>\n",
       "      <td>13</td>\n",
       "      <td>24</td>\n",
       "      <td>0.542</td>\n",
       "      <td>10</td>\n",
       "      <td>...</td>\n",
       "      <td>10</td>\n",
       "      <td>4</td>\n",
       "      <td>0</td>\n",
       "      <td>2</td>\n",
       "      <td>3</td>\n",
       "      <td>0</td>\n",
       "      <td>36</td>\n",
       "      <td>36</td>\n",
       "      <td>0.750</td>\n",
       "      <td>0.750</td>\n",
       "    </tr>\n",
       "  </tbody>\n",
       "</table>\n",
       "<p>5 rows × 27 columns</p>\n",
       "</div>"
      ],
      "text/plain": [
       "   Person_id     Player      Team Season_Type  GP  Min  FGM  FGA  FG_pct  \\\n",
       "0    1600003      Steez  76ers GC     Regular  16  384   80  115   0.696   \n",
       "1    1600022  Newdini33  76ers GC     Regular  16  384   46   74   0.622   \n",
       "2    1600025        ZDS  76ers GC     Regular  16  384  107  199   0.538   \n",
       "3    1600097    Radiant  76ers GC     Regular  16  384  123  230   0.535   \n",
       "4    1600207   oCASSIUS  76ers GC     Regular   1   24   13   24   0.542   \n",
       "\n",
       "   FG3M      ...        REB  AST  PF  STL  TOV  BLK  PTS  CareerHighPTS  \\\n",
       "0     4      ...        156   33  30   29   33   10  181             34   \n",
       "1    18      ...         19   14  32   33    9    4  112             31   \n",
       "2    60      ...         10   32  17   22   19    1  280             52   \n",
       "3    56      ...          9  177  17   21   68    1  320             34   \n",
       "4    10      ...         10    4   0    2    3    0   36             36   \n",
       "\n",
       "   effi_pct  Tru_shoot_pct  \n",
       "0     0.713          0.713  \n",
       "1     0.743          0.748  \n",
       "2     0.688          0.690  \n",
       "3     0.657          0.670  \n",
       "4     0.750          0.750  \n",
       "\n",
       "[5 rows x 27 columns]"
      ]
     },
     "execution_count": 154,
     "metadata": {},
     "output_type": "execute_result"
    }
   ],
   "source": [
    "teams = pd.read_excel(\"2KL Team Stats.xlsx\")\n",
    "players = pd.read_excel(\"2K Player Stats.xlsx\")\n",
    "teams = teams.rename(columns={\"FG%\":\"FG_pct\",\"3P%\":\"3P_pct\",\"Opp_3P%\":\"Opp_3P_pct\",\"Opp_FG%\":\"Opp_FG_pct\"})\n",
    "players = players.rename(columns = {\"FG%\":\"FG_pct\",\"FG3%\":\"FDG3_pct\",\"FT%\":\"FT_pct\",\"eFG%\":\"effi_pct\",\"TS%\":\"Tru_shoot_pct\"})\n",
    "\n",
    "players.head()"
   ]
  },
  {
   "cell_type": "code",
   "execution_count": 155,
   "metadata": {},
   "outputs": [
    {
     "data": {
      "text/html": [
       "<div>\n",
       "<style scoped>\n",
       "    .dataframe tbody tr th:only-of-type {\n",
       "        vertical-align: middle;\n",
       "    }\n",
       "\n",
       "    .dataframe tbody tr th {\n",
       "        vertical-align: top;\n",
       "    }\n",
       "\n",
       "    .dataframe thead th {\n",
       "        text-align: right;\n",
       "    }\n",
       "</style>\n",
       "<table border=\"1\" class=\"dataframe\">\n",
       "  <thead>\n",
       "    <tr style=\"text-align: right;\">\n",
       "      <th></th>\n",
       "      <th>Nickname</th>\n",
       "      <th>Points</th>\n",
       "      <th>Offensive_Rebounds</th>\n",
       "      <th>Defensive_Rebounds</th>\n",
       "      <th>Assists</th>\n",
       "      <th>Steals</th>\n",
       "      <th>Turnovers</th>\n",
       "    </tr>\n",
       "  </thead>\n",
       "  <tbody>\n",
       "    <tr>\n",
       "      <th>0</th>\n",
       "      <td>Blazer5 Gaming</td>\n",
       "      <td>1062</td>\n",
       "      <td>117</td>\n",
       "      <td>192</td>\n",
       "      <td>265</td>\n",
       "      <td>165</td>\n",
       "      <td>164</td>\n",
       "    </tr>\n",
       "    <tr>\n",
       "      <th>1</th>\n",
       "      <td>76ers GC</td>\n",
       "      <td>1058</td>\n",
       "      <td>125</td>\n",
       "      <td>166</td>\n",
       "      <td>289</td>\n",
       "      <td>152</td>\n",
       "      <td>149</td>\n",
       "    </tr>\n",
       "    <tr>\n",
       "      <th>2</th>\n",
       "      <td>Celtics Crossover Gaming</td>\n",
       "      <td>1071</td>\n",
       "      <td>107</td>\n",
       "      <td>171</td>\n",
       "      <td>277</td>\n",
       "      <td>172</td>\n",
       "      <td>164</td>\n",
       "    </tr>\n",
       "    <tr>\n",
       "      <th>3</th>\n",
       "      <td>Grizz Gaming</td>\n",
       "      <td>997</td>\n",
       "      <td>118</td>\n",
       "      <td>193</td>\n",
       "      <td>250</td>\n",
       "      <td>132</td>\n",
       "      <td>149</td>\n",
       "    </tr>\n",
       "    <tr>\n",
       "      <th>4</th>\n",
       "      <td>T-Wolves Gaming</td>\n",
       "      <td>1024</td>\n",
       "      <td>94</td>\n",
       "      <td>197</td>\n",
       "      <td>291</td>\n",
       "      <td>145</td>\n",
       "      <td>166</td>\n",
       "    </tr>\n",
       "  </tbody>\n",
       "</table>\n",
       "</div>"
      ],
      "text/plain": [
       "                   Nickname  Points  Offensive_Rebounds  Defensive_Rebounds  \\\n",
       "0            Blazer5 Gaming    1062                 117                 192   \n",
       "1                  76ers GC    1058                 125                 166   \n",
       "2  Celtics Crossover Gaming    1071                 107                 171   \n",
       "3              Grizz Gaming     997                 118                 193   \n",
       "4           T-Wolves Gaming    1024                  94                 197   \n",
       "\n",
       "   Assists  Steals  Turnovers  \n",
       "0      265     165        164  \n",
       "1      289     152        149  \n",
       "2      277     172        164  \n",
       "3      250     132        149  \n",
       "4      291     145        166  "
      ]
     },
     "execution_count": 155,
     "metadata": {},
     "output_type": "execute_result"
    }
   ],
   "source": [
    "pysqldf = lambda q: sqldf(q,globals())\n",
    "q1 = '''\n",
    "     SELECT Nickname,Points,Offensive_Rebounds,Defensive_Rebounds,Assists,Steals,Turnovers\n",
    "     FROM teams\n",
    "    '''\n",
    "main_cats = pysqldf(q1)\n",
    "main_cats.head()"
   ]
  },
  {
   "cell_type": "code",
   "execution_count": 156,
   "metadata": {},
   "outputs": [],
   "source": [
    "pts = pysqldf('''\n",
    "        SELECT Nickname,Points FROM main_cats ORDER BY Points Desc\n",
    "        ''')"
   ]
  },
  {
   "cell_type": "code",
   "execution_count": 187,
   "metadata": {},
   "outputs": [],
   "source": [
    "def barplt_teams(data,feat):\n",
    "    \n",
    "    fig = px.bar(data.sort_values(by=[feat]), x='Nickname', y=str(feat),\n",
    "                hover_data = ['Nickname'],color = feat)\n",
    "    fig.show()\n",
    "    \n",
    "\n",
    "def barplt_players(data,feat):\n",
    "    data_names= data.columns.tolist()\n",
    "    data_names.remove(feat)\n",
    "    \n",
    "    fig = px.bar(data.sort_values(by=[feat]), x='Player', y=str(feat),\n",
    "                hover_data= ['Player','Team'],color=feat)\n",
    "    fig.show()\n",
    "\n",
    "#players_main_feats = pysqldf(''' SELECT Player,Team,REB,AST,STL,TOV,BLK,PTS FROM players''')\n"
   ]
  },
  {
   "cell_type": "code",
   "execution_count": 192,
   "metadata": {},
   "outputs": [
    {
     "data": {
      "application/vnd.plotly.v1+json": {
       "config": {
        "plotlyServerURL": "https://plot.ly"
       },
       "data": [
        {
         "alignmentgroup": "True",
         "customdata": [
          [
           "Roman",
           "Kings Guard Gaming"
          ],
          [
           "iiTzChas",
           "NetsGC"
          ],
          [
           "NachoTraynor",
           "T-Wolves Gaming"
          ],
          [
           "GRANT MONSTER",
           "Mavs Gaming"
          ],
          [
           "oCASSIUS",
           "76ers GC"
          ],
          [
           "TuckerLocksUp",
           "Magic Gaming"
          ],
          [
           "Yeah I Compete",
           "Jazz Gaming"
          ],
          [
           "Chiquita",
           "Warriors Gaming Squad"
          ],
          [
           "Suavy",
           "Celtics Crossover Gaming"
          ],
          [
           "RSG",
           "Bucks Gaming"
          ],
          [
           "KevDontMiss",
           "Jazz Gaming"
          ],
          [
           "LYKaPRO",
           "Cavs Legion GC"
          ],
          [
           "KelMav",
           "Total"
          ],
          [
           "Jaacko",
           "Pistons GT"
          ],
          [
           "Matty",
           "Pacers Gaming"
          ],
          [
           "YEYNotGaming",
           "Knicks Gaming"
          ],
          [
           "Reizey",
           "Magic Gaming"
          ],
          [
           "Man_in_a_car",
           "Pacers Gaming"
          ],
          [
           "PaulB",
           "Wizards District Gaming"
          ],
          [
           "XxSTL2LAxX",
           "Hawks Talon GC"
          ],
          [
           "UniversaIPhenom",
           "Grizz Gaming"
          ],
          [
           "Doza",
           "Raptors Uprising GC"
          ],
          [
           "ChaChingSingh",
           "Heat Check Gaming"
          ],
          [
           "BigMeek",
           "Bucks Gaming"
          ],
          [
           "OOC Slim",
           "Raptors Uprising GC"
          ],
          [
           "Safiya4ya",
           "Lakers Gaming"
          ],
          [
           "Savage",
           "Cavs Legion GC"
          ],
          [
           "Strainer",
           "Cavs Legion GC"
          ],
          [
           "Jomar12 PR",
           "Blazer5 Gaming"
          ],
          [
           "King Peroxide",
           "Blazer5 Gaming"
          ],
          [
           "Swizurk",
           "Pacers Gaming"
          ],
          [
           "Lav",
           "NetsGC"
          ],
          [
           "Vandi",
           "Grizz Gaming"
          ],
          [
           "Demon JT",
           "Wizards District Gaming"
          ],
          [
           "Rando",
           "Hawks Talon GC"
          ],
          [
           "Detoxys",
           "Lakers Gaming"
          ],
          [
           "Gilly",
           "Wizards District Gaming"
          ],
          [
           "CB13",
           "Warriors Gaming Squad"
          ],
          [
           "BearDaBeast",
           "T-Wolves Gaming"
          ],
          [
           "Wavy.zay",
           "NetsGC"
          ],
          [
           "Kontrul",
           "Lakers Gaming"
          ],
          [
           "BalILikeSeem",
           "Kings Guard Gaming"
          ],
          [
           "May",
           "Pistons GT"
          ],
          [
           "iamadamthe1st",
           "Knicks Gaming"
          ],
          [
           "Jin",
           "Warriors Gaming Squad"
          ],
          [
           "MrStylez",
           "Total"
          ],
          [
           "Mo",
           "Mavs Gaming"
          ],
          [
           "splashking",
           "Pistons GT"
          ],
          [
           "Rux",
           "Mavs Gaming"
          ],
          [
           "Jayrod",
           "Grizz Gaming"
          ],
          [
           "All Hail Trey",
           "Total"
          ],
          [
           "KingCamRoyalty",
           "Magic Gaming"
          ],
          [
           "Radiant",
           "76ers GC"
          ],
          [
           "SlayIsland",
           "Bucks Gaming"
          ],
          [
           "Jay a FooL",
           "Hawks Talon GC"
          ],
          [
           "worthingcolt",
           "Kings Guard Gaming"
          ],
          [
           "Dimez",
           "Mavs Gaming"
          ],
          [
           "Shockey",
           "NetsGC"
          ],
          [
           "ZDS",
           "76ers GC"
          ],
          [
           "Gliz",
           "Jazz Gaming"
          ],
          [
           "Idrisdagoat6",
           "Knicks Gaming"
          ],
          [
           "Mama Im Dat Man",
           "Blazer5 Gaming"
          ],
          [
           "chaddynick",
           "Bucks Gaming"
          ],
          [
           "iiNsaniTTy",
           "Pistons GT"
          ],
          [
           "Bp",
           "Kings Guard Gaming"
          ],
          [
           "UCMANNY",
           "Magic Gaming"
          ],
          [
           "MOAM",
           "Total"
          ],
          [
           "G O O F Y 7 5 7",
           "Knicks Gaming"
          ],
          [
           "Lord Beezus",
           "Pacers Gaming"
          ],
          [
           "JMoneyRep817",
           "Total"
          ],
          [
           "Bulleyy",
           "Celtics Crossover Gaming"
          ],
          [
           "Hood",
           "Total"
          ],
          [
           "Vert",
           "Lakers Gaming"
          ],
          [
           "ReeseDaGod",
           "Wizards District Gaming"
          ],
          [
           "Dayfri",
           "Wizards District Gaming"
          ],
          [
           "Dat Boy Shotz",
           "Hawks Talon GC"
          ],
          [
           "ToXsiK",
           "Total"
          ],
          [
           "Bsmoove",
           "Warriors Gaming Squad"
          ],
          [
           "Joseph",
           "Pistons GT"
          ],
          [
           "l 24k Dropoff l",
           "Heat Check Gaming"
          ],
          [
           "JoJo",
           "T-Wolves Gaming"
          ],
          [
           "TsJosh",
           "Raptors Uprising GC"
          ],
          [
           "Kenny Got Work",
           "Raptors Uprising GC"
          ],
          [
           "MaJes7ic",
           "Heat Check Gaming"
          ],
          [
           "Yusuf_Scarbz",
           "Kings Guard Gaming"
          ],
          [
           "DevGoss",
           "Total"
          ],
          [
           "Steez",
           "76ers GC"
          ],
          [
           "Mootyy",
           "Lakers Gaming"
          ],
          [
           "Zakyy610",
           "Kings Guard Gaming"
          ],
          [
           "Arooks",
           "Bucks Gaming"
          ],
          [
           "NO xAUTOGRAPHSx",
           "Celtics Crossover Gaming"
          ],
          [
           "OriginalMalik",
           "Knicks Gaming"
          ],
          [
           "WoLF 74",
           "Pacers Gaming"
          ],
          [
           "Sherm",
           "Mavs Gaming"
          ],
          [
           "HazzaUK",
           "Knicks Gaming"
          ],
          [
           "Kev",
           "Lakers Gaming"
          ],
          [
           "Newdini33",
           "76ers GC"
          ],
          [
           "Ramo",
           "Pacers Gaming"
          ],
          [
           "Arsonal",
           "Hawks Talon GC"
          ],
          [
           "Type",
           "Warriors Gaming Squad"
          ],
          [
           "ProFusion",
           "Celtics Crossover Gaming"
          ],
          [
           "OneWildWalnut",
           "Blazer5 Gaming"
          ],
          [
           "Ria",
           "Jazz Gaming"
          ],
          [
           "oLarry",
           "Cavs Legion GC"
          ],
          [
           "Plondo",
           "Bucks Gaming"
          ],
          [
           "DDouble",
           "Grizz Gaming"
          ],
          [
           "Hotshot",
           "Heat Check Gaming"
          ],
          [
           "Deedz",
           "Jazz Gaming"
          ],
          [
           "Sick x 973",
           "Total"
          ],
          [
           "TURNUPDEFENSE",
           "T-Wolves Gaming"
          ],
          [
           "Lotty",
           "Total"
          ],
          [
           "oFAB",
           "Celtics Crossover Gaming"
          ],
          [
           "Daveed 3x",
           "Blazer5 Gaming"
          ],
          [
           "PeteBeBallin",
           "Mavs Gaming"
          ],
          [
           "AuthenticAfrican",
           "Grizz Gaming"
          ],
          [
           "Shuttles",
           "NetsGC"
          ],
          [
           "USERPICK",
           "Wizards District Gaming"
          ],
          [
           "Mel East",
           "Celtics Crossover Gaming"
          ],
          [
           "NateKahl",
           "NetsGC"
          ],
          [
           "LavishPhenom",
           "Blazer5 Gaming"
          ],
          [
           "FEAST",
           "T-Wolves Gaming"
          ],
          [
           "DT",
           "Magic Gaming"
          ],
          [
           "Gradient",
           "Warriors Gaming Squad"
          ],
          [
           "BreadwinnerLA",
           "76ers GC"
          ],
          [
           "KingQuai614",
           "Raptors Uprising GC"
          ],
          [
           "Godddof2k",
           "Cavs Legion GC"
          ]
         ],
         "hoverlabel": {
          "namelength": 0
         },
         "hovertemplate": "Player=%{customdata[0]}<br>STL=%{marker.color}<br>Team=%{customdata[1]}",
         "legendgroup": "",
         "marker": {
          "color": [
           0,
           1,
           1,
           2,
           2,
           4,
           4,
           4,
           5,
           6,
           6,
           8,
           8,
           8,
           8,
           8,
           9,
           9,
           9,
           10,
           10,
           11,
           11,
           11,
           12,
           12,
           14,
           14,
           14,
           14,
           15,
           15,
           15,
           15,
           15,
           16,
           16,
           17,
           17,
           17,
           17,
           17,
           18,
           18,
           19,
           19,
           20,
           20,
           20,
           20,
           20,
           21,
           21,
           21,
           21,
           22,
           22,
           22,
           22,
           23,
           23,
           23,
           23,
           23,
           23,
           24,
           24,
           24,
           24,
           24,
           24,
           24,
           25,
           25,
           26,
           26,
           26,
           26,
           26,
           27,
           27,
           27,
           27,
           28,
           28,
           29,
           29,
           29,
           29,
           30,
           30,
           30,
           30,
           31,
           32,
           33,
           33,
           33,
           33,
           34,
           34,
           35,
           35,
           35,
           36,
           36,
           36,
           36,
           37,
           37,
           37,
           38,
           38,
           38,
           39,
           39,
           40,
           41,
           41,
           41,
           41,
           43,
           44,
           45,
           47,
           57
          ],
          "coloraxis": "coloraxis"
         },
         "name": "",
         "offsetgroup": "",
         "orientation": "v",
         "showlegend": false,
         "textposition": "auto",
         "type": "bar",
         "x": [
          "Roman",
          "iiTzChas",
          "NachoTraynor",
          "GRANT MONSTER",
          "oCASSIUS",
          "TuckerLocksUp",
          "Yeah I Compete",
          "Chiquita",
          "Suavy",
          "RSG",
          "KevDontMiss",
          "LYKaPRO",
          "KelMav",
          "Jaacko",
          "Matty",
          "YEYNotGaming",
          "Reizey",
          "Man_in_a_car",
          "PaulB",
          "XxSTL2LAxX",
          "UniversaIPhenom",
          "Doza",
          "ChaChingSingh",
          "BigMeek",
          "OOC Slim",
          "Safiya4ya",
          "Savage",
          "Strainer",
          "Jomar12 PR",
          "King Peroxide",
          "Swizurk",
          "Lav",
          "Vandi",
          "Demon JT",
          "Rando",
          "Detoxys",
          "Gilly",
          "CB13",
          "BearDaBeast",
          "Wavy.zay",
          "Kontrul",
          "BalILikeSeem",
          "May",
          "iamadamthe1st",
          "Jin",
          "MrStylez",
          "Mo",
          "splashking",
          "Rux",
          "Jayrod",
          "All Hail Trey",
          "KingCamRoyalty",
          "Radiant",
          "SlayIsland",
          "Jay a FooL",
          "worthingcolt",
          "Dimez",
          "Shockey",
          "ZDS",
          "Gliz",
          "Idrisdagoat6",
          "Mama Im Dat Man",
          "chaddynick",
          "iiNsaniTTy",
          "Bp",
          "UCMANNY",
          "MOAM",
          "G O O F Y 7 5 7",
          "Lord Beezus",
          "JMoneyRep817",
          "Bulleyy",
          "Hood",
          "Vert",
          "ReeseDaGod",
          "Dayfri",
          "Dat Boy Shotz",
          "ToXsiK",
          "Bsmoove",
          "Joseph",
          "l 24k Dropoff l",
          "JoJo",
          "TsJosh",
          "Kenny Got Work",
          "MaJes7ic",
          "Yusuf_Scarbz",
          "DevGoss",
          "Steez",
          "Mootyy",
          "Zakyy610",
          "Arooks",
          "NO xAUTOGRAPHSx",
          "OriginalMalik",
          "WoLF 74",
          "Sherm",
          "HazzaUK",
          "Kev",
          "Newdini33",
          "Ramo",
          "Arsonal",
          "Type",
          "ProFusion",
          "OneWildWalnut",
          "Ria",
          "oLarry",
          "Plondo",
          "DDouble",
          "Hotshot",
          "Deedz",
          "Sick x 973",
          "TURNUPDEFENSE",
          "Lotty",
          "oFAB",
          "Daveed 3x",
          "PeteBeBallin",
          "AuthenticAfrican",
          "Shuttles",
          "USERPICK",
          "Mel East",
          "NateKahl",
          "LavishPhenom",
          "FEAST",
          "DT",
          "Gradient",
          "BreadwinnerLA",
          "KingQuai614",
          "Godddof2k"
         ],
         "xaxis": "x",
         "y": [
          0,
          1,
          1,
          2,
          2,
          4,
          4,
          4,
          5,
          6,
          6,
          8,
          8,
          8,
          8,
          8,
          9,
          9,
          9,
          10,
          10,
          11,
          11,
          11,
          12,
          12,
          14,
          14,
          14,
          14,
          15,
          15,
          15,
          15,
          15,
          16,
          16,
          17,
          17,
          17,
          17,
          17,
          18,
          18,
          19,
          19,
          20,
          20,
          20,
          20,
          20,
          21,
          21,
          21,
          21,
          22,
          22,
          22,
          22,
          23,
          23,
          23,
          23,
          23,
          23,
          24,
          24,
          24,
          24,
          24,
          24,
          24,
          25,
          25,
          26,
          26,
          26,
          26,
          26,
          27,
          27,
          27,
          27,
          28,
          28,
          29,
          29,
          29,
          29,
          30,
          30,
          30,
          30,
          31,
          32,
          33,
          33,
          33,
          33,
          34,
          34,
          35,
          35,
          35,
          36,
          36,
          36,
          36,
          37,
          37,
          37,
          38,
          38,
          38,
          39,
          39,
          40,
          41,
          41,
          41,
          41,
          43,
          44,
          45,
          47,
          57
         ],
         "yaxis": "y"
        }
       ],
       "layout": {
        "barmode": "relative",
        "coloraxis": {
         "colorbar": {
          "title": {
           "text": "STL"
          }
         },
         "colorscale": [
          [
           0,
           "#0d0887"
          ],
          [
           0.1111111111111111,
           "#46039f"
          ],
          [
           0.2222222222222222,
           "#7201a8"
          ],
          [
           0.3333333333333333,
           "#9c179e"
          ],
          [
           0.4444444444444444,
           "#bd3786"
          ],
          [
           0.5555555555555556,
           "#d8576b"
          ],
          [
           0.6666666666666666,
           "#ed7953"
          ],
          [
           0.7777777777777778,
           "#fb9f3a"
          ],
          [
           0.8888888888888888,
           "#fdca26"
          ],
          [
           1,
           "#f0f921"
          ]
         ]
        },
        "legend": {
         "tracegroupgap": 0
        },
        "margin": {
         "t": 60
        },
        "template": {
         "data": {
          "bar": [
           {
            "error_x": {
             "color": "#2a3f5f"
            },
            "error_y": {
             "color": "#2a3f5f"
            },
            "marker": {
             "line": {
              "color": "#E5ECF6",
              "width": 0.5
             }
            },
            "type": "bar"
           }
          ],
          "barpolar": [
           {
            "marker": {
             "line": {
              "color": "#E5ECF6",
              "width": 0.5
             }
            },
            "type": "barpolar"
           }
          ],
          "carpet": [
           {
            "aaxis": {
             "endlinecolor": "#2a3f5f",
             "gridcolor": "white",
             "linecolor": "white",
             "minorgridcolor": "white",
             "startlinecolor": "#2a3f5f"
            },
            "baxis": {
             "endlinecolor": "#2a3f5f",
             "gridcolor": "white",
             "linecolor": "white",
             "minorgridcolor": "white",
             "startlinecolor": "#2a3f5f"
            },
            "type": "carpet"
           }
          ],
          "choropleth": [
           {
            "colorbar": {
             "outlinewidth": 0,
             "ticks": ""
            },
            "type": "choropleth"
           }
          ],
          "contour": [
           {
            "colorbar": {
             "outlinewidth": 0,
             "ticks": ""
            },
            "colorscale": [
             [
              0,
              "#0d0887"
             ],
             [
              0.1111111111111111,
              "#46039f"
             ],
             [
              0.2222222222222222,
              "#7201a8"
             ],
             [
              0.3333333333333333,
              "#9c179e"
             ],
             [
              0.4444444444444444,
              "#bd3786"
             ],
             [
              0.5555555555555556,
              "#d8576b"
             ],
             [
              0.6666666666666666,
              "#ed7953"
             ],
             [
              0.7777777777777778,
              "#fb9f3a"
             ],
             [
              0.8888888888888888,
              "#fdca26"
             ],
             [
              1,
              "#f0f921"
             ]
            ],
            "type": "contour"
           }
          ],
          "contourcarpet": [
           {
            "colorbar": {
             "outlinewidth": 0,
             "ticks": ""
            },
            "type": "contourcarpet"
           }
          ],
          "heatmap": [
           {
            "colorbar": {
             "outlinewidth": 0,
             "ticks": ""
            },
            "colorscale": [
             [
              0,
              "#0d0887"
             ],
             [
              0.1111111111111111,
              "#46039f"
             ],
             [
              0.2222222222222222,
              "#7201a8"
             ],
             [
              0.3333333333333333,
              "#9c179e"
             ],
             [
              0.4444444444444444,
              "#bd3786"
             ],
             [
              0.5555555555555556,
              "#d8576b"
             ],
             [
              0.6666666666666666,
              "#ed7953"
             ],
             [
              0.7777777777777778,
              "#fb9f3a"
             ],
             [
              0.8888888888888888,
              "#fdca26"
             ],
             [
              1,
              "#f0f921"
             ]
            ],
            "type": "heatmap"
           }
          ],
          "heatmapgl": [
           {
            "colorbar": {
             "outlinewidth": 0,
             "ticks": ""
            },
            "colorscale": [
             [
              0,
              "#0d0887"
             ],
             [
              0.1111111111111111,
              "#46039f"
             ],
             [
              0.2222222222222222,
              "#7201a8"
             ],
             [
              0.3333333333333333,
              "#9c179e"
             ],
             [
              0.4444444444444444,
              "#bd3786"
             ],
             [
              0.5555555555555556,
              "#d8576b"
             ],
             [
              0.6666666666666666,
              "#ed7953"
             ],
             [
              0.7777777777777778,
              "#fb9f3a"
             ],
             [
              0.8888888888888888,
              "#fdca26"
             ],
             [
              1,
              "#f0f921"
             ]
            ],
            "type": "heatmapgl"
           }
          ],
          "histogram": [
           {
            "marker": {
             "colorbar": {
              "outlinewidth": 0,
              "ticks": ""
             }
            },
            "type": "histogram"
           }
          ],
          "histogram2d": [
           {
            "colorbar": {
             "outlinewidth": 0,
             "ticks": ""
            },
            "colorscale": [
             [
              0,
              "#0d0887"
             ],
             [
              0.1111111111111111,
              "#46039f"
             ],
             [
              0.2222222222222222,
              "#7201a8"
             ],
             [
              0.3333333333333333,
              "#9c179e"
             ],
             [
              0.4444444444444444,
              "#bd3786"
             ],
             [
              0.5555555555555556,
              "#d8576b"
             ],
             [
              0.6666666666666666,
              "#ed7953"
             ],
             [
              0.7777777777777778,
              "#fb9f3a"
             ],
             [
              0.8888888888888888,
              "#fdca26"
             ],
             [
              1,
              "#f0f921"
             ]
            ],
            "type": "histogram2d"
           }
          ],
          "histogram2dcontour": [
           {
            "colorbar": {
             "outlinewidth": 0,
             "ticks": ""
            },
            "colorscale": [
             [
              0,
              "#0d0887"
             ],
             [
              0.1111111111111111,
              "#46039f"
             ],
             [
              0.2222222222222222,
              "#7201a8"
             ],
             [
              0.3333333333333333,
              "#9c179e"
             ],
             [
              0.4444444444444444,
              "#bd3786"
             ],
             [
              0.5555555555555556,
              "#d8576b"
             ],
             [
              0.6666666666666666,
              "#ed7953"
             ],
             [
              0.7777777777777778,
              "#fb9f3a"
             ],
             [
              0.8888888888888888,
              "#fdca26"
             ],
             [
              1,
              "#f0f921"
             ]
            ],
            "type": "histogram2dcontour"
           }
          ],
          "mesh3d": [
           {
            "colorbar": {
             "outlinewidth": 0,
             "ticks": ""
            },
            "type": "mesh3d"
           }
          ],
          "parcoords": [
           {
            "line": {
             "colorbar": {
              "outlinewidth": 0,
              "ticks": ""
             }
            },
            "type": "parcoords"
           }
          ],
          "pie": [
           {
            "automargin": true,
            "type": "pie"
           }
          ],
          "scatter": [
           {
            "marker": {
             "colorbar": {
              "outlinewidth": 0,
              "ticks": ""
             }
            },
            "type": "scatter"
           }
          ],
          "scatter3d": [
           {
            "line": {
             "colorbar": {
              "outlinewidth": 0,
              "ticks": ""
             }
            },
            "marker": {
             "colorbar": {
              "outlinewidth": 0,
              "ticks": ""
             }
            },
            "type": "scatter3d"
           }
          ],
          "scattercarpet": [
           {
            "marker": {
             "colorbar": {
              "outlinewidth": 0,
              "ticks": ""
             }
            },
            "type": "scattercarpet"
           }
          ],
          "scattergeo": [
           {
            "marker": {
             "colorbar": {
              "outlinewidth": 0,
              "ticks": ""
             }
            },
            "type": "scattergeo"
           }
          ],
          "scattergl": [
           {
            "marker": {
             "colorbar": {
              "outlinewidth": 0,
              "ticks": ""
             }
            },
            "type": "scattergl"
           }
          ],
          "scattermapbox": [
           {
            "marker": {
             "colorbar": {
              "outlinewidth": 0,
              "ticks": ""
             }
            },
            "type": "scattermapbox"
           }
          ],
          "scatterpolar": [
           {
            "marker": {
             "colorbar": {
              "outlinewidth": 0,
              "ticks": ""
             }
            },
            "type": "scatterpolar"
           }
          ],
          "scatterpolargl": [
           {
            "marker": {
             "colorbar": {
              "outlinewidth": 0,
              "ticks": ""
             }
            },
            "type": "scatterpolargl"
           }
          ],
          "scatterternary": [
           {
            "marker": {
             "colorbar": {
              "outlinewidth": 0,
              "ticks": ""
             }
            },
            "type": "scatterternary"
           }
          ],
          "surface": [
           {
            "colorbar": {
             "outlinewidth": 0,
             "ticks": ""
            },
            "colorscale": [
             [
              0,
              "#0d0887"
             ],
             [
              0.1111111111111111,
              "#46039f"
             ],
             [
              0.2222222222222222,
              "#7201a8"
             ],
             [
              0.3333333333333333,
              "#9c179e"
             ],
             [
              0.4444444444444444,
              "#bd3786"
             ],
             [
              0.5555555555555556,
              "#d8576b"
             ],
             [
              0.6666666666666666,
              "#ed7953"
             ],
             [
              0.7777777777777778,
              "#fb9f3a"
             ],
             [
              0.8888888888888888,
              "#fdca26"
             ],
             [
              1,
              "#f0f921"
             ]
            ],
            "type": "surface"
           }
          ],
          "table": [
           {
            "cells": {
             "fill": {
              "color": "#EBF0F8"
             },
             "line": {
              "color": "white"
             }
            },
            "header": {
             "fill": {
              "color": "#C8D4E3"
             },
             "line": {
              "color": "white"
             }
            },
            "type": "table"
           }
          ]
         },
         "layout": {
          "annotationdefaults": {
           "arrowcolor": "#2a3f5f",
           "arrowhead": 0,
           "arrowwidth": 1
          },
          "coloraxis": {
           "colorbar": {
            "outlinewidth": 0,
            "ticks": ""
           }
          },
          "colorscale": {
           "diverging": [
            [
             0,
             "#8e0152"
            ],
            [
             0.1,
             "#c51b7d"
            ],
            [
             0.2,
             "#de77ae"
            ],
            [
             0.3,
             "#f1b6da"
            ],
            [
             0.4,
             "#fde0ef"
            ],
            [
             0.5,
             "#f7f7f7"
            ],
            [
             0.6,
             "#e6f5d0"
            ],
            [
             0.7,
             "#b8e186"
            ],
            [
             0.8,
             "#7fbc41"
            ],
            [
             0.9,
             "#4d9221"
            ],
            [
             1,
             "#276419"
            ]
           ],
           "sequential": [
            [
             0,
             "#0d0887"
            ],
            [
             0.1111111111111111,
             "#46039f"
            ],
            [
             0.2222222222222222,
             "#7201a8"
            ],
            [
             0.3333333333333333,
             "#9c179e"
            ],
            [
             0.4444444444444444,
             "#bd3786"
            ],
            [
             0.5555555555555556,
             "#d8576b"
            ],
            [
             0.6666666666666666,
             "#ed7953"
            ],
            [
             0.7777777777777778,
             "#fb9f3a"
            ],
            [
             0.8888888888888888,
             "#fdca26"
            ],
            [
             1,
             "#f0f921"
            ]
           ],
           "sequentialminus": [
            [
             0,
             "#0d0887"
            ],
            [
             0.1111111111111111,
             "#46039f"
            ],
            [
             0.2222222222222222,
             "#7201a8"
            ],
            [
             0.3333333333333333,
             "#9c179e"
            ],
            [
             0.4444444444444444,
             "#bd3786"
            ],
            [
             0.5555555555555556,
             "#d8576b"
            ],
            [
             0.6666666666666666,
             "#ed7953"
            ],
            [
             0.7777777777777778,
             "#fb9f3a"
            ],
            [
             0.8888888888888888,
             "#fdca26"
            ],
            [
             1,
             "#f0f921"
            ]
           ]
          },
          "colorway": [
           "#636efa",
           "#EF553B",
           "#00cc96",
           "#ab63fa",
           "#FFA15A",
           "#19d3f3",
           "#FF6692",
           "#B6E880",
           "#FF97FF",
           "#FECB52"
          ],
          "font": {
           "color": "#2a3f5f"
          },
          "geo": {
           "bgcolor": "white",
           "lakecolor": "white",
           "landcolor": "#E5ECF6",
           "showlakes": true,
           "showland": true,
           "subunitcolor": "white"
          },
          "hoverlabel": {
           "align": "left"
          },
          "hovermode": "closest",
          "mapbox": {
           "style": "light"
          },
          "paper_bgcolor": "white",
          "plot_bgcolor": "#E5ECF6",
          "polar": {
           "angularaxis": {
            "gridcolor": "white",
            "linecolor": "white",
            "ticks": ""
           },
           "bgcolor": "#E5ECF6",
           "radialaxis": {
            "gridcolor": "white",
            "linecolor": "white",
            "ticks": ""
           }
          },
          "scene": {
           "xaxis": {
            "backgroundcolor": "#E5ECF6",
            "gridcolor": "white",
            "gridwidth": 2,
            "linecolor": "white",
            "showbackground": true,
            "ticks": "",
            "zerolinecolor": "white"
           },
           "yaxis": {
            "backgroundcolor": "#E5ECF6",
            "gridcolor": "white",
            "gridwidth": 2,
            "linecolor": "white",
            "showbackground": true,
            "ticks": "",
            "zerolinecolor": "white"
           },
           "zaxis": {
            "backgroundcolor": "#E5ECF6",
            "gridcolor": "white",
            "gridwidth": 2,
            "linecolor": "white",
            "showbackground": true,
            "ticks": "",
            "zerolinecolor": "white"
           }
          },
          "shapedefaults": {
           "line": {
            "color": "#2a3f5f"
           }
          },
          "ternary": {
           "aaxis": {
            "gridcolor": "white",
            "linecolor": "white",
            "ticks": ""
           },
           "baxis": {
            "gridcolor": "white",
            "linecolor": "white",
            "ticks": ""
           },
           "bgcolor": "#E5ECF6",
           "caxis": {
            "gridcolor": "white",
            "linecolor": "white",
            "ticks": ""
           }
          },
          "title": {
           "x": 0.05
          },
          "xaxis": {
           "automargin": true,
           "gridcolor": "white",
           "linecolor": "white",
           "ticks": "",
           "title": {
            "standoff": 15
           },
           "zerolinecolor": "white",
           "zerolinewidth": 2
          },
          "yaxis": {
           "automargin": true,
           "gridcolor": "white",
           "linecolor": "white",
           "ticks": "",
           "title": {
            "standoff": 15
           },
           "zerolinecolor": "white",
           "zerolinewidth": 2
          }
         }
        },
        "xaxis": {
         "anchor": "y",
         "domain": [
          0,
          1
         ],
         "title": {
          "text": "Player"
         }
        },
        "yaxis": {
         "anchor": "x",
         "domain": [
          0,
          1
         ],
         "title": {
          "text": "STL"
         }
        }
       }
      },
      "text/html": [
       "<div>\n",
       "        \n",
       "        \n",
       "            <div id=\"d20dfc92-6c46-4361-872e-1d63e42c211d\" class=\"plotly-graph-div\" style=\"height:525px; width:100%;\"></div>\n",
       "            <script type=\"text/javascript\">\n",
       "                require([\"plotly\"], function(Plotly) {\n",
       "                    window.PLOTLYENV=window.PLOTLYENV || {};\n",
       "                    \n",
       "                if (document.getElementById(\"d20dfc92-6c46-4361-872e-1d63e42c211d\")) {\n",
       "                    Plotly.newPlot(\n",
       "                        'd20dfc92-6c46-4361-872e-1d63e42c211d',\n",
       "                        [{\"alignmentgroup\": \"True\", \"customdata\": [[\"Roman\", \"Kings Guard Gaming\"], [\"iiTzChas\", \"NetsGC\"], [\"NachoTraynor\", \"T-Wolves Gaming\"], [\"GRANT MONSTER\", \"Mavs Gaming\"], [\"oCASSIUS\", \"76ers GC\"], [\"TuckerLocksUp\", \"Magic Gaming\"], [\"Yeah I Compete\", \"Jazz Gaming\"], [\"Chiquita\", \"Warriors Gaming Squad\"], [\"Suavy\", \"Celtics Crossover Gaming\"], [\"RSG\", \"Bucks Gaming\"], [\"KevDontMiss\", \"Jazz Gaming\"], [\"LYKaPRO\", \"Cavs Legion GC\"], [\"KelMav\", \"Total\"], [\"Jaacko\", \"Pistons GT\"], [\"Matty\", \"Pacers Gaming\"], [\"YEYNotGaming\", \"Knicks Gaming\"], [\"Reizey\", \"Magic Gaming\"], [\"Man_in_a_car\", \"Pacers Gaming\"], [\"PaulB\", \"Wizards District Gaming\"], [\"XxSTL2LAxX\", \"Hawks Talon GC\"], [\"UniversaIPhenom\", \"Grizz Gaming\"], [\"Doza\", \"Raptors Uprising GC\"], [\"ChaChingSingh\", \"Heat Check Gaming\"], [\"BigMeek\", \"Bucks Gaming\"], [\"OOC Slim\", \"Raptors Uprising GC\"], [\"Safiya4ya\", \"Lakers Gaming\"], [\"Savage\", \"Cavs Legion GC\"], [\"Strainer\", \"Cavs Legion GC\"], [\"Jomar12 PR\", \"Blazer5 Gaming\"], [\"King Peroxide\", \"Blazer5 Gaming\"], [\"Swizurk\", \"Pacers Gaming\"], [\"Lav\", \"NetsGC\"], [\"Vandi\", \"Grizz Gaming\"], [\"Demon JT\", \"Wizards District Gaming\"], [\"Rando\", \"Hawks Talon GC\"], [\"Detoxys\", \"Lakers Gaming\"], [\"Gilly\", \"Wizards District Gaming\"], [\"CB13\", \"Warriors Gaming Squad\"], [\"BearDaBeast\", \"T-Wolves Gaming\"], [\"Wavy.zay\", \"NetsGC\"], [\"Kontrul\", \"Lakers Gaming\"], [\"BalILikeSeem\", \"Kings Guard Gaming\"], [\"May\", \"Pistons GT\"], [\"iamadamthe1st\", \"Knicks Gaming\"], [\"Jin\", \"Warriors Gaming Squad\"], [\"MrStylez\", \"Total\"], [\"Mo\", \"Mavs Gaming\"], [\"splashking\", \"Pistons GT\"], [\"Rux\", \"Mavs Gaming\"], [\"Jayrod\", \"Grizz Gaming\"], [\"All Hail Trey\", \"Total\"], [\"KingCamRoyalty\", \"Magic Gaming\"], [\"Radiant\", \"76ers GC\"], [\"SlayIsland\", \"Bucks Gaming\"], [\"Jay a FooL\", \"Hawks Talon GC\"], [\"worthingcolt\", \"Kings Guard Gaming\"], [\"Dimez\", \"Mavs Gaming\"], [\"Shockey\", \"NetsGC\"], [\"ZDS\", \"76ers GC\"], [\"Gliz\", \"Jazz Gaming\"], [\"Idrisdagoat6\", \"Knicks Gaming\"], [\"Mama Im Dat Man\", \"Blazer5 Gaming\"], [\"chaddynick\", \"Bucks Gaming\"], [\"iiNsaniTTy\", \"Pistons GT\"], [\"Bp\", \"Kings Guard Gaming\"], [\"UCMANNY\", \"Magic Gaming\"], [\"MOAM\", \"Total\"], [\"G O O F Y 7 5 7\", \"Knicks Gaming\"], [\"Lord Beezus\", \"Pacers Gaming\"], [\"JMoneyRep817\", \"Total\"], [\"Bulleyy\", \"Celtics Crossover Gaming\"], [\"Hood\", \"Total\"], [\"Vert\", \"Lakers Gaming\"], [\"ReeseDaGod\", \"Wizards District Gaming\"], [\"Dayfri\", \"Wizards District Gaming\"], [\"Dat Boy Shotz\", \"Hawks Talon GC\"], [\"ToXsiK\", \"Total\"], [\"Bsmoove\", \"Warriors Gaming Squad\"], [\"Joseph\", \"Pistons GT\"], [\"l 24k Dropoff l\", \"Heat Check Gaming\"], [\"JoJo\", \"T-Wolves Gaming\"], [\"TsJosh\", \"Raptors Uprising GC\"], [\"Kenny Got Work\", \"Raptors Uprising GC\"], [\"MaJes7ic\", \"Heat Check Gaming\"], [\"Yusuf_Scarbz\", \"Kings Guard Gaming\"], [\"DevGoss\", \"Total\"], [\"Steez\", \"76ers GC\"], [\"Mootyy\", \"Lakers Gaming\"], [\"Zakyy610\", \"Kings Guard Gaming\"], [\"Arooks\", \"Bucks Gaming\"], [\"NO xAUTOGRAPHSx\", \"Celtics Crossover Gaming\"], [\"OriginalMalik\", \"Knicks Gaming\"], [\"WoLF 74\", \"Pacers Gaming\"], [\"Sherm\", \"Mavs Gaming\"], [\"HazzaUK\", \"Knicks Gaming\"], [\"Kev\", \"Lakers Gaming\"], [\"Newdini33\", \"76ers GC\"], [\"Ramo\", \"Pacers Gaming\"], [\"Arsonal\", \"Hawks Talon GC\"], [\"Type\", \"Warriors Gaming Squad\"], [\"ProFusion\", \"Celtics Crossover Gaming\"], [\"OneWildWalnut\", \"Blazer5 Gaming\"], [\"Ria\", \"Jazz Gaming\"], [\"oLarry\", \"Cavs Legion GC\"], [\"Plondo\", \"Bucks Gaming\"], [\"DDouble\", \"Grizz Gaming\"], [\"Hotshot\", \"Heat Check Gaming\"], [\"Deedz\", \"Jazz Gaming\"], [\"Sick x 973\", \"Total\"], [\"TURNUPDEFENSE\", \"T-Wolves Gaming\"], [\"Lotty\", \"Total\"], [\"oFAB\", \"Celtics Crossover Gaming\"], [\"Daveed 3x\", \"Blazer5 Gaming\"], [\"PeteBeBallin\", \"Mavs Gaming\"], [\"AuthenticAfrican\", \"Grizz Gaming\"], [\"Shuttles\", \"NetsGC\"], [\"USERPICK\", \"Wizards District Gaming\"], [\"Mel East\", \"Celtics Crossover Gaming\"], [\"NateKahl\", \"NetsGC\"], [\"LavishPhenom\", \"Blazer5 Gaming\"], [\"FEAST\", \"T-Wolves Gaming\"], [\"DT\", \"Magic Gaming\"], [\"Gradient\", \"Warriors Gaming Squad\"], [\"BreadwinnerLA\", \"76ers GC\"], [\"KingQuai614\", \"Raptors Uprising GC\"], [\"Godddof2k\", \"Cavs Legion GC\"]], \"hoverlabel\": {\"namelength\": 0}, \"hovertemplate\": \"Player=%{customdata[0]}<br>STL=%{marker.color}<br>Team=%{customdata[1]}\", \"legendgroup\": \"\", \"marker\": {\"color\": [0, 1, 1, 2, 2, 4, 4, 4, 5, 6, 6, 8, 8, 8, 8, 8, 9, 9, 9, 10, 10, 11, 11, 11, 12, 12, 14, 14, 14, 14, 15, 15, 15, 15, 15, 16, 16, 17, 17, 17, 17, 17, 18, 18, 19, 19, 20, 20, 20, 20, 20, 21, 21, 21, 21, 22, 22, 22, 22, 23, 23, 23, 23, 23, 23, 24, 24, 24, 24, 24, 24, 24, 25, 25, 26, 26, 26, 26, 26, 27, 27, 27, 27, 28, 28, 29, 29, 29, 29, 30, 30, 30, 30, 31, 32, 33, 33, 33, 33, 34, 34, 35, 35, 35, 36, 36, 36, 36, 37, 37, 37, 38, 38, 38, 39, 39, 40, 41, 41, 41, 41, 43, 44, 45, 47, 57], \"coloraxis\": \"coloraxis\"}, \"name\": \"\", \"offsetgroup\": \"\", \"orientation\": \"v\", \"showlegend\": false, \"textposition\": \"auto\", \"type\": \"bar\", \"x\": [\"Roman\", \"iiTzChas\", \"NachoTraynor\", \"GRANT MONSTER\", \"oCASSIUS\", \"TuckerLocksUp\", \"Yeah I Compete\", \"Chiquita\", \"Suavy\", \"RSG\", \"KevDontMiss\", \"LYKaPRO\", \"KelMav\", \"Jaacko\", \"Matty\", \"YEYNotGaming\", \"Reizey\", \"Man_in_a_car\", \"PaulB\", \"XxSTL2LAxX\", \"UniversaIPhenom\", \"Doza\", \"ChaChingSingh\", \"BigMeek\", \"OOC Slim\", \"Safiya4ya\", \"Savage\", \"Strainer\", \"Jomar12 PR\", \"King Peroxide\", \"Swizurk\", \"Lav\", \"Vandi\", \"Demon JT\", \"Rando\", \"Detoxys\", \"Gilly\", \"CB13\", \"BearDaBeast\", \"Wavy.zay\", \"Kontrul\", \"BalILikeSeem\", \"May\", \"iamadamthe1st\", \"Jin\", \"MrStylez\", \"Mo\", \"splashking\", \"Rux\", \"Jayrod\", \"All Hail Trey\", \"KingCamRoyalty\", \"Radiant\", \"SlayIsland\", \"Jay a FooL\", \"worthingcolt\", \"Dimez\", \"Shockey\", \"ZDS\", \"Gliz\", \"Idrisdagoat6\", \"Mama Im Dat Man\", \"chaddynick\", \"iiNsaniTTy\", \"Bp\", \"UCMANNY\", \"MOAM\", \"G O O F Y 7 5 7\", \"Lord Beezus\", \"JMoneyRep817\", \"Bulleyy\", \"Hood\", \"Vert\", \"ReeseDaGod\", \"Dayfri\", \"Dat Boy Shotz\", \"ToXsiK\", \"Bsmoove\", \"Joseph\", \"l 24k Dropoff l\", \"JoJo\", \"TsJosh\", \"Kenny Got Work\", \"MaJes7ic\", \"Yusuf_Scarbz\", \"DevGoss\", \"Steez\", \"Mootyy\", \"Zakyy610\", \"Arooks\", \"NO xAUTOGRAPHSx\", \"OriginalMalik\", \"WoLF 74\", \"Sherm\", \"HazzaUK\", \"Kev\", \"Newdini33\", \"Ramo\", \"Arsonal\", \"Type\", \"ProFusion\", \"OneWildWalnut\", \"Ria\", \"oLarry\", \"Plondo\", \"DDouble\", \"Hotshot\", \"Deedz\", \"Sick x 973\", \"TURNUPDEFENSE\", \"Lotty\", \"oFAB\", \"Daveed 3x\", \"PeteBeBallin\", \"AuthenticAfrican\", \"Shuttles\", \"USERPICK\", \"Mel East\", \"NateKahl\", \"LavishPhenom\", \"FEAST\", \"DT\", \"Gradient\", \"BreadwinnerLA\", \"KingQuai614\", \"Godddof2k\"], \"xaxis\": \"x\", \"y\": [0, 1, 1, 2, 2, 4, 4, 4, 5, 6, 6, 8, 8, 8, 8, 8, 9, 9, 9, 10, 10, 11, 11, 11, 12, 12, 14, 14, 14, 14, 15, 15, 15, 15, 15, 16, 16, 17, 17, 17, 17, 17, 18, 18, 19, 19, 20, 20, 20, 20, 20, 21, 21, 21, 21, 22, 22, 22, 22, 23, 23, 23, 23, 23, 23, 24, 24, 24, 24, 24, 24, 24, 25, 25, 26, 26, 26, 26, 26, 27, 27, 27, 27, 28, 28, 29, 29, 29, 29, 30, 30, 30, 30, 31, 32, 33, 33, 33, 33, 34, 34, 35, 35, 35, 36, 36, 36, 36, 37, 37, 37, 38, 38, 38, 39, 39, 40, 41, 41, 41, 41, 43, 44, 45, 47, 57], \"yaxis\": \"y\"}],\n",
       "                        {\"barmode\": \"relative\", \"coloraxis\": {\"colorbar\": {\"title\": {\"text\": \"STL\"}}, \"colorscale\": [[0.0, \"#0d0887\"], [0.1111111111111111, \"#46039f\"], [0.2222222222222222, \"#7201a8\"], [0.3333333333333333, \"#9c179e\"], [0.4444444444444444, \"#bd3786\"], [0.5555555555555556, \"#d8576b\"], [0.6666666666666666, \"#ed7953\"], [0.7777777777777778, \"#fb9f3a\"], [0.8888888888888888, \"#fdca26\"], [1.0, \"#f0f921\"]]}, \"legend\": {\"tracegroupgap\": 0}, \"margin\": {\"t\": 60}, \"template\": {\"data\": {\"bar\": [{\"error_x\": {\"color\": \"#2a3f5f\"}, \"error_y\": {\"color\": \"#2a3f5f\"}, \"marker\": {\"line\": {\"color\": \"#E5ECF6\", \"width\": 0.5}}, \"type\": \"bar\"}], \"barpolar\": [{\"marker\": {\"line\": {\"color\": \"#E5ECF6\", \"width\": 0.5}}, \"type\": \"barpolar\"}], \"carpet\": [{\"aaxis\": {\"endlinecolor\": \"#2a3f5f\", \"gridcolor\": \"white\", \"linecolor\": \"white\", \"minorgridcolor\": \"white\", \"startlinecolor\": \"#2a3f5f\"}, \"baxis\": {\"endlinecolor\": \"#2a3f5f\", \"gridcolor\": \"white\", \"linecolor\": \"white\", \"minorgridcolor\": \"white\", \"startlinecolor\": \"#2a3f5f\"}, \"type\": \"carpet\"}], \"choropleth\": [{\"colorbar\": {\"outlinewidth\": 0, \"ticks\": \"\"}, \"type\": \"choropleth\"}], \"contour\": [{\"colorbar\": {\"outlinewidth\": 0, \"ticks\": \"\"}, \"colorscale\": [[0.0, \"#0d0887\"], [0.1111111111111111, \"#46039f\"], [0.2222222222222222, \"#7201a8\"], [0.3333333333333333, \"#9c179e\"], [0.4444444444444444, \"#bd3786\"], [0.5555555555555556, \"#d8576b\"], [0.6666666666666666, \"#ed7953\"], [0.7777777777777778, \"#fb9f3a\"], [0.8888888888888888, \"#fdca26\"], [1.0, \"#f0f921\"]], \"type\": \"contour\"}], \"contourcarpet\": [{\"colorbar\": {\"outlinewidth\": 0, \"ticks\": \"\"}, \"type\": \"contourcarpet\"}], \"heatmap\": [{\"colorbar\": {\"outlinewidth\": 0, \"ticks\": \"\"}, \"colorscale\": [[0.0, \"#0d0887\"], [0.1111111111111111, \"#46039f\"], [0.2222222222222222, \"#7201a8\"], [0.3333333333333333, \"#9c179e\"], [0.4444444444444444, \"#bd3786\"], [0.5555555555555556, \"#d8576b\"], [0.6666666666666666, \"#ed7953\"], [0.7777777777777778, \"#fb9f3a\"], [0.8888888888888888, \"#fdca26\"], [1.0, \"#f0f921\"]], \"type\": \"heatmap\"}], \"heatmapgl\": [{\"colorbar\": {\"outlinewidth\": 0, \"ticks\": \"\"}, \"colorscale\": [[0.0, \"#0d0887\"], [0.1111111111111111, \"#46039f\"], [0.2222222222222222, \"#7201a8\"], [0.3333333333333333, \"#9c179e\"], [0.4444444444444444, \"#bd3786\"], [0.5555555555555556, \"#d8576b\"], [0.6666666666666666, \"#ed7953\"], [0.7777777777777778, \"#fb9f3a\"], [0.8888888888888888, \"#fdca26\"], [1.0, \"#f0f921\"]], \"type\": \"heatmapgl\"}], \"histogram\": [{\"marker\": {\"colorbar\": {\"outlinewidth\": 0, \"ticks\": \"\"}}, \"type\": \"histogram\"}], \"histogram2d\": [{\"colorbar\": {\"outlinewidth\": 0, \"ticks\": \"\"}, \"colorscale\": [[0.0, \"#0d0887\"], [0.1111111111111111, \"#46039f\"], [0.2222222222222222, \"#7201a8\"], [0.3333333333333333, \"#9c179e\"], [0.4444444444444444, \"#bd3786\"], [0.5555555555555556, \"#d8576b\"], [0.6666666666666666, \"#ed7953\"], [0.7777777777777778, \"#fb9f3a\"], [0.8888888888888888, \"#fdca26\"], [1.0, \"#f0f921\"]], \"type\": \"histogram2d\"}], \"histogram2dcontour\": [{\"colorbar\": {\"outlinewidth\": 0, \"ticks\": \"\"}, \"colorscale\": [[0.0, \"#0d0887\"], [0.1111111111111111, \"#46039f\"], [0.2222222222222222, \"#7201a8\"], [0.3333333333333333, \"#9c179e\"], [0.4444444444444444, \"#bd3786\"], [0.5555555555555556, \"#d8576b\"], [0.6666666666666666, \"#ed7953\"], [0.7777777777777778, \"#fb9f3a\"], [0.8888888888888888, \"#fdca26\"], [1.0, \"#f0f921\"]], \"type\": \"histogram2dcontour\"}], \"mesh3d\": [{\"colorbar\": {\"outlinewidth\": 0, \"ticks\": \"\"}, \"type\": \"mesh3d\"}], \"parcoords\": [{\"line\": {\"colorbar\": {\"outlinewidth\": 0, \"ticks\": \"\"}}, \"type\": \"parcoords\"}], \"pie\": [{\"automargin\": true, \"type\": \"pie\"}], \"scatter\": [{\"marker\": {\"colorbar\": {\"outlinewidth\": 0, \"ticks\": \"\"}}, \"type\": \"scatter\"}], \"scatter3d\": [{\"line\": {\"colorbar\": {\"outlinewidth\": 0, \"ticks\": \"\"}}, \"marker\": {\"colorbar\": {\"outlinewidth\": 0, \"ticks\": \"\"}}, \"type\": \"scatter3d\"}], \"scattercarpet\": [{\"marker\": {\"colorbar\": {\"outlinewidth\": 0, \"ticks\": \"\"}}, \"type\": \"scattercarpet\"}], \"scattergeo\": [{\"marker\": {\"colorbar\": {\"outlinewidth\": 0, \"ticks\": \"\"}}, \"type\": \"scattergeo\"}], \"scattergl\": [{\"marker\": {\"colorbar\": {\"outlinewidth\": 0, \"ticks\": \"\"}}, \"type\": \"scattergl\"}], \"scattermapbox\": [{\"marker\": {\"colorbar\": {\"outlinewidth\": 0, \"ticks\": \"\"}}, \"type\": \"scattermapbox\"}], \"scatterpolar\": [{\"marker\": {\"colorbar\": {\"outlinewidth\": 0, \"ticks\": \"\"}}, \"type\": \"scatterpolar\"}], \"scatterpolargl\": [{\"marker\": {\"colorbar\": {\"outlinewidth\": 0, \"ticks\": \"\"}}, \"type\": \"scatterpolargl\"}], \"scatterternary\": [{\"marker\": {\"colorbar\": {\"outlinewidth\": 0, \"ticks\": \"\"}}, \"type\": \"scatterternary\"}], \"surface\": [{\"colorbar\": {\"outlinewidth\": 0, \"ticks\": \"\"}, \"colorscale\": [[0.0, \"#0d0887\"], [0.1111111111111111, \"#46039f\"], [0.2222222222222222, \"#7201a8\"], [0.3333333333333333, \"#9c179e\"], [0.4444444444444444, \"#bd3786\"], [0.5555555555555556, \"#d8576b\"], [0.6666666666666666, \"#ed7953\"], [0.7777777777777778, \"#fb9f3a\"], [0.8888888888888888, \"#fdca26\"], [1.0, \"#f0f921\"]], \"type\": \"surface\"}], \"table\": [{\"cells\": {\"fill\": {\"color\": \"#EBF0F8\"}, \"line\": {\"color\": \"white\"}}, \"header\": {\"fill\": {\"color\": \"#C8D4E3\"}, \"line\": {\"color\": \"white\"}}, \"type\": \"table\"}]}, \"layout\": {\"annotationdefaults\": {\"arrowcolor\": \"#2a3f5f\", \"arrowhead\": 0, \"arrowwidth\": 1}, \"coloraxis\": {\"colorbar\": {\"outlinewidth\": 0, \"ticks\": \"\"}}, \"colorscale\": {\"diverging\": [[0, \"#8e0152\"], [0.1, \"#c51b7d\"], [0.2, \"#de77ae\"], [0.3, \"#f1b6da\"], [0.4, \"#fde0ef\"], [0.5, \"#f7f7f7\"], [0.6, \"#e6f5d0\"], [0.7, \"#b8e186\"], [0.8, \"#7fbc41\"], [0.9, \"#4d9221\"], [1, \"#276419\"]], \"sequential\": [[0.0, \"#0d0887\"], [0.1111111111111111, \"#46039f\"], [0.2222222222222222, \"#7201a8\"], [0.3333333333333333, \"#9c179e\"], [0.4444444444444444, \"#bd3786\"], [0.5555555555555556, \"#d8576b\"], [0.6666666666666666, \"#ed7953\"], [0.7777777777777778, \"#fb9f3a\"], [0.8888888888888888, \"#fdca26\"], [1.0, \"#f0f921\"]], \"sequentialminus\": [[0.0, \"#0d0887\"], [0.1111111111111111, \"#46039f\"], [0.2222222222222222, \"#7201a8\"], [0.3333333333333333, \"#9c179e\"], [0.4444444444444444, \"#bd3786\"], [0.5555555555555556, \"#d8576b\"], [0.6666666666666666, \"#ed7953\"], [0.7777777777777778, \"#fb9f3a\"], [0.8888888888888888, \"#fdca26\"], [1.0, \"#f0f921\"]]}, \"colorway\": [\"#636efa\", \"#EF553B\", \"#00cc96\", \"#ab63fa\", \"#FFA15A\", \"#19d3f3\", \"#FF6692\", \"#B6E880\", \"#FF97FF\", \"#FECB52\"], \"font\": {\"color\": \"#2a3f5f\"}, \"geo\": {\"bgcolor\": \"white\", \"lakecolor\": \"white\", \"landcolor\": \"#E5ECF6\", \"showlakes\": true, \"showland\": true, \"subunitcolor\": \"white\"}, \"hoverlabel\": {\"align\": \"left\"}, \"hovermode\": \"closest\", \"mapbox\": {\"style\": \"light\"}, \"paper_bgcolor\": \"white\", \"plot_bgcolor\": \"#E5ECF6\", \"polar\": {\"angularaxis\": {\"gridcolor\": \"white\", \"linecolor\": \"white\", \"ticks\": \"\"}, \"bgcolor\": \"#E5ECF6\", \"radialaxis\": {\"gridcolor\": \"white\", \"linecolor\": \"white\", \"ticks\": \"\"}}, \"scene\": {\"xaxis\": {\"backgroundcolor\": \"#E5ECF6\", \"gridcolor\": \"white\", \"gridwidth\": 2, \"linecolor\": \"white\", \"showbackground\": true, \"ticks\": \"\", \"zerolinecolor\": \"white\"}, \"yaxis\": {\"backgroundcolor\": \"#E5ECF6\", \"gridcolor\": \"white\", \"gridwidth\": 2, \"linecolor\": \"white\", \"showbackground\": true, \"ticks\": \"\", \"zerolinecolor\": \"white\"}, \"zaxis\": {\"backgroundcolor\": \"#E5ECF6\", \"gridcolor\": \"white\", \"gridwidth\": 2, \"linecolor\": \"white\", \"showbackground\": true, \"ticks\": \"\", \"zerolinecolor\": \"white\"}}, \"shapedefaults\": {\"line\": {\"color\": \"#2a3f5f\"}}, \"ternary\": {\"aaxis\": {\"gridcolor\": \"white\", \"linecolor\": \"white\", \"ticks\": \"\"}, \"baxis\": {\"gridcolor\": \"white\", \"linecolor\": \"white\", \"ticks\": \"\"}, \"bgcolor\": \"#E5ECF6\", \"caxis\": {\"gridcolor\": \"white\", \"linecolor\": \"white\", \"ticks\": \"\"}}, \"title\": {\"x\": 0.05}, \"xaxis\": {\"automargin\": true, \"gridcolor\": \"white\", \"linecolor\": \"white\", \"ticks\": \"\", \"title\": {\"standoff\": 15}, \"zerolinecolor\": \"white\", \"zerolinewidth\": 2}, \"yaxis\": {\"automargin\": true, \"gridcolor\": \"white\", \"linecolor\": \"white\", \"ticks\": \"\", \"title\": {\"standoff\": 15}, \"zerolinecolor\": \"white\", \"zerolinewidth\": 2}}}, \"xaxis\": {\"anchor\": \"y\", \"domain\": [0.0, 1.0], \"title\": {\"text\": \"Player\"}}, \"yaxis\": {\"anchor\": \"x\", \"domain\": [0.0, 1.0], \"title\": {\"text\": \"STL\"}}},\n",
       "                        {\"responsive\": true}\n",
       "                    ).then(function(){\n",
       "                            \n",
       "var gd = document.getElementById('d20dfc92-6c46-4361-872e-1d63e42c211d');\n",
       "var x = new MutationObserver(function (mutations, observer) {{\n",
       "        var display = window.getComputedStyle(gd).display;\n",
       "        if (!display || display === 'none') {{\n",
       "            console.log([gd, 'removed!']);\n",
       "            Plotly.purge(gd);\n",
       "            observer.disconnect();\n",
       "        }}\n",
       "}});\n",
       "\n",
       "// Listen for the removal of the full notebook cells\n",
       "var notebookContainer = gd.closest('#notebook-container');\n",
       "if (notebookContainer) {{\n",
       "    x.observe(notebookContainer, {childList: true});\n",
       "}}\n",
       "\n",
       "// Listen for the clearing of the current output cell\n",
       "var outputEl = gd.closest('.output');\n",
       "if (outputEl) {{\n",
       "    x.observe(outputEl, {childList: true});\n",
       "}}\n",
       "\n",
       "                        })\n",
       "                };\n",
       "                });\n",
       "            </script>\n",
       "        </div>"
      ]
     },
     "metadata": {},
     "output_type": "display_data"
    }
   ],
   "source": [
    "#['Person_id','Player','Team','Season_Type','GP','Min','FGM','FGA','FG_pct','FG3M','FG3A','FDG3_pct','FTM',\n",
    "#'FTA','FT_pct','OREB','DREB','REB','AST','PF','STL','TOV','BLK','PTS','CareerHighPTS','effi_pct','Tru_shoot_pct']\n",
    "barplt_players(players,\"STL\")\n"
   ]
  },
  {
   "cell_type": "code",
   "execution_count": 195,
   "metadata": {},
   "outputs": [
    {
     "data": {
      "application/vnd.plotly.v1+json": {
       "config": {
        "plotlyServerURL": "https://plot.ly"
       },
       "data": [
        {
         "alignmentgroup": "True",
         "customdata": [
          [
           "Pistons GT"
          ],
          [
           "Pacers Gaming"
          ],
          [
           "Raptors Uprising GC"
          ],
          [
           "Grizz Gaming"
          ],
          [
           "Bucks Gaming"
          ],
          [
           "Knicks Gaming"
          ],
          [
           "Warriors Gaming Squad"
          ],
          [
           "Blazer5 Gaming"
          ],
          [
           "76ers GC"
          ],
          [
           "Magic Gaming"
          ],
          [
           "Cavs Legion GC"
          ],
          [
           "Heat Check Gaming"
          ],
          [
           "NetsGC"
          ],
          [
           "Hawks Talon GC"
          ],
          [
           "Kings Guard Gaming"
          ],
          [
           "T-Wolves Gaming"
          ],
          [
           "Celtics Crossover Gaming"
          ],
          [
           "Wizards District Gaming"
          ],
          [
           "Jazz Gaming"
          ],
          [
           "Mavs Gaming"
          ],
          [
           "Lakers Gaming"
          ]
         ],
         "hoverlabel": {
          "namelength": 0
         },
         "hovertemplate": "Nickname=%{customdata[0]}<br>Blocked_Shots=%{marker.color}",
         "legendgroup": "",
         "marker": {
          "color": [
           26,
           28,
           31,
           31,
           31,
           32,
           32,
           33,
           33,
           33,
           34,
           34,
           36,
           36,
           38,
           38,
           39,
           39,
           42,
           44,
           49
          ],
          "coloraxis": "coloraxis"
         },
         "name": "",
         "offsetgroup": "",
         "orientation": "v",
         "showlegend": false,
         "textposition": "auto",
         "type": "bar",
         "x": [
          "Pistons GT",
          "Pacers Gaming",
          "Raptors Uprising GC",
          "Grizz Gaming",
          "Bucks Gaming",
          "Knicks Gaming",
          "Warriors Gaming Squad",
          "Blazer5 Gaming",
          "76ers GC",
          "Magic Gaming",
          "Cavs Legion GC",
          "Heat Check Gaming",
          "NetsGC",
          "Hawks Talon GC",
          "Kings Guard Gaming",
          "T-Wolves Gaming",
          "Celtics Crossover Gaming",
          "Wizards District Gaming",
          "Jazz Gaming",
          "Mavs Gaming",
          "Lakers Gaming"
         ],
         "xaxis": "x",
         "y": [
          26,
          28,
          31,
          31,
          31,
          32,
          32,
          33,
          33,
          33,
          34,
          34,
          36,
          36,
          38,
          38,
          39,
          39,
          42,
          44,
          49
         ],
         "yaxis": "y"
        }
       ],
       "layout": {
        "barmode": "relative",
        "coloraxis": {
         "colorbar": {
          "title": {
           "text": "Blocked_Shots"
          }
         },
         "colorscale": [
          [
           0,
           "#0d0887"
          ],
          [
           0.1111111111111111,
           "#46039f"
          ],
          [
           0.2222222222222222,
           "#7201a8"
          ],
          [
           0.3333333333333333,
           "#9c179e"
          ],
          [
           0.4444444444444444,
           "#bd3786"
          ],
          [
           0.5555555555555556,
           "#d8576b"
          ],
          [
           0.6666666666666666,
           "#ed7953"
          ],
          [
           0.7777777777777778,
           "#fb9f3a"
          ],
          [
           0.8888888888888888,
           "#fdca26"
          ],
          [
           1,
           "#f0f921"
          ]
         ]
        },
        "legend": {
         "tracegroupgap": 0
        },
        "margin": {
         "t": 60
        },
        "template": {
         "data": {
          "bar": [
           {
            "error_x": {
             "color": "#2a3f5f"
            },
            "error_y": {
             "color": "#2a3f5f"
            },
            "marker": {
             "line": {
              "color": "#E5ECF6",
              "width": 0.5
             }
            },
            "type": "bar"
           }
          ],
          "barpolar": [
           {
            "marker": {
             "line": {
              "color": "#E5ECF6",
              "width": 0.5
             }
            },
            "type": "barpolar"
           }
          ],
          "carpet": [
           {
            "aaxis": {
             "endlinecolor": "#2a3f5f",
             "gridcolor": "white",
             "linecolor": "white",
             "minorgridcolor": "white",
             "startlinecolor": "#2a3f5f"
            },
            "baxis": {
             "endlinecolor": "#2a3f5f",
             "gridcolor": "white",
             "linecolor": "white",
             "minorgridcolor": "white",
             "startlinecolor": "#2a3f5f"
            },
            "type": "carpet"
           }
          ],
          "choropleth": [
           {
            "colorbar": {
             "outlinewidth": 0,
             "ticks": ""
            },
            "type": "choropleth"
           }
          ],
          "contour": [
           {
            "colorbar": {
             "outlinewidth": 0,
             "ticks": ""
            },
            "colorscale": [
             [
              0,
              "#0d0887"
             ],
             [
              0.1111111111111111,
              "#46039f"
             ],
             [
              0.2222222222222222,
              "#7201a8"
             ],
             [
              0.3333333333333333,
              "#9c179e"
             ],
             [
              0.4444444444444444,
              "#bd3786"
             ],
             [
              0.5555555555555556,
              "#d8576b"
             ],
             [
              0.6666666666666666,
              "#ed7953"
             ],
             [
              0.7777777777777778,
              "#fb9f3a"
             ],
             [
              0.8888888888888888,
              "#fdca26"
             ],
             [
              1,
              "#f0f921"
             ]
            ],
            "type": "contour"
           }
          ],
          "contourcarpet": [
           {
            "colorbar": {
             "outlinewidth": 0,
             "ticks": ""
            },
            "type": "contourcarpet"
           }
          ],
          "heatmap": [
           {
            "colorbar": {
             "outlinewidth": 0,
             "ticks": ""
            },
            "colorscale": [
             [
              0,
              "#0d0887"
             ],
             [
              0.1111111111111111,
              "#46039f"
             ],
             [
              0.2222222222222222,
              "#7201a8"
             ],
             [
              0.3333333333333333,
              "#9c179e"
             ],
             [
              0.4444444444444444,
              "#bd3786"
             ],
             [
              0.5555555555555556,
              "#d8576b"
             ],
             [
              0.6666666666666666,
              "#ed7953"
             ],
             [
              0.7777777777777778,
              "#fb9f3a"
             ],
             [
              0.8888888888888888,
              "#fdca26"
             ],
             [
              1,
              "#f0f921"
             ]
            ],
            "type": "heatmap"
           }
          ],
          "heatmapgl": [
           {
            "colorbar": {
             "outlinewidth": 0,
             "ticks": ""
            },
            "colorscale": [
             [
              0,
              "#0d0887"
             ],
             [
              0.1111111111111111,
              "#46039f"
             ],
             [
              0.2222222222222222,
              "#7201a8"
             ],
             [
              0.3333333333333333,
              "#9c179e"
             ],
             [
              0.4444444444444444,
              "#bd3786"
             ],
             [
              0.5555555555555556,
              "#d8576b"
             ],
             [
              0.6666666666666666,
              "#ed7953"
             ],
             [
              0.7777777777777778,
              "#fb9f3a"
             ],
             [
              0.8888888888888888,
              "#fdca26"
             ],
             [
              1,
              "#f0f921"
             ]
            ],
            "type": "heatmapgl"
           }
          ],
          "histogram": [
           {
            "marker": {
             "colorbar": {
              "outlinewidth": 0,
              "ticks": ""
             }
            },
            "type": "histogram"
           }
          ],
          "histogram2d": [
           {
            "colorbar": {
             "outlinewidth": 0,
             "ticks": ""
            },
            "colorscale": [
             [
              0,
              "#0d0887"
             ],
             [
              0.1111111111111111,
              "#46039f"
             ],
             [
              0.2222222222222222,
              "#7201a8"
             ],
             [
              0.3333333333333333,
              "#9c179e"
             ],
             [
              0.4444444444444444,
              "#bd3786"
             ],
             [
              0.5555555555555556,
              "#d8576b"
             ],
             [
              0.6666666666666666,
              "#ed7953"
             ],
             [
              0.7777777777777778,
              "#fb9f3a"
             ],
             [
              0.8888888888888888,
              "#fdca26"
             ],
             [
              1,
              "#f0f921"
             ]
            ],
            "type": "histogram2d"
           }
          ],
          "histogram2dcontour": [
           {
            "colorbar": {
             "outlinewidth": 0,
             "ticks": ""
            },
            "colorscale": [
             [
              0,
              "#0d0887"
             ],
             [
              0.1111111111111111,
              "#46039f"
             ],
             [
              0.2222222222222222,
              "#7201a8"
             ],
             [
              0.3333333333333333,
              "#9c179e"
             ],
             [
              0.4444444444444444,
              "#bd3786"
             ],
             [
              0.5555555555555556,
              "#d8576b"
             ],
             [
              0.6666666666666666,
              "#ed7953"
             ],
             [
              0.7777777777777778,
              "#fb9f3a"
             ],
             [
              0.8888888888888888,
              "#fdca26"
             ],
             [
              1,
              "#f0f921"
             ]
            ],
            "type": "histogram2dcontour"
           }
          ],
          "mesh3d": [
           {
            "colorbar": {
             "outlinewidth": 0,
             "ticks": ""
            },
            "type": "mesh3d"
           }
          ],
          "parcoords": [
           {
            "line": {
             "colorbar": {
              "outlinewidth": 0,
              "ticks": ""
             }
            },
            "type": "parcoords"
           }
          ],
          "pie": [
           {
            "automargin": true,
            "type": "pie"
           }
          ],
          "scatter": [
           {
            "marker": {
             "colorbar": {
              "outlinewidth": 0,
              "ticks": ""
             }
            },
            "type": "scatter"
           }
          ],
          "scatter3d": [
           {
            "line": {
             "colorbar": {
              "outlinewidth": 0,
              "ticks": ""
             }
            },
            "marker": {
             "colorbar": {
              "outlinewidth": 0,
              "ticks": ""
             }
            },
            "type": "scatter3d"
           }
          ],
          "scattercarpet": [
           {
            "marker": {
             "colorbar": {
              "outlinewidth": 0,
              "ticks": ""
             }
            },
            "type": "scattercarpet"
           }
          ],
          "scattergeo": [
           {
            "marker": {
             "colorbar": {
              "outlinewidth": 0,
              "ticks": ""
             }
            },
            "type": "scattergeo"
           }
          ],
          "scattergl": [
           {
            "marker": {
             "colorbar": {
              "outlinewidth": 0,
              "ticks": ""
             }
            },
            "type": "scattergl"
           }
          ],
          "scattermapbox": [
           {
            "marker": {
             "colorbar": {
              "outlinewidth": 0,
              "ticks": ""
             }
            },
            "type": "scattermapbox"
           }
          ],
          "scatterpolar": [
           {
            "marker": {
             "colorbar": {
              "outlinewidth": 0,
              "ticks": ""
             }
            },
            "type": "scatterpolar"
           }
          ],
          "scatterpolargl": [
           {
            "marker": {
             "colorbar": {
              "outlinewidth": 0,
              "ticks": ""
             }
            },
            "type": "scatterpolargl"
           }
          ],
          "scatterternary": [
           {
            "marker": {
             "colorbar": {
              "outlinewidth": 0,
              "ticks": ""
             }
            },
            "type": "scatterternary"
           }
          ],
          "surface": [
           {
            "colorbar": {
             "outlinewidth": 0,
             "ticks": ""
            },
            "colorscale": [
             [
              0,
              "#0d0887"
             ],
             [
              0.1111111111111111,
              "#46039f"
             ],
             [
              0.2222222222222222,
              "#7201a8"
             ],
             [
              0.3333333333333333,
              "#9c179e"
             ],
             [
              0.4444444444444444,
              "#bd3786"
             ],
             [
              0.5555555555555556,
              "#d8576b"
             ],
             [
              0.6666666666666666,
              "#ed7953"
             ],
             [
              0.7777777777777778,
              "#fb9f3a"
             ],
             [
              0.8888888888888888,
              "#fdca26"
             ],
             [
              1,
              "#f0f921"
             ]
            ],
            "type": "surface"
           }
          ],
          "table": [
           {
            "cells": {
             "fill": {
              "color": "#EBF0F8"
             },
             "line": {
              "color": "white"
             }
            },
            "header": {
             "fill": {
              "color": "#C8D4E3"
             },
             "line": {
              "color": "white"
             }
            },
            "type": "table"
           }
          ]
         },
         "layout": {
          "annotationdefaults": {
           "arrowcolor": "#2a3f5f",
           "arrowhead": 0,
           "arrowwidth": 1
          },
          "coloraxis": {
           "colorbar": {
            "outlinewidth": 0,
            "ticks": ""
           }
          },
          "colorscale": {
           "diverging": [
            [
             0,
             "#8e0152"
            ],
            [
             0.1,
             "#c51b7d"
            ],
            [
             0.2,
             "#de77ae"
            ],
            [
             0.3,
             "#f1b6da"
            ],
            [
             0.4,
             "#fde0ef"
            ],
            [
             0.5,
             "#f7f7f7"
            ],
            [
             0.6,
             "#e6f5d0"
            ],
            [
             0.7,
             "#b8e186"
            ],
            [
             0.8,
             "#7fbc41"
            ],
            [
             0.9,
             "#4d9221"
            ],
            [
             1,
             "#276419"
            ]
           ],
           "sequential": [
            [
             0,
             "#0d0887"
            ],
            [
             0.1111111111111111,
             "#46039f"
            ],
            [
             0.2222222222222222,
             "#7201a8"
            ],
            [
             0.3333333333333333,
             "#9c179e"
            ],
            [
             0.4444444444444444,
             "#bd3786"
            ],
            [
             0.5555555555555556,
             "#d8576b"
            ],
            [
             0.6666666666666666,
             "#ed7953"
            ],
            [
             0.7777777777777778,
             "#fb9f3a"
            ],
            [
             0.8888888888888888,
             "#fdca26"
            ],
            [
             1,
             "#f0f921"
            ]
           ],
           "sequentialminus": [
            [
             0,
             "#0d0887"
            ],
            [
             0.1111111111111111,
             "#46039f"
            ],
            [
             0.2222222222222222,
             "#7201a8"
            ],
            [
             0.3333333333333333,
             "#9c179e"
            ],
            [
             0.4444444444444444,
             "#bd3786"
            ],
            [
             0.5555555555555556,
             "#d8576b"
            ],
            [
             0.6666666666666666,
             "#ed7953"
            ],
            [
             0.7777777777777778,
             "#fb9f3a"
            ],
            [
             0.8888888888888888,
             "#fdca26"
            ],
            [
             1,
             "#f0f921"
            ]
           ]
          },
          "colorway": [
           "#636efa",
           "#EF553B",
           "#00cc96",
           "#ab63fa",
           "#FFA15A",
           "#19d3f3",
           "#FF6692",
           "#B6E880",
           "#FF97FF",
           "#FECB52"
          ],
          "font": {
           "color": "#2a3f5f"
          },
          "geo": {
           "bgcolor": "white",
           "lakecolor": "white",
           "landcolor": "#E5ECF6",
           "showlakes": true,
           "showland": true,
           "subunitcolor": "white"
          },
          "hoverlabel": {
           "align": "left"
          },
          "hovermode": "closest",
          "mapbox": {
           "style": "light"
          },
          "paper_bgcolor": "white",
          "plot_bgcolor": "#E5ECF6",
          "polar": {
           "angularaxis": {
            "gridcolor": "white",
            "linecolor": "white",
            "ticks": ""
           },
           "bgcolor": "#E5ECF6",
           "radialaxis": {
            "gridcolor": "white",
            "linecolor": "white",
            "ticks": ""
           }
          },
          "scene": {
           "xaxis": {
            "backgroundcolor": "#E5ECF6",
            "gridcolor": "white",
            "gridwidth": 2,
            "linecolor": "white",
            "showbackground": true,
            "ticks": "",
            "zerolinecolor": "white"
           },
           "yaxis": {
            "backgroundcolor": "#E5ECF6",
            "gridcolor": "white",
            "gridwidth": 2,
            "linecolor": "white",
            "showbackground": true,
            "ticks": "",
            "zerolinecolor": "white"
           },
           "zaxis": {
            "backgroundcolor": "#E5ECF6",
            "gridcolor": "white",
            "gridwidth": 2,
            "linecolor": "white",
            "showbackground": true,
            "ticks": "",
            "zerolinecolor": "white"
           }
          },
          "shapedefaults": {
           "line": {
            "color": "#2a3f5f"
           }
          },
          "ternary": {
           "aaxis": {
            "gridcolor": "white",
            "linecolor": "white",
            "ticks": ""
           },
           "baxis": {
            "gridcolor": "white",
            "linecolor": "white",
            "ticks": ""
           },
           "bgcolor": "#E5ECF6",
           "caxis": {
            "gridcolor": "white",
            "linecolor": "white",
            "ticks": ""
           }
          },
          "title": {
           "x": 0.05
          },
          "xaxis": {
           "automargin": true,
           "gridcolor": "white",
           "linecolor": "white",
           "ticks": "",
           "title": {
            "standoff": 15
           },
           "zerolinecolor": "white",
           "zerolinewidth": 2
          },
          "yaxis": {
           "automargin": true,
           "gridcolor": "white",
           "linecolor": "white",
           "ticks": "",
           "title": {
            "standoff": 15
           },
           "zerolinecolor": "white",
           "zerolinewidth": 2
          }
         }
        },
        "xaxis": {
         "anchor": "y",
         "domain": [
          0,
          1
         ],
         "title": {
          "text": "Nickname"
         }
        },
        "yaxis": {
         "anchor": "x",
         "domain": [
          0,
          1
         ],
         "title": {
          "text": "Blocked_Shots"
         }
        }
       }
      },
      "text/html": [
       "<div>\n",
       "        \n",
       "        \n",
       "            <div id=\"4f9b5ac5-4fbe-44fd-b687-f074bb32ddac\" class=\"plotly-graph-div\" style=\"height:525px; width:100%;\"></div>\n",
       "            <script type=\"text/javascript\">\n",
       "                require([\"plotly\"], function(Plotly) {\n",
       "                    window.PLOTLYENV=window.PLOTLYENV || {};\n",
       "                    \n",
       "                if (document.getElementById(\"4f9b5ac5-4fbe-44fd-b687-f074bb32ddac\")) {\n",
       "                    Plotly.newPlot(\n",
       "                        '4f9b5ac5-4fbe-44fd-b687-f074bb32ddac',\n",
       "                        [{\"alignmentgroup\": \"True\", \"customdata\": [[\"Pistons GT\"], [\"Pacers Gaming\"], [\"Raptors Uprising GC\"], [\"Grizz Gaming\"], [\"Bucks Gaming\"], [\"Knicks Gaming\"], [\"Warriors Gaming Squad\"], [\"Blazer5 Gaming\"], [\"76ers GC\"], [\"Magic Gaming\"], [\"Cavs Legion GC\"], [\"Heat Check Gaming\"], [\"NetsGC\"], [\"Hawks Talon GC\"], [\"Kings Guard Gaming\"], [\"T-Wolves Gaming\"], [\"Celtics Crossover Gaming\"], [\"Wizards District Gaming\"], [\"Jazz Gaming\"], [\"Mavs Gaming\"], [\"Lakers Gaming\"]], \"hoverlabel\": {\"namelength\": 0}, \"hovertemplate\": \"Nickname=%{customdata[0]}<br>Blocked_Shots=%{marker.color}\", \"legendgroup\": \"\", \"marker\": {\"color\": [26, 28, 31, 31, 31, 32, 32, 33, 33, 33, 34, 34, 36, 36, 38, 38, 39, 39, 42, 44, 49], \"coloraxis\": \"coloraxis\"}, \"name\": \"\", \"offsetgroup\": \"\", \"orientation\": \"v\", \"showlegend\": false, \"textposition\": \"auto\", \"type\": \"bar\", \"x\": [\"Pistons GT\", \"Pacers Gaming\", \"Raptors Uprising GC\", \"Grizz Gaming\", \"Bucks Gaming\", \"Knicks Gaming\", \"Warriors Gaming Squad\", \"Blazer5 Gaming\", \"76ers GC\", \"Magic Gaming\", \"Cavs Legion GC\", \"Heat Check Gaming\", \"NetsGC\", \"Hawks Talon GC\", \"Kings Guard Gaming\", \"T-Wolves Gaming\", \"Celtics Crossover Gaming\", \"Wizards District Gaming\", \"Jazz Gaming\", \"Mavs Gaming\", \"Lakers Gaming\"], \"xaxis\": \"x\", \"y\": [26, 28, 31, 31, 31, 32, 32, 33, 33, 33, 34, 34, 36, 36, 38, 38, 39, 39, 42, 44, 49], \"yaxis\": \"y\"}],\n",
       "                        {\"barmode\": \"relative\", \"coloraxis\": {\"colorbar\": {\"title\": {\"text\": \"Blocked_Shots\"}}, \"colorscale\": [[0.0, \"#0d0887\"], [0.1111111111111111, \"#46039f\"], [0.2222222222222222, \"#7201a8\"], [0.3333333333333333, \"#9c179e\"], [0.4444444444444444, \"#bd3786\"], [0.5555555555555556, \"#d8576b\"], [0.6666666666666666, \"#ed7953\"], [0.7777777777777778, \"#fb9f3a\"], [0.8888888888888888, \"#fdca26\"], [1.0, \"#f0f921\"]]}, \"legend\": {\"tracegroupgap\": 0}, \"margin\": {\"t\": 60}, \"template\": {\"data\": {\"bar\": [{\"error_x\": {\"color\": \"#2a3f5f\"}, \"error_y\": {\"color\": \"#2a3f5f\"}, \"marker\": {\"line\": {\"color\": \"#E5ECF6\", \"width\": 0.5}}, \"type\": \"bar\"}], \"barpolar\": [{\"marker\": {\"line\": {\"color\": \"#E5ECF6\", \"width\": 0.5}}, \"type\": \"barpolar\"}], \"carpet\": [{\"aaxis\": {\"endlinecolor\": \"#2a3f5f\", \"gridcolor\": \"white\", \"linecolor\": \"white\", \"minorgridcolor\": \"white\", \"startlinecolor\": \"#2a3f5f\"}, \"baxis\": {\"endlinecolor\": \"#2a3f5f\", \"gridcolor\": \"white\", \"linecolor\": \"white\", \"minorgridcolor\": \"white\", \"startlinecolor\": \"#2a3f5f\"}, \"type\": \"carpet\"}], \"choropleth\": [{\"colorbar\": {\"outlinewidth\": 0, \"ticks\": \"\"}, \"type\": \"choropleth\"}], \"contour\": [{\"colorbar\": {\"outlinewidth\": 0, \"ticks\": \"\"}, \"colorscale\": [[0.0, \"#0d0887\"], [0.1111111111111111, \"#46039f\"], [0.2222222222222222, \"#7201a8\"], [0.3333333333333333, \"#9c179e\"], [0.4444444444444444, \"#bd3786\"], [0.5555555555555556, \"#d8576b\"], [0.6666666666666666, \"#ed7953\"], [0.7777777777777778, \"#fb9f3a\"], [0.8888888888888888, \"#fdca26\"], [1.0, \"#f0f921\"]], \"type\": \"contour\"}], \"contourcarpet\": [{\"colorbar\": {\"outlinewidth\": 0, \"ticks\": \"\"}, \"type\": \"contourcarpet\"}], \"heatmap\": [{\"colorbar\": {\"outlinewidth\": 0, \"ticks\": \"\"}, \"colorscale\": [[0.0, \"#0d0887\"], [0.1111111111111111, \"#46039f\"], [0.2222222222222222, \"#7201a8\"], [0.3333333333333333, \"#9c179e\"], [0.4444444444444444, \"#bd3786\"], [0.5555555555555556, \"#d8576b\"], [0.6666666666666666, \"#ed7953\"], [0.7777777777777778, \"#fb9f3a\"], [0.8888888888888888, \"#fdca26\"], [1.0, \"#f0f921\"]], \"type\": \"heatmap\"}], \"heatmapgl\": [{\"colorbar\": {\"outlinewidth\": 0, \"ticks\": \"\"}, \"colorscale\": [[0.0, \"#0d0887\"], [0.1111111111111111, \"#46039f\"], [0.2222222222222222, \"#7201a8\"], [0.3333333333333333, \"#9c179e\"], [0.4444444444444444, \"#bd3786\"], [0.5555555555555556, \"#d8576b\"], [0.6666666666666666, \"#ed7953\"], [0.7777777777777778, \"#fb9f3a\"], [0.8888888888888888, \"#fdca26\"], [1.0, \"#f0f921\"]], \"type\": \"heatmapgl\"}], \"histogram\": [{\"marker\": {\"colorbar\": {\"outlinewidth\": 0, \"ticks\": \"\"}}, \"type\": \"histogram\"}], \"histogram2d\": [{\"colorbar\": {\"outlinewidth\": 0, \"ticks\": \"\"}, \"colorscale\": [[0.0, \"#0d0887\"], [0.1111111111111111, \"#46039f\"], [0.2222222222222222, \"#7201a8\"], [0.3333333333333333, \"#9c179e\"], [0.4444444444444444, \"#bd3786\"], [0.5555555555555556, \"#d8576b\"], [0.6666666666666666, \"#ed7953\"], [0.7777777777777778, \"#fb9f3a\"], [0.8888888888888888, \"#fdca26\"], [1.0, \"#f0f921\"]], \"type\": \"histogram2d\"}], \"histogram2dcontour\": [{\"colorbar\": {\"outlinewidth\": 0, \"ticks\": \"\"}, \"colorscale\": [[0.0, \"#0d0887\"], [0.1111111111111111, \"#46039f\"], [0.2222222222222222, \"#7201a8\"], [0.3333333333333333, \"#9c179e\"], [0.4444444444444444, \"#bd3786\"], [0.5555555555555556, \"#d8576b\"], [0.6666666666666666, \"#ed7953\"], [0.7777777777777778, \"#fb9f3a\"], [0.8888888888888888, \"#fdca26\"], [1.0, \"#f0f921\"]], \"type\": \"histogram2dcontour\"}], \"mesh3d\": [{\"colorbar\": {\"outlinewidth\": 0, \"ticks\": \"\"}, \"type\": \"mesh3d\"}], \"parcoords\": [{\"line\": {\"colorbar\": {\"outlinewidth\": 0, \"ticks\": \"\"}}, \"type\": \"parcoords\"}], \"pie\": [{\"automargin\": true, \"type\": \"pie\"}], \"scatter\": [{\"marker\": {\"colorbar\": {\"outlinewidth\": 0, \"ticks\": \"\"}}, \"type\": \"scatter\"}], \"scatter3d\": [{\"line\": {\"colorbar\": {\"outlinewidth\": 0, \"ticks\": \"\"}}, \"marker\": {\"colorbar\": {\"outlinewidth\": 0, \"ticks\": \"\"}}, \"type\": \"scatter3d\"}], \"scattercarpet\": [{\"marker\": {\"colorbar\": {\"outlinewidth\": 0, \"ticks\": \"\"}}, \"type\": \"scattercarpet\"}], \"scattergeo\": [{\"marker\": {\"colorbar\": {\"outlinewidth\": 0, \"ticks\": \"\"}}, \"type\": \"scattergeo\"}], \"scattergl\": [{\"marker\": {\"colorbar\": {\"outlinewidth\": 0, \"ticks\": \"\"}}, \"type\": \"scattergl\"}], \"scattermapbox\": [{\"marker\": {\"colorbar\": {\"outlinewidth\": 0, \"ticks\": \"\"}}, \"type\": \"scattermapbox\"}], \"scatterpolar\": [{\"marker\": {\"colorbar\": {\"outlinewidth\": 0, \"ticks\": \"\"}}, \"type\": \"scatterpolar\"}], \"scatterpolargl\": [{\"marker\": {\"colorbar\": {\"outlinewidth\": 0, \"ticks\": \"\"}}, \"type\": \"scatterpolargl\"}], \"scatterternary\": [{\"marker\": {\"colorbar\": {\"outlinewidth\": 0, \"ticks\": \"\"}}, \"type\": \"scatterternary\"}], \"surface\": [{\"colorbar\": {\"outlinewidth\": 0, \"ticks\": \"\"}, \"colorscale\": [[0.0, \"#0d0887\"], [0.1111111111111111, \"#46039f\"], [0.2222222222222222, \"#7201a8\"], [0.3333333333333333, \"#9c179e\"], [0.4444444444444444, \"#bd3786\"], [0.5555555555555556, \"#d8576b\"], [0.6666666666666666, \"#ed7953\"], [0.7777777777777778, \"#fb9f3a\"], [0.8888888888888888, \"#fdca26\"], [1.0, \"#f0f921\"]], \"type\": \"surface\"}], \"table\": [{\"cells\": {\"fill\": {\"color\": \"#EBF0F8\"}, \"line\": {\"color\": \"white\"}}, \"header\": {\"fill\": {\"color\": \"#C8D4E3\"}, \"line\": {\"color\": \"white\"}}, \"type\": \"table\"}]}, \"layout\": {\"annotationdefaults\": {\"arrowcolor\": \"#2a3f5f\", \"arrowhead\": 0, \"arrowwidth\": 1}, \"coloraxis\": {\"colorbar\": {\"outlinewidth\": 0, \"ticks\": \"\"}}, \"colorscale\": {\"diverging\": [[0, \"#8e0152\"], [0.1, \"#c51b7d\"], [0.2, \"#de77ae\"], [0.3, \"#f1b6da\"], [0.4, \"#fde0ef\"], [0.5, \"#f7f7f7\"], [0.6, \"#e6f5d0\"], [0.7, \"#b8e186\"], [0.8, \"#7fbc41\"], [0.9, \"#4d9221\"], [1, \"#276419\"]], \"sequential\": [[0.0, \"#0d0887\"], [0.1111111111111111, \"#46039f\"], [0.2222222222222222, \"#7201a8\"], [0.3333333333333333, \"#9c179e\"], [0.4444444444444444, \"#bd3786\"], [0.5555555555555556, \"#d8576b\"], [0.6666666666666666, \"#ed7953\"], [0.7777777777777778, \"#fb9f3a\"], [0.8888888888888888, \"#fdca26\"], [1.0, \"#f0f921\"]], \"sequentialminus\": [[0.0, \"#0d0887\"], [0.1111111111111111, \"#46039f\"], [0.2222222222222222, \"#7201a8\"], [0.3333333333333333, \"#9c179e\"], [0.4444444444444444, \"#bd3786\"], [0.5555555555555556, \"#d8576b\"], [0.6666666666666666, \"#ed7953\"], [0.7777777777777778, \"#fb9f3a\"], [0.8888888888888888, \"#fdca26\"], [1.0, \"#f0f921\"]]}, \"colorway\": [\"#636efa\", \"#EF553B\", \"#00cc96\", \"#ab63fa\", \"#FFA15A\", \"#19d3f3\", \"#FF6692\", \"#B6E880\", \"#FF97FF\", \"#FECB52\"], \"font\": {\"color\": \"#2a3f5f\"}, \"geo\": {\"bgcolor\": \"white\", \"lakecolor\": \"white\", \"landcolor\": \"#E5ECF6\", \"showlakes\": true, \"showland\": true, \"subunitcolor\": \"white\"}, \"hoverlabel\": {\"align\": \"left\"}, \"hovermode\": \"closest\", \"mapbox\": {\"style\": \"light\"}, \"paper_bgcolor\": \"white\", \"plot_bgcolor\": \"#E5ECF6\", \"polar\": {\"angularaxis\": {\"gridcolor\": \"white\", \"linecolor\": \"white\", \"ticks\": \"\"}, \"bgcolor\": \"#E5ECF6\", \"radialaxis\": {\"gridcolor\": \"white\", \"linecolor\": \"white\", \"ticks\": \"\"}}, \"scene\": {\"xaxis\": {\"backgroundcolor\": \"#E5ECF6\", \"gridcolor\": \"white\", \"gridwidth\": 2, \"linecolor\": \"white\", \"showbackground\": true, \"ticks\": \"\", \"zerolinecolor\": \"white\"}, \"yaxis\": {\"backgroundcolor\": \"#E5ECF6\", \"gridcolor\": \"white\", \"gridwidth\": 2, \"linecolor\": \"white\", \"showbackground\": true, \"ticks\": \"\", \"zerolinecolor\": \"white\"}, \"zaxis\": {\"backgroundcolor\": \"#E5ECF6\", \"gridcolor\": \"white\", \"gridwidth\": 2, \"linecolor\": \"white\", \"showbackground\": true, \"ticks\": \"\", \"zerolinecolor\": \"white\"}}, \"shapedefaults\": {\"line\": {\"color\": \"#2a3f5f\"}}, \"ternary\": {\"aaxis\": {\"gridcolor\": \"white\", \"linecolor\": \"white\", \"ticks\": \"\"}, \"baxis\": {\"gridcolor\": \"white\", \"linecolor\": \"white\", \"ticks\": \"\"}, \"bgcolor\": \"#E5ECF6\", \"caxis\": {\"gridcolor\": \"white\", \"linecolor\": \"white\", \"ticks\": \"\"}}, \"title\": {\"x\": 0.05}, \"xaxis\": {\"automargin\": true, \"gridcolor\": \"white\", \"linecolor\": \"white\", \"ticks\": \"\", \"title\": {\"standoff\": 15}, \"zerolinecolor\": \"white\", \"zerolinewidth\": 2}, \"yaxis\": {\"automargin\": true, \"gridcolor\": \"white\", \"linecolor\": \"white\", \"ticks\": \"\", \"title\": {\"standoff\": 15}, \"zerolinecolor\": \"white\", \"zerolinewidth\": 2}}}, \"xaxis\": {\"anchor\": \"y\", \"domain\": [0.0, 1.0], \"title\": {\"text\": \"Nickname\"}}, \"yaxis\": {\"anchor\": \"x\", \"domain\": [0.0, 1.0], \"title\": {\"text\": \"Blocked_Shots\"}}},\n",
       "                        {\"responsive\": true}\n",
       "                    ).then(function(){\n",
       "                            \n",
       "var gd = document.getElementById('4f9b5ac5-4fbe-44fd-b687-f074bb32ddac');\n",
       "var x = new MutationObserver(function (mutations, observer) {{\n",
       "        var display = window.getComputedStyle(gd).display;\n",
       "        if (!display || display === 'none') {{\n",
       "            console.log([gd, 'removed!']);\n",
       "            Plotly.purge(gd);\n",
       "            observer.disconnect();\n",
       "        }}\n",
       "}});\n",
       "\n",
       "// Listen for the removal of the full notebook cells\n",
       "var notebookContainer = gd.closest('#notebook-container');\n",
       "if (notebookContainer) {{\n",
       "    x.observe(notebookContainer, {childList: true});\n",
       "}}\n",
       "\n",
       "// Listen for the clearing of the current output cell\n",
       "var outputEl = gd.closest('.output');\n",
       "if (outputEl) {{\n",
       "    x.observe(outputEl, {childList: true});\n",
       "}}\n",
       "\n",
       "                        })\n",
       "                };\n",
       "                });\n",
       "            </script>\n",
       "        </div>"
      ]
     },
     "metadata": {},
     "output_type": "display_data"
    }
   ],
   "source": [
    "#['Team_ID','Nickname','Games_Played','Sum_Player_MIN','Team_MIN','Points','Field_Goals','Field_Goals_Attempted',\n",
    "# 'FG_pct','Three_Pointers','Three_Pointers_Attempted','3P_pct','Offensive_Rebounds','Defensive_Rebounds',\n",
    "# 'Assists','Steals','Turnovers','Blocked_Shots','Points1','PT_Differential','Opp_FGM','Opp_FGA','Opp_FG_pct',\n",
    "#'Opp_3PM','Opp_3PA','Opp_3P_pct','Opp_OREB','Opp_DREB','Opp_AST','Opp_STL','Opp_TOV','Opp_BLK']\n",
    "barplt_teams(teams,\"Blocked_Shots\")"
   ]
  },
  {
   "cell_type": "code",
   "execution_count": null,
   "metadata": {},
   "outputs": [],
   "source": []
  }
 ],
 "metadata": {
  "kernelspec": {
   "display_name": "Python 3",
   "language": "python",
   "name": "python3"
  },
  "language_info": {
   "codemirror_mode": {
    "name": "ipython",
    "version": 3
   },
   "file_extension": ".py",
   "mimetype": "text/x-python",
   "name": "python",
   "nbconvert_exporter": "python",
   "pygments_lexer": "ipython3",
   "version": "3.6.9"
  }
 },
 "nbformat": 4,
 "nbformat_minor": 2
}
